{
 "cells": [
  {
   "cell_type": "markdown",
   "metadata": {},
   "source": [
    "# My AirBnB Analysis\n",
    "\n",
    "\n"
   ]
  },
  {
   "cell_type": "markdown",
   "metadata": {},
   "source": [
    "## 1st Task :"
   ]
  },
  {
   "cell_type": "markdown",
   "metadata": {},
   "source": [
    "#### Find the number of AirBnB listings per city. Show the information in tabular format, and also make a plot."
   ]
  },
  {
   "cell_type": "markdown",
   "metadata": {},
   "source": [
    "#### We use 12-month data. We find the airbnb listings per season (from scraping date to scraping date) and calculate the average listings  to account for seasonal fluctuations, regulatory changes, and event-driven variations, providing a more accurate and comprehensive representation of Airbnb listings existence throughout the year. We check some significant changes later.\n",
    "\n"
   ]
  },
  {
   "cell_type": "markdown",
   "metadata": {},
   "source": [
    "Import pandas library for files and data handling"
   ]
  },
  {
   "cell_type": "code",
   "execution_count": 48,
   "metadata": {},
   "outputs": [],
   "source": [
    "import pandas as pd"
   ]
  },
  {
   "cell_type": "markdown",
   "metadata": {},
   "source": [
    "Pass the cities in a list for the processing"
   ]
  },
  {
   "cell_type": "code",
   "execution_count": 49,
   "metadata": {},
   "outputs": [],
   "source": [
    "# Load listings data for all cities\n",
    "# List of cities\n",
    "cities = [\n",
    "    'Amsterdam', 'Athens', 'Barcelona', 'Berlin', 'Copenhagen',\n",
    "    'Dublin', 'Lisbon', 'London', 'Madrid', 'Paris', 'Rome', 'Venice', 'Vienna'\n",
    "]"
   ]
  },
  {
   "cell_type": "markdown",
   "metadata": {},
   "source": [
    "Use the os library, for handling directories and filepaths"
   ]
  },
  {
   "cell_type": "code",
   "execution_count": 50,
   "metadata": {},
   "outputs": [],
   "source": [
    "import os\n",
    "\n",
    "# Initialize an empty dictionary to store the data\n",
    "city_data = {}\n",
    "# Initialize an empty dictionary to store the inactivity data\n",
    "city_inactivity = {}    \n",
    "\n",
    "# Get the current working directory\n",
    "current_directory = os.getcwd()\n",
    "\n"
   ]
  },
  {
   "cell_type": "markdown",
   "metadata": {},
   "source": [
    "Iterate each city's folder, and then all the listings file, in order to take the ids and scraping date for each data scraping.\n",
    "Create a dict with \"cities\" as keys, unique ids and scraping date as values. \n",
    "The number of values for each key is the number of scrapes per city during the last year. Its generally 4 scrapes, instead of Berlin that is 3."
   ]
  },
  {
   "cell_type": "markdown",
   "metadata": {},
   "source": [
    "Also, evaluate the **inactivity** of the listings. Inacitivity is when a listing is not actual active, i.e. not rented at all. Consider that it's not rented when it has not reviews in the last year. Create a dict with \"cities\" as keys, and the number of inactive listings and scraping dates as values."
   ]
  },
  {
   "cell_type": "markdown",
   "metadata": {},
   "source": [
    "Capture the average inactivity also  in the plots."
   ]
  },
  {
   "cell_type": "code",
   "execution_count": 51,
   "metadata": {},
   "outputs": [],
   "source": [
    "# Initialize an empty dictionary to store the dataframes for each city, in order to not read the files multiple times\n",
    "city_dfs = {}\n",
    "# Loop through each city in the list\n",
    "for city in cities:\n",
    "    # Construct the relative path to the folder named after the city\n",
    "    folder_path = os.path.join(current_directory, city, \"listings\")\n",
    "    # Check if the folder exists\n",
    "    if os.path.exists(folder_path) and os.path.isdir(folder_path):\n",
    "        # Initialize empty lists to store information about each file\n",
    "        city_files_data = []\n",
    "        city_files_inactivity = []\n",
    "        # Initialize the list for the city in city_dfs\n",
    "        city_dfs[city] = []\n",
    "        # List all CSV files in the folder\n",
    "        for file_name in os.listdir(folder_path):\n",
    "            if file_name.endswith('.gz'):\n",
    "                # Construct the full file path\n",
    "                file_path = os.path.join(folder_path, file_name)\n",
    "\n",
    "                # Read the CSV file using pandas\n",
    "                try:\n",
    "                    df = pd.read_csv(file_path)\n",
    "                    \n",
    "                    # Count the number of unique IDs in this file\n",
    "                    num_unique_ids = len(df['id'].unique())\n",
    "                    # Get the scrape date (assuming it's a single value for the file)\n",
    "                    scrape_date = df['calendar_last_scraped'].iloc[0]\n",
    "                    # Append the [number of unique IDs, scrape date] to the city's data list\n",
    "                    city_files_data.append([num_unique_ids, scrape_date])\n",
    "\n",
    "                    # Count the number of inactive listings (number of reviews in the last 12 months is 0)\n",
    "                    inactive_listings = (df['number_of_reviews_ltm'] == 0).sum()\n",
    "                    # Append the number of inactive listings to the city's inactivity list\n",
    "                    city_files_inactivity.append(inactive_listings)\n",
    "                    \n",
    "                    \n",
    "                    city_dfs[city].append(df)\n",
    "                except Exception as e:\n",
    "                    print(f\"Error reading {file_path}: {e}\")\n",
    "\n",
    "        # Add the city's data to the dictionary\n",
    "        city_data[city] = city_files_data\n",
    "        # Calculate the mean of inactive listings for the city\n",
    "        mean_inactive_listings = sum(city_files_inactivity) / len(city_files_inactivity) if city_files_inactivity else 0\n",
    "        city_inactivity[city] = mean_inactive_listings\n",
    "    else:\n",
    "        print(f\"Folder for {city} does not exist or is not a directory.\")\n",
    "\n"
   ]
  },
  {
   "cell_type": "markdown",
   "metadata": {},
   "source": [
    "#### Based on the results, there are noticeable fluctuations in the number of Airbnb listings across different periods. A prime example is Paris, where the number of listings increased by 20,000 (30%) from December 2023 to June 2024, likely in anticipation of the Olympic Games scheduled for summer 2024. Conversely, a significant decline was observed in Dublin, where listings decreased by approximately 4,300 (about 50%, from December 2023 to 22 March 2024).This makes sense, as the most important holiday for the Irish people is St. Patrick's Day, with thousands of people visiting Dublin on those days.. Therefore, we will use the average number of listings from the previous year's records for each city as a reference point.\n",
    "\n",
    "*source :*  \n",
    "https://news.airbnb.com/unprecedented-interest-in-the-paris-region-during-olympic-games-paris-2024/#:~:text=Data%20released%20today%20by%20Airbnb%20shows%20a%20significant,last%20year%20%E2%80%93%20that%E2%80%99s%20an%20astonishing%2010%2C000%25%20increase.  \n",
    "https://www.hospitalitynet.org/news/4122778.html#:~:text=During%20the%20Olympic%20period%20%28July%2026%2C%202024%20to,by%20nearly%2040%25%20compared%20to%20a%20year%20ago.\n",
    "https://www.rte.ie/brainstorm/2022/0314/1286255-st-patricks-day-tourism-business/"
   ]
  },
  {
   "cell_type": "markdown",
   "metadata": {},
   "source": [
    "For checking our position about St. Patrick's Day, we find the date with the greater number of unavailable listings for Dublin."
   ]
  },
  {
   "cell_type": "code",
   "execution_count": 52,
   "metadata": {},
   "outputs": [
    {
     "name": "stdout",
     "output_type": "stream",
     "text": [
      "Date with the maximum count of unique ids with availability = 'f': 2024-03-16, Count: 7901\n"
     ]
    }
   ],
   "source": [
    "import os \n",
    "import pandas as pd\n",
    "\n",
    "# Define the path to the calendar.csv file, the data are scraped in 15/12/2024\n",
    "calendar_file_path = \"Dublin/calendar.csv\"\n",
    "\n",
    "# Read the CSV file using pandas\n",
    "calendar_df = pd.read_csv(calendar_file_path, low_memory=False)\n",
    "\n",
    "# Group by date and count the number of unique ids with availability = 'f'\n",
    "date_grouped = calendar_df[calendar_df['available'] == 'f'].groupby('date')['listing_id'].nunique()\n",
    "\n",
    "# Find the date with the maximum count of unique ids\n",
    "max_date = date_grouped.idxmax()\n",
    "max_count = date_grouped.max()\n",
    "\n",
    "print(f\"Date with the maximum count of unique ids with availability = 'f': {max_date}, Count: {max_count}\")"
   ]
  },
  {
   "cell_type": "markdown",
   "metadata": {},
   "source": [
    "The date is 16/03/2024, 1 day before Saint Patrick's Day. Cool!"
   ]
  },
  {
   "cell_type": "markdown",
   "metadata": {},
   "source": [
    "#### Continue with the procecude"
   ]
  },
  {
   "cell_type": "markdown",
   "metadata": {},
   "source": [
    "Aggregate the unique ids of each scraping for each city. Then, calculate the average amount of ids, in order to find the average amount of available airbnbs per city during the last year."
   ]
  },
  {
   "cell_type": "code",
   "execution_count": 53,
   "metadata": {},
   "outputs": [],
   "source": [
    "average_listings = {}\n",
    "\n",
    "for city, data in city_data.items():\n",
    "    if data:\n",
    "        total_ids = sum(item[0] for item in data)\n",
    "        average_ids = total_ids / len(data)\n",
    "        average_listings[city] = average_ids\n"
   ]
  },
  {
   "cell_type": "markdown",
   "metadata": {},
   "source": [
    "Create a tabular view of airbnb listings for all the cities"
   ]
  },
  {
   "cell_type": "code",
   "execution_count": 54,
   "metadata": {},
   "outputs": [
    {
     "data": {
      "text/html": [
       "<div>\n",
       "<style scoped>\n",
       "    .dataframe tbody tr th:only-of-type {\n",
       "        vertical-align: middle;\n",
       "    }\n",
       "\n",
       "    .dataframe tbody tr th {\n",
       "        vertical-align: top;\n",
       "    }\n",
       "\n",
       "    .dataframe thead th {\n",
       "        text-align: right;\n",
       "    }\n",
       "</style>\n",
       "<table border=\"1\" class=\"dataframe\">\n",
       "  <thead>\n",
       "    <tr style=\"text-align: right;\">\n",
       "      <th></th>\n",
       "      <th>City</th>\n",
       "      <th>AirBnB Listings</th>\n",
       "    </tr>\n",
       "  </thead>\n",
       "  <tbody>\n",
       "    <tr>\n",
       "      <th>0</th>\n",
       "      <td>Amsterdam</td>\n",
       "      <td>9163</td>\n",
       "    </tr>\n",
       "    <tr>\n",
       "      <th>1</th>\n",
       "      <td>Athens</td>\n",
       "      <td>13218</td>\n",
       "    </tr>\n",
       "    <tr>\n",
       "      <th>2</th>\n",
       "      <td>Barcelona</td>\n",
       "      <td>18812</td>\n",
       "    </tr>\n",
       "    <tr>\n",
       "      <th>3</th>\n",
       "      <td>Berlin</td>\n",
       "      <td>13483</td>\n",
       "    </tr>\n",
       "    <tr>\n",
       "      <th>4</th>\n",
       "      <td>Copenhagen</td>\n",
       "      <td>19184</td>\n",
       "    </tr>\n",
       "    <tr>\n",
       "      <th>5</th>\n",
       "      <td>Dublin</td>\n",
       "      <td>6433</td>\n",
       "    </tr>\n",
       "    <tr>\n",
       "      <th>6</th>\n",
       "      <td>Lisbon</td>\n",
       "      <td>23354</td>\n",
       "    </tr>\n",
       "    <tr>\n",
       "      <th>7</th>\n",
       "      <td>London</td>\n",
       "      <td>93073</td>\n",
       "    </tr>\n",
       "    <tr>\n",
       "      <th>8</th>\n",
       "      <td>Madrid</td>\n",
       "      <td>26368</td>\n",
       "    </tr>\n",
       "    <tr>\n",
       "      <th>9</th>\n",
       "      <td>Paris</td>\n",
       "      <td>87518</td>\n",
       "    </tr>\n",
       "    <tr>\n",
       "      <th>10</th>\n",
       "      <td>Rome</td>\n",
       "      <td>31495</td>\n",
       "    </tr>\n",
       "    <tr>\n",
       "      <th>11</th>\n",
       "      <td>Venice</td>\n",
       "      <td>8080</td>\n",
       "    </tr>\n",
       "    <tr>\n",
       "      <th>12</th>\n",
       "      <td>Vienna</td>\n",
       "      <td>14684</td>\n",
       "    </tr>\n",
       "  </tbody>\n",
       "</table>\n",
       "</div>"
      ],
      "text/plain": [
       "          City  AirBnB Listings\n",
       "0    Amsterdam             9163\n",
       "1       Athens            13218\n",
       "2    Barcelona            18812\n",
       "3       Berlin            13483\n",
       "4   Copenhagen            19184\n",
       "5       Dublin             6433\n",
       "6       Lisbon            23354\n",
       "7       London            93073\n",
       "8       Madrid            26368\n",
       "9        Paris            87518\n",
       "10        Rome            31495\n",
       "11      Venice             8080\n",
       "12      Vienna            14684"
      ]
     },
     "execution_count": 54,
     "metadata": {},
     "output_type": "execute_result"
    }
   ],
   "source": [
    "\n",
    "df_average_listings = pd.DataFrame(list(average_listings.items()), columns=['City', 'AirBnB Listings'])\n",
    "df_average_listings['AirBnB Listings'] = df_average_listings['AirBnB Listings'].round().astype(int)\n",
    "df_average_listings"
   ]
  },
  {
   "cell_type": "markdown",
   "metadata": {},
   "source": [
    "Visualize the number of listings per city using a bar plot, with x-axis values increasing by 5,000"
   ]
  },
  {
   "cell_type": "code",
   "execution_count": 55,
   "metadata": {},
   "outputs": [],
   "source": [
    "import matplotlib.pyplot as plt\n",
    "import seaborn as sns\n",
    "import numpy as np"
   ]
  },
  {
   "cell_type": "code",
   "execution_count": 56,
   "metadata": {},
   "outputs": [
    {
     "data": {
      "image/png": "[encoded data removed]",
      "text/plain": [
       "<Figure size 1000x600 with 1 Axes>"
      ]
     },
     "metadata": {},
     "output_type": "display_data"
    }
   ],
   "source": [
    "\n",
    "# Sort the cities by total listings in descending order\n",
    "sorted_cities = sorted(average_listings.keys(), key=lambda x: average_listings[x], reverse=False)\n",
    "sorted_totals = [average_listings[city]/1000 for city in sorted_cities]\n",
    "sorted_inactives = [city_inactivity[city]/1000 for city in sorted_cities]\n",
    "sorted_actives = [total - inactive for total, inactive in zip(sorted_totals, sorted_inactives)]\n",
    "\n",
    "# Plot\n",
    "fig, ax = plt.subplots(figsize=(10, 6))\n",
    "ax.barh(sorted_cities, sorted_actives, label='Active Listings', color='darkblue')\n",
    "ax.barh(sorted_cities, sorted_inactives, left=sorted_actives, label='Inactive Listings', color='lightblue')\n",
    "\n",
    "# Customize the x-axis\n",
    "max_total = max(sorted_totals)\n",
    "x_ticks = np.arange(0, max_total + 5, 5)  # Increment by 5\n",
    "ax.set_xticks(x_ticks)\n",
    "\n",
    "# Labels and legend\n",
    "ax.set_ylabel('Cities')\n",
    "ax.set_xlabel('Number of Listings (in thousands)')\n",
    "ax.set_title('Total Listings with Inactive Listings as a Subset')\n",
    "ax.legend()\n",
    "\n",
    "# Show plot\n",
    "plt.show()\n",
    "\n"
   ]
  },
  {
   "cell_type": "markdown",
   "metadata": {},
   "source": [
    "## 2nd Task :"
   ]
  },
  {
   "cell_type": "markdown",
   "metadata": {},
   "source": [
    "#### Apart from the number of distinct listings, we are interested in the density, that is the number of AirBnB listings per 1,000 inhabitants, again for the latest 12 months period for which data is available. You must determine the number of inhabitants per city in the most appropriate way. Show the information in tabular format, and also make a plot."
   ]
  },
  {
   "cell_type": "markdown",
   "metadata": {},
   "source": [
    "**Main Idea :**\n",
    "\n",
    "Try to find ways to make the density index as representative as possible for each city. We use the information of \"Explore Data\", in order to see the limits of the map for each city representation.\n",
    "\n",
    "For example, in Athens the files provide details for the listings of airbnb in the municipality of Athens, and not in the general area. So we take the population of the municipality. We do the same for the rest cities. Our source is City Population.\n",
    "\n",
    "*City Population* (https://citypopulation.de/) is a website that provides statistics on the populations of cities and towns globally. It sources its data from:\n",
    "\n",
    "- National Statistical Offices  \n",
    "- Local Authorities  \n",
    "- International Organizations (e.g., UN, World Bank)\n",
    "- Research Studies\n"
   ]
  },
  {
   "cell_type": "markdown",
   "metadata": {},
   "source": [
    "##### We start with :"
   ]
  },
  {
   "cell_type": "markdown",
   "metadata": {},
   "source": [
    "Create and initialize the Density Index and Population per City. "
   ]
  },
  {
   "cell_type": "code",
   "execution_count": 57,
   "metadata": {},
   "outputs": [],
   "source": [
    "Density_Index = {city: 0 for city in cities}\n",
    "Density_Index_Inactive = {city: 0 for city in cities}   \n",
    "population = {city: 0 for city in cities}"
   ]
  },
  {
   "cell_type": "markdown",
   "metadata": {},
   "source": [
    "*Amsterdam*\n",
    "  \n",
    "population : 931,298 (with Weesp area that is not included in airbnbs data)  \n",
    "Weesp : 19,370\n",
    "\n",
    "source: Statistics Netherlands (2024).\n",
    "https://www.citypopulation.de/en/netherlands/admin/noord_holland/0363__amsterdam  \n",
    "https://www.citypopulation.de/en/netherlands/noordholland/_/BK00759__weesp/"
   ]
  },
  {
   "cell_type": "code",
   "execution_count": 58,
   "metadata": {},
   "outputs": [],
   "source": [
    "population['Amsterdam'] = 931298 - 19370"
   ]
  },
  {
   "cell_type": "markdown",
   "metadata": {},
   "source": [
    "*Athens* \n",
    "\n",
    "population : 643,449\n",
    "\n",
    "source : General Secretariat of National Statistical Service of Greece (2021).  \n",
    "https://www.citypopulation.de/en/greece/attiki/4501__d%C3%ADmos_athina%C3%ADon/"
   ]
  },
  {
   "cell_type": "code",
   "execution_count": 59,
   "metadata": {},
   "outputs": [],
   "source": [
    "population['Athens'] = 643449"
   ]
  },
  {
   "cell_type": "markdown",
   "metadata": {},
   "source": [
    "*Barcelona* \n",
    "\n",
    "population : 1,655,956\n",
    "\n",
    "source : Instituto Nacional de Estadística, Madrid (2023)  \n",
    "https://www.citypopulation.de/en/spain/localities/barcelona/08019__barcelona/"
   ]
  },
  {
   "cell_type": "code",
   "execution_count": 60,
   "metadata": {},
   "outputs": [],
   "source": [
    "population['Barcelona'] = 1655956"
   ]
  },
  {
   "cell_type": "markdown",
   "metadata": {},
   "source": [
    "*Berlin* \n",
    "\n",
    "population :  3,596,999\n",
    "\n",
    "source : Statistisches Bundesamt Deutschland, Statistical Offices of the German States (2022).  \n",
    "https://www.citypopulation.de/en/germany/admin/berlin/11000__berlin/"
   ]
  },
  {
   "cell_type": "code",
   "execution_count": 61,
   "metadata": {},
   "outputs": [],
   "source": [
    "population['Berlin'] = 3596999"
   ]
  },
  {
   "cell_type": "markdown",
   "metadata": {},
   "source": [
    "*Copenhagen* \n",
    "\n",
    "population :  659,350  \n",
    "The map's limits include Frederiksberg area  \n",
    "Frederiksberg :  104,899\n",
    "\n",
    "source :Denmark Statistik (2024).  \n",
    "https://www.citypopulation.de/en/denmark/hovedstaden/101__k%C3%B8benhavn/  \n",
    "https://www.citypopulation.de/en/denmark/hovedstaden/147__frederiksberg/"
   ]
  },
  {
   "cell_type": "code",
   "execution_count": 62,
   "metadata": {},
   "outputs": [],
   "source": [
    "population['Copenhagen'] = 659350 + 104899"
   ]
  },
  {
   "cell_type": "markdown",
   "metadata": {},
   "source": [
    "*Dublin* \n",
    "\n",
    "Dublin, based on the maps, is consisted of 4 areas :  \n",
    "South Dublin (301,075)  \n",
    "Dun Laoghaire (26,525)  \n",
    "Dublin City (592,713)  \n",
    "Fingal (330,506)\n",
    "\n",
    "source :Central Statistics Office, Ireland (2022).  \n",
    "https://www.citypopulation.de/en/ireland/admin/leinster/DC__dublin_city/\n",
    "https://www.citypopulation.de/en/ireland/towns/FL__fingal/  \n",
    "https://www.citypopulation.de/en/ireland/towns/SD__south_dublin/  \n",
    "https://www.geodatos.net/en/cities/dun-laoghaire#:~:text=Population%2026%2C525%20World%20rank%3A,18%2C183%20Rank%20in%20Ireland%3A%2013"
   ]
  },
  {
   "cell_type": "code",
   "execution_count": 63,
   "metadata": {},
   "outputs": [],
   "source": [
    "population['Dublin'] = 301075 + 26525 + 592713 + 330506 "
   ]
  },
  {
   "cell_type": "markdown",
   "metadata": {},
   "source": [
    "*Lisbon* \n",
    "\n",
    "populaton : 2,275,385\n",
    "\n",
    "We observe a large variation between the coastal and the rest areas of lisbon, but if we look at the population data there is a similar variation.  \n",
    "\n",
    "\n",
    "\n",
    "\n",
    "source : Instituto Nacional de Estatística Portugal (2021) \n",
    "https://www.citypopulation.de/en/portugal/admin/11__lisboa/\n"
   ]
  },
  {
   "cell_type": "code",
   "execution_count": 64,
   "metadata": {},
   "outputs": [],
   "source": [
    "population['Lisbon'] = 2275385"
   ]
  },
  {
   "cell_type": "markdown",
   "metadata": {},
   "source": [
    "*London* \n",
    "\n",
    "populaton : 8,799,728\n",
    "\n",
    "source : UK National Statistics (2021) \n",
    "https://www.citypopulation.de/en/uk/england/admin/E12000007__london/"
   ]
  },
  {
   "cell_type": "code",
   "execution_count": 65,
   "metadata": {},
   "outputs": [],
   "source": [
    "population['London'] = 8799728"
   ]
  },
  {
   "cell_type": "markdown",
   "metadata": {},
   "source": [
    "*Madrid* \n",
    "\n",
    "populaton : 3,340,176\n",
    "\n",
    "source : Instituto Nacional de Estadística, Madrid (2023) \n",
    "https://www.citypopulation.de/en/spain/cities/?cityid=6678"
   ]
  },
  {
   "cell_type": "code",
   "execution_count": 66,
   "metadata": {},
   "outputs": [],
   "source": [
    "population['Madrid'] = 3340176"
   ]
  },
  {
   "cell_type": "markdown",
   "metadata": {},
   "source": [
    "*Paris* \n",
    "\n",
    "populaton : 2,133,111\n",
    "\n",
    "\n",
    "source : Institut National de la Statistique et des Études Économiques, France (2021) \n",
    "https://www.citypopulation.de/en/france/cityofparis/"
   ]
  },
  {
   "cell_type": "code",
   "execution_count": 67,
   "metadata": {},
   "outputs": [],
   "source": [
    "population['Paris'] = 2133111"
   ]
  },
  {
   "cell_type": "markdown",
   "metadata": {},
   "source": [
    "*Rome* \n",
    "\n",
    "populaton : 2,749,031\n",
    "\n",
    "\n",
    "source : Istituto Nazionale di Statistica Italia (2021) \n",
    "https://www.citypopulation.de/en/italy/romacity/\n"
   ]
  },
  {
   "cell_type": "code",
   "execution_count": 68,
   "metadata": {},
   "outputs": [],
   "source": [
    "population['Rome'] = 2749031"
   ]
  },
  {
   "cell_type": "markdown",
   "metadata": {},
   "source": [
    "*Venice* \n",
    "\n",
    "populaton : 250,369\n",
    "\n",
    "\n",
    "source : Istituto Nazionale di Statistica Italia (2024) \n",
    "https://www.citypopulation.de/en/italy/cities/veneto/?cityid=3212\n"
   ]
  },
  {
   "cell_type": "code",
   "execution_count": 69,
   "metadata": {},
   "outputs": [],
   "source": [
    "population['Venice'] = 250369"
   ]
  },
  {
   "cell_type": "markdown",
   "metadata": {},
   "source": [
    "*Vienna* \n",
    "\n",
    "populaton : 2,005,760\n",
    "\n",
    "\n",
    "source : Statistik Austria (2024) \n",
    "https://www.citypopulation.de/en/austria/cities/?cityid=103"
   ]
  },
  {
   "cell_type": "code",
   "execution_count": 70,
   "metadata": {},
   "outputs": [],
   "source": [
    "population['Vienna'] = 2005760"
   ]
  },
  {
   "cell_type": "markdown",
   "metadata": {},
   "source": [
    "We have the adjusted population and the estimation about the average listings per city, and inacvtivity too.  \n",
    "Calculate the **Dencity Index**, the number of AirBnB total listings per 1,000 inhabitants for each city.  \n",
    "Also, calculate the **Dencity_Index_Inactive** as the number of AirBnB inactive listings per 1,000 inhabitants for each city."
   ]
  },
  {
   "cell_type": "code",
   "execution_count": 71,
   "metadata": {},
   "outputs": [],
   "source": [
    "for city in cities:\n",
    "    \n",
    "    Density_Index[city] = round(((average_listings[city] / population[city]) * 1000), 1)\n",
    "    Density_Index_Inactive[city] = round((city_inactivity[city] / population[city]) * 1000, 1)\n"
   ]
  },
  {
   "cell_type": "markdown",
   "metadata": {},
   "source": [
    "Show the information in tabular format"
   ]
  },
  {
   "cell_type": "code",
   "execution_count": 72,
   "metadata": {},
   "outputs": [
    {
     "data": {
      "text/html": [
       "<div>\n",
       "<style scoped>\n",
       "    .dataframe tbody tr th:only-of-type {\n",
       "        vertical-align: middle;\n",
       "    }\n",
       "\n",
       "    .dataframe tbody tr th {\n",
       "        vertical-align: top;\n",
       "    }\n",
       "\n",
       "    .dataframe thead th {\n",
       "        text-align: right;\n",
       "    }\n",
       "</style>\n",
       "<table border=\"1\" class=\"dataframe\">\n",
       "  <thead>\n",
       "    <tr style=\"text-align: right;\">\n",
       "      <th></th>\n",
       "      <th>City</th>\n",
       "      <th>Total Listings per 1000 inhabitants</th>\n",
       "      <th>Inactive Listings per 1000 inhabitants</th>\n",
       "    </tr>\n",
       "  </thead>\n",
       "  <tbody>\n",
       "    <tr>\n",
       "      <th>0</th>\n",
       "      <td>Amsterdam</td>\n",
       "      <td>10.0</td>\n",
       "      <td>2.9</td>\n",
       "    </tr>\n",
       "    <tr>\n",
       "      <th>1</th>\n",
       "      <td>Athens</td>\n",
       "      <td>20.5</td>\n",
       "      <td>5.2</td>\n",
       "    </tr>\n",
       "    <tr>\n",
       "      <th>2</th>\n",
       "      <td>Barcelona</td>\n",
       "      <td>11.4</td>\n",
       "      <td>4.5</td>\n",
       "    </tr>\n",
       "    <tr>\n",
       "      <th>3</th>\n",
       "      <td>Berlin</td>\n",
       "      <td>3.7</td>\n",
       "      <td>1.9</td>\n",
       "    </tr>\n",
       "    <tr>\n",
       "      <th>4</th>\n",
       "      <td>Copenhagen</td>\n",
       "      <td>25.1</td>\n",
       "      <td>8.0</td>\n",
       "    </tr>\n",
       "    <tr>\n",
       "      <th>5</th>\n",
       "      <td>Dublin</td>\n",
       "      <td>5.1</td>\n",
       "      <td>1.7</td>\n",
       "    </tr>\n",
       "    <tr>\n",
       "      <th>6</th>\n",
       "      <td>Lisbon</td>\n",
       "      <td>10.3</td>\n",
       "      <td>2.5</td>\n",
       "    </tr>\n",
       "    <tr>\n",
       "      <th>7</th>\n",
       "      <td>London</td>\n",
       "      <td>10.6</td>\n",
       "      <td>5.2</td>\n",
       "    </tr>\n",
       "    <tr>\n",
       "      <th>8</th>\n",
       "      <td>Madrid</td>\n",
       "      <td>7.9</td>\n",
       "      <td>2.7</td>\n",
       "    </tr>\n",
       "    <tr>\n",
       "      <th>9</th>\n",
       "      <td>Paris</td>\n",
       "      <td>41.0</td>\n",
       "      <td>19.9</td>\n",
       "    </tr>\n",
       "    <tr>\n",
       "      <th>10</th>\n",
       "      <td>Rome</td>\n",
       "      <td>11.5</td>\n",
       "      <td>3.1</td>\n",
       "    </tr>\n",
       "    <tr>\n",
       "      <th>11</th>\n",
       "      <td>Venice</td>\n",
       "      <td>32.3</td>\n",
       "      <td>6.6</td>\n",
       "    </tr>\n",
       "    <tr>\n",
       "      <th>12</th>\n",
       "      <td>Vienna</td>\n",
       "      <td>7.3</td>\n",
       "      <td>2.7</td>\n",
       "    </tr>\n",
       "  </tbody>\n",
       "</table>\n",
       "</div>"
      ],
      "text/plain": [
       "          City  Total Listings per 1000 inhabitants  \\\n",
       "0    Amsterdam                                 10.0   \n",
       "1       Athens                                 20.5   \n",
       "2    Barcelona                                 11.4   \n",
       "3       Berlin                                  3.7   \n",
       "4   Copenhagen                                 25.1   \n",
       "5       Dublin                                  5.1   \n",
       "6       Lisbon                                 10.3   \n",
       "7       London                                 10.6   \n",
       "8       Madrid                                  7.9   \n",
       "9        Paris                                 41.0   \n",
       "10        Rome                                 11.5   \n",
       "11      Venice                                 32.3   \n",
       "12      Vienna                                  7.3   \n",
       "\n",
       "    Inactive Listings per 1000 inhabitants  \n",
       "0                                      2.9  \n",
       "1                                      5.2  \n",
       "2                                      4.5  \n",
       "3                                      1.9  \n",
       "4                                      8.0  \n",
       "5                                      1.7  \n",
       "6                                      2.5  \n",
       "7                                      5.2  \n",
       "8                                      2.7  \n",
       "9                                     19.9  \n",
       "10                                     3.1  \n",
       "11                                     6.6  \n",
       "12                                     2.7  "
      ]
     },
     "execution_count": 72,
     "metadata": {},
     "output_type": "execute_result"
    }
   ],
   "source": [
    "df_density = pd.DataFrame({\n",
    "    'City': list(Density_Index.keys()),\n",
    "    'Total Listings per 1000 inhabitants': list(Density_Index.values()),\n",
    "    'Inactive Listings per 1000 inhabitants': [Density_Index_Inactive[city] for city in Density_Index.keys()]\n",
    "})\n",
    "df_density\n"
   ]
  },
  {
   "cell_type": "markdown",
   "metadata": {},
   "source": [
    "Make a plot."
   ]
  },
  {
   "cell_type": "code",
   "execution_count": 73,
   "metadata": {},
   "outputs": [
    {
     "data": {
      "image/png": "[encoded data removed]",
      "text/plain": [
       "<Figure size 1000x600 with 1 Axes>"
      ]
     },
     "metadata": {},
     "output_type": "display_data"
    }
   ],
   "source": [
    "\n",
    "# Sort the cities by total listings in descending order\n",
    "sorted_cities = sorted(Density_Index.keys(), key=lambda x: Density_Index[x], reverse=False)\n",
    "sorted_totals_Index = [Density_Index[city] for city in sorted_cities]\n",
    "sorted_inactivity_Index = [Density_Index_Inactive[city] for city in sorted_cities]\n",
    "sorted_activity_Index = [total - inactive for total, inactive in zip(sorted_totals_Index, sorted_inactivity_Index)]\n",
    "\n",
    "# Plot\n",
    "fig, ax = plt.subplots(figsize=(10, 6))\n",
    "ax.barh(sorted_cities, sorted_activity_Index, label='Active Listings', color='darkblue')\n",
    "ax.barh(sorted_cities, sorted_inactivity_Index, left=sorted_activity_Index, label='Inactive Listings', color='lightblue')\n",
    "\n",
    "# Customize the x-axis\n",
    "max_total = max(sorted_totals_Index)\n",
    "x_ticks = np.arange(0, max_total + 5, 5)  # Increment by 5\n",
    "ax.set_xticks(x_ticks)\n",
    "\n",
    "# Labels and legend\n",
    "ax.set_ylabel('Cities')\n",
    "ax.set_xlabel('Number of Listings per 1000 inhabitants')\n",
    "ax.set_title('Listings per 1000 inhabitants with Inactive Listings as a Subset')\n",
    "ax.legend()\n",
    "\n",
    "# Show plot\n",
    "plt.show()\n"
   ]
  },
  {
   "cell_type": "markdown",
   "metadata": {},
   "source": [
    "## 3rd Task :"
   ]
  },
  {
   "cell_type": "markdown",
   "metadata": {},
   "source": [
    "### We are interested in the AirBnB bookings and income per listing for each city. Calculate, for each city, the average number of nights a listing is booked, by assuming that half of the bookings have reviews, and that each booking is for three nights. Use the number of reviews for the last 12 months for each listing. To calculate the income per listing, multiply the price of each listing by the number of bookings you have calculated for the listing. Then, find the average of the income per listing for each city."
   ]
  },
  {
   "cell_type": "markdown",
   "metadata": {},
   "source": [
    "**Main Idea :**  \n",
    "\n",
    "We use a different approach to this question. Since we are calculating the average number of bookings and income per listing, we need to set a common time period of existence on the platform for all the listings we will use (different metrics yield listings that exist on the platform for 2, 6, or 12 months). For this reason we only take into account the listings that exist during the entire time on the platform (they exist on all scrapes) \n"
   ]
  },
  {
   "cell_type": "markdown",
   "metadata": {},
   "source": [
    "Regarding the prices of listings, for reasons mentioned earlier (e.g seasonal fluctuations, event-driven variations), we take as a measure the average of the listing's prices in all scrapes."
   ]
  },
  {
   "cell_type": "markdown",
   "metadata": {},
   "source": [
    "Remove the listings that have null values for all prices."
   ]
  },
  {
   "cell_type": "markdown",
   "metadata": {},
   "source": [
    "Remove the inactive listings (inactive listing: 0 reviews last 12 months)"
   ]
  },
  {
   "cell_type": "markdown",
   "metadata": {},
   "source": [
    "Create the \"bookings\" (2 * reviews). Each booking is for 3 days, so the maximum bookings for the last 12 months is 121 (3*121 = 363 days)"
   ]
  },
  {
   "cell_type": "markdown",
   "metadata": {},
   "source": [
    "The maximum price in Amsterdam is 9999, Athens is 60543, Rome is 74000, Vienna is 5683  \n",
    "\n",
    "That's too big numbers. From my browsing on the site I could not find prices like these. At the same time, my sources show me that the maximum price in Europe is 21,500 euros per night, specifically in Upper Engadine, Switzerland. So, that's a sign that we should definetely cut the outliers. We checked many values, until we conclude to a = 0.001 (0.1%)\n",
    "\n",
    "*source :* https://www.bluewin.ch/en/entertainment/europes-most-expensive-airbnb-is-in-switzerland-2360668.html#:~:text=The%20most%20expensive%20Airbnb%20offer%20in%20Europe%20is,a%20butler%20and%20access%20to%20the%20ski%20slopes.  \n",
    "\n",
    "*Bluewin is a Swiss news site owned by Swisscom, a major telecommunications company. It covers a variety of topics, including current affairs, culture, and entertainment.*\n",
    "\n",
    "\n",
    "\n"
   ]
  },
  {
   "cell_type": "code",
   "execution_count": 74,
   "metadata": {},
   "outputs": [],
   "source": [
    "cities = [\n",
    "    'Amsterdam', 'Athens', 'Barcelona', 'Berlin', 'Copenhagen',\n",
    "    'Dublin', 'Lisbon', 'London', 'Madrid', 'Paris', 'Rome', 'Venice', 'Vienna'\n",
    "]"
   ]
  },
  {
   "cell_type": "code",
   "execution_count": 75,
   "metadata": {},
   "outputs": [],
   "source": [
    "from functools import reduce\n",
    "\n",
    "# Initialize an empty dictionary to store the data\n",
    "income_data = {}\n",
    "# Initialize an empty dictionary to store the average listing income\n",
    "average_listing_income = {}\n",
    "for city in cities:\n",
    "    # Load only the necessary columns from each CSV file\n",
    "    df0 = city_dfs[city][0][['id', 'number_of_reviews_ltm']]\n",
    "    df1 = city_dfs[city][0][['id', 'price']]\n",
    "    df2 = city_dfs[city][1][['id', 'price']]\n",
    "    df3 = city_dfs[city][2][['id', 'price']]\n",
    "    if city != 'Berlin':\n",
    "        df4 = city_dfs[city][3][['id', 'price']]\n",
    "\n",
    "    # List of all DataFrames\n",
    "    if city != 'Berlin':\n",
    "\n",
    "        dfs = [df1, df2, df3, df4]\n",
    "    else:\n",
    "        dfs = [df1, df2, df3]\n",
    "\n",
    "    # Function to merge DataFrames with unique suffixes for 'price' columns\n",
    "    def merge_with_suffixes(dfs):\n",
    "        merged_df = dfs[0]\n",
    "        for i, df in enumerate(dfs[1:], start=2):\n",
    "            merged_df = pd.merge(merged_df, df, on='id', suffixes=(f'', f'_file{i}'))\n",
    "        return merged_df\n",
    "\n",
    "    # Merge all DataFrames\n",
    "    merged_df = merge_with_suffixes(dfs)\n",
    "\n",
    "    # Remove rows where all columns are null\n",
    "    merged_df = merged_df.dropna(how='all', subset=merged_df.columns.difference(['id']))\n",
    "    # Calculate the average price for each listing\n",
    "    price_columns = [col for col in merged_df.columns if 'price' in col]\n",
    "    merged_df['average_price'] = merged_df[price_columns].replace('[\\\\$,]', '', regex=True).astype(float).mean(axis=1)\n",
    "    # Drop all columns except 'average_price'\n",
    "    merged_df = merged_df[['id', 'average_price']]\n",
    "    # Display the number of reviews the last 12 months\n",
    "    merged_df = pd.merge(df0, merged_df, on='id')\n",
    "    # Remove listings with 0 reviews\n",
    "    merged_df = merged_df[merged_df['number_of_reviews_ltm'] > 0]\n",
    "\n",
    "\n",
    "    # Remove outliers for the prices (5th to 95th percentile)\n",
    "    lower_bound = merged_df['average_price'].quantile(0.001)\n",
    "    upper_bound = merged_df['average_price'].quantile(0.999)\n",
    "    merged_df = merged_df[(merged_df['average_price'] >= lower_bound) & (merged_df['average_price'] <= upper_bound)]\n",
    "\n",
    "\n",
    "    # Calculate the number of bookings by multiplying the number of reviews by 2\n",
    "    merged_df['bookings'] = merged_df['number_of_reviews_ltm'] * 2\n",
    "    # Cap the number of bookings at 120\n",
    "    merged_df['bookings'] = merged_df['bookings'].apply(lambda x: min(x, 121))\n",
    "    # Calculate the annual income for each listing\n",
    "    merged_df['annual_income'] = merged_df['bookings'] * 3 * merged_df['average_price']\n",
    "\n",
    "    # Add the city's data to the dictionary\n",
    "    income_data[city] = merged_df\n",
    "\n",
    "    # Calculate the average listing income for the city\n",
    "    average_listing_income[city] = merged_df['annual_income'].mean()\n",
    "\n",
    "    "
   ]
  },
  {
   "cell_type": "markdown",
   "metadata": {},
   "source": [
    "Finally, change from local currencies to euros, and print the output.  \n",
    "Copenhagen 1 DKK = 0.13 EUR  \n",
    "London 1 GBP = 1.20 EUR\n"
   ]
  },
  {
   "cell_type": "code",
   "execution_count": 76,
   "metadata": {},
   "outputs": [],
   "source": [
    "# Change the currency for the cities that dont use EUR\n",
    "average_listing_income['Copenhagen'] = average_listing_income['Copenhagen'] * 0.13\n",
    "average_listing_income['London'] = average_listing_income['London'] * 1.20\n",
    "# Round the average listing income to 2 decimal places\n",
    "average_listing_income = {city: round(income,1) for city, income in average_listing_income.items()}"
   ]
  },
  {
   "cell_type": "code",
   "execution_count": 77,
   "metadata": {},
   "outputs": [
    {
     "data": {
      "text/html": [
       "<div>\n",
       "<style scoped>\n",
       "    .dataframe tbody tr th:only-of-type {\n",
       "        vertical-align: middle;\n",
       "    }\n",
       "\n",
       "    .dataframe tbody tr th {\n",
       "        vertical-align: top;\n",
       "    }\n",
       "\n",
       "    .dataframe thead th {\n",
       "        text-align: right;\n",
       "    }\n",
       "</style>\n",
       "<table border=\"1\" class=\"dataframe\">\n",
       "  <thead>\n",
       "    <tr style=\"text-align: right;\">\n",
       "      <th></th>\n",
       "      <th>City</th>\n",
       "      <th>Average Listing Income (EUR)</th>\n",
       "    </tr>\n",
       "  </thead>\n",
       "  <tbody>\n",
       "    <tr>\n",
       "      <th>0</th>\n",
       "      <td>Amsterdam</td>\n",
       "      <td>16284.8</td>\n",
       "    </tr>\n",
       "    <tr>\n",
       "      <th>1</th>\n",
       "      <td>Athens</td>\n",
       "      <td>11237.1</td>\n",
       "    </tr>\n",
       "    <tr>\n",
       "      <th>2</th>\n",
       "      <td>Barcelona</td>\n",
       "      <td>22279.0</td>\n",
       "    </tr>\n",
       "    <tr>\n",
       "      <th>3</th>\n",
       "      <td>Berlin</td>\n",
       "      <td>14471.0</td>\n",
       "    </tr>\n",
       "    <tr>\n",
       "      <th>4</th>\n",
       "      <td>Copenhagen</td>\n",
       "      <td>7516.2</td>\n",
       "    </tr>\n",
       "    <tr>\n",
       "      <th>5</th>\n",
       "      <td>Dublin</td>\n",
       "      <td>21164.6</td>\n",
       "    </tr>\n",
       "    <tr>\n",
       "      <th>6</th>\n",
       "      <td>Lisbon</td>\n",
       "      <td>15487.9</td>\n",
       "    </tr>\n",
       "    <tr>\n",
       "      <th>7</th>\n",
       "      <td>London</td>\n",
       "      <td>13343.7</td>\n",
       "    </tr>\n",
       "    <tr>\n",
       "      <th>8</th>\n",
       "      <td>Madrid</td>\n",
       "      <td>17081.0</td>\n",
       "    </tr>\n",
       "    <tr>\n",
       "      <th>9</th>\n",
       "      <td>Paris</td>\n",
       "      <td>13912.2</td>\n",
       "    </tr>\n",
       "    <tr>\n",
       "      <th>10</th>\n",
       "      <td>Rome</td>\n",
       "      <td>21483.7</td>\n",
       "    </tr>\n",
       "    <tr>\n",
       "      <th>11</th>\n",
       "      <td>Venice</td>\n",
       "      <td>25946.0</td>\n",
       "    </tr>\n",
       "    <tr>\n",
       "      <th>12</th>\n",
       "      <td>Vienna</td>\n",
       "      <td>12574.9</td>\n",
       "    </tr>\n",
       "  </tbody>\n",
       "</table>\n",
       "</div>"
      ],
      "text/plain": [
       "          City  Average Listing Income (EUR)\n",
       "0    Amsterdam                       16284.8\n",
       "1       Athens                       11237.1\n",
       "2    Barcelona                       22279.0\n",
       "3       Berlin                       14471.0\n",
       "4   Copenhagen                        7516.2\n",
       "5       Dublin                       21164.6\n",
       "6       Lisbon                       15487.9\n",
       "7       London                       13343.7\n",
       "8       Madrid                       17081.0\n",
       "9        Paris                       13912.2\n",
       "10        Rome                       21483.7\n",
       "11      Venice                       25946.0\n",
       "12      Vienna                       12574.9"
      ]
     },
     "execution_count": 77,
     "metadata": {},
     "output_type": "execute_result"
    }
   ],
   "source": [
    "\n",
    "# Create a DataFrame from the average listing income dictionary\n",
    "df_average_income = pd.DataFrame(list(average_listing_income.items()), columns=['City', 'Average Listing Income (EUR)'])\n",
    "df_average_income\n",
    "\n",
    "   "
   ]
  },
  {
   "cell_type": "markdown",
   "metadata": {},
   "source": [
    "## Task 4 :\n"
   ]
  },
  {
   "cell_type": "markdown",
   "metadata": {},
   "source": [
    "#### Find the total number of bookings and nights spent over the last 12 months period for which you have data, for each of the cities. Then compare your findings with publicly available data. Explain how you sourced the data, the methodology that has been used for their collection, and your assessment of their quality. Discuss any differences from your own results."
   ]
  },
  {
   "cell_type": "markdown",
   "metadata": {},
   "source": [
    "We search through all the listings files to find all the ids that existed during the last 12 months. Then we match the ids with the ids in the correspondent reviews files, to get the number of reviews for all these listings, with the accepted date of creation of the reviews fixed (12 months before the last scrape)."
   ]
  },
  {
   "cell_type": "markdown",
   "metadata": {},
   "source": [
    "In fact, going backwards, we find crossed out ids and their corresponding reviews. We add them all together in a table for each city"
   ]
  },
  {
   "cell_type": "code",
   "execution_count": 78,
   "metadata": {},
   "outputs": [],
   "source": [
    "# dates 12 months back for each city \n",
    "dates_ltm = {}\n",
    "dates_ltm['Amsterdam'] = '2023-09-05'\n",
    "dates_ltm['Athens'] = '2023-06-26'  \n",
    "dates_ltm['Barcelona'] = '2023-09-06'\n",
    "dates_ltm['Berlin'] = '2023-06-23'\n",
    "dates_ltm['Copenhagen'] = '2023-06-30'\n",
    "dates_ltm['Dublin'] = '2023-09-11'\n",
    "dates_ltm['Lisbon'] = '2023-09-14'\n",
    "dates_ltm['London'] = '2023-09-06'\n",
    "dates_ltm['Madrid'] = '2023-09-11'\n",
    "dates_ltm['Paris'] = '2023-09-11'\n",
    "dates_ltm['Rome'] = '2023-09-11'\n",
    "dates_ltm['Venice'] = '2023-09-05'\n",
    "dates_ltm['Vienna'] = '2023-09-11'\n"
   ]
  },
  {
   "cell_type": "code",
   "execution_count": 79,
   "metadata": {},
   "outputs": [],
   "source": [
    "city_reviews = {}\n",
    "city_bookings_nights = {}\n",
    "for city in cities:\n",
    "    city_reviews[city] = city_dfs[city][0][['id', 'number_of_reviews_ltm']]\n",
    "    city_reviews[city] = city_reviews[city].rename(columns={'id': 'listing_id'})\n",
    "\n",
    "    # Load the last scraped reviews data for each city\n",
    "    df_reviews = pd.read_csv(f'{city}/reviews/reviews.csv')\n",
    "    # Filter the reviews data for the last 12 months\n",
    "    df_reviews = df_reviews[df_reviews['date'] >= dates_ltm[city]]\n",
    "    # Group by listing_id and count the number of reviews\n",
    "    df_reviews = df_reviews.groupby('listing_id').size().reset_index(name='number_of_reviews_ltm')\n",
    "    # Keep the reviews id that dont exist in the existing reviews data\n",
    "    df_reviews = df_reviews.loc[~df_reviews['listing_id'].isin(city_reviews['Amsterdam']['listing_id'])]\n",
    "    # Concatenate the new reviews data with the existing reviews data\n",
    "    city_reviews[city] = pd.concat([df_reviews, city_reviews[city]])\n",
    "\n",
    "    # Repeat the process with the other reviews files\n",
    "    df_reviews2 = pd.read_csv(f'{city}/reviews/reviews2.csv')\n",
    "    df_reviews2 = df_reviews2[df_reviews2['date'] >= dates_ltm[city]]\n",
    "    df_reviews2 = df_reviews2.groupby('listing_id').size().reset_index(name='number_of_reviews_ltm')\n",
    "    df_reviews2 = df_reviews2.loc[~df_reviews2['listing_id'].isin(city_reviews[city]['listing_id'])]\n",
    "    city_reviews[city] = pd.concat([df_reviews2, city_reviews[city]])\n",
    "\n",
    "    df_reviews3 = pd.read_csv(f'{city}/reviews/reviews3.csv')\n",
    "    df_reviews3 = df_reviews3[df_reviews3['date'] >= dates_ltm[city]]\n",
    "    df_reviews3 = df_reviews3.groupby('listing_id').size().reset_index(name='number_of_reviews_ltm')\n",
    "    df_reviews3 = df_reviews3.loc[~df_reviews3['listing_id'].isin(city_reviews[city]['listing_id'])]\n",
    "    city_reviews[city] = pd.concat([df_reviews3, city_reviews[city]])\n",
    "    if city != 'Berlin':\n",
    "        df_reviews4 = pd.read_csv(f'{city}/reviews/reviews4.csv')\n",
    "        df_reviews4 = df_reviews4[df_reviews4['date'] >= dates_ltm[city]]\n",
    "        df_reviews4 = df_reviews4.groupby('listing_id').size().reset_index(name='number_of_reviews_ltm')\n",
    "        df_reviews4 = df_reviews4.loc[~df_reviews4['listing_id'].isin(city_reviews[city]['listing_id'])]\n",
    "        city_reviews[city] = pd.concat([df_reviews4, city_reviews[city]])\n",
    "    # Create a new column \"bookings\" where its the number of reviews * 2\n",
    "    city_reviews[city]['bookings'] = city_reviews[city]['number_of_reviews_ltm'] * 2\n",
    "    # Cap the number of bookings at 121 (3*121 = 363 days)\n",
    "    city_reviews[city]['bookings'] = city_reviews[city]['bookings'].apply(lambda x: min(x, 121))\n",
    "    # Create a new column \"nights\" where it's the number of bookings * 3\n",
    "    city_reviews[city]['nights'] = city_reviews[city]['bookings'] * 3\n",
    "\n",
    "    # Add the city's bookings and nights to the dictionary\n",
    "    city_bookings_nights[city] = {'bookings' : city_reviews[city]['bookings'].sum(), 'nights' : city_reviews[city]['nights'].sum()}\n",
    "    # Create a DataFrame from the city_bookings_nights dictionary\n",
    "    df_city_bookings_nights = pd.DataFrame.from_dict(city_bookings_nights, orient='index').reset_index()\n",
    "    df_city_bookings_nights.columns = ['City', 'Total Bookings', 'Total Nights']\n",
    "\n"
   ]
  },
  {
   "cell_type": "code",
   "execution_count": 80,
   "metadata": {},
   "outputs": [
    {
     "data": {
      "text/html": [
       "<div>\n",
       "<style scoped>\n",
       "    .dataframe tbody tr th:only-of-type {\n",
       "        vertical-align: middle;\n",
       "    }\n",
       "\n",
       "    .dataframe tbody tr th {\n",
       "        vertical-align: top;\n",
       "    }\n",
       "\n",
       "    .dataframe thead th {\n",
       "        text-align: right;\n",
       "    }\n",
       "</style>\n",
       "<table border=\"1\" class=\"dataframe\">\n",
       "  <thead>\n",
       "    <tr style=\"text-align: right;\">\n",
       "      <th></th>\n",
       "      <th>City</th>\n",
       "      <th>Total Bookings</th>\n",
       "      <th>Total Nights</th>\n",
       "    </tr>\n",
       "  </thead>\n",
       "  <tbody>\n",
       "    <tr>\n",
       "      <th>0</th>\n",
       "      <td>Amsterdam</td>\n",
       "      <td>168717</td>\n",
       "      <td>506151</td>\n",
       "    </tr>\n",
       "    <tr>\n",
       "      <th>1</th>\n",
       "      <td>Athens</td>\n",
       "      <td>755329</td>\n",
       "      <td>2265987</td>\n",
       "    </tr>\n",
       "    <tr>\n",
       "      <th>2</th>\n",
       "      <td>Barcelona</td>\n",
       "      <td>902051</td>\n",
       "      <td>2706153</td>\n",
       "    </tr>\n",
       "    <tr>\n",
       "      <th>3</th>\n",
       "      <td>Berlin</td>\n",
       "      <td>474316</td>\n",
       "      <td>1422948</td>\n",
       "    </tr>\n",
       "    <tr>\n",
       "      <th>4</th>\n",
       "      <td>Copenhagen</td>\n",
       "      <td>431702</td>\n",
       "      <td>1295106</td>\n",
       "    </tr>\n",
       "    <tr>\n",
       "      <th>5</th>\n",
       "      <td>Dublin</td>\n",
       "      <td>338034</td>\n",
       "      <td>1014102</td>\n",
       "    </tr>\n",
       "    <tr>\n",
       "      <th>6</th>\n",
       "      <td>Lisbon</td>\n",
       "      <td>1410059</td>\n",
       "      <td>4230177</td>\n",
       "    </tr>\n",
       "    <tr>\n",
       "      <th>7</th>\n",
       "      <td>London</td>\n",
       "      <td>2340152</td>\n",
       "      <td>7020456</td>\n",
       "    </tr>\n",
       "    <tr>\n",
       "      <th>8</th>\n",
       "      <td>Madrid</td>\n",
       "      <td>1519453</td>\n",
       "      <td>4558359</td>\n",
       "    </tr>\n",
       "    <tr>\n",
       "      <th>9</th>\n",
       "      <td>Paris</td>\n",
       "      <td>2209619</td>\n",
       "      <td>6628857</td>\n",
       "    </tr>\n",
       "    <tr>\n",
       "      <th>10</th>\n",
       "      <td>Rome</td>\n",
       "      <td>1992276</td>\n",
       "      <td>5976828</td>\n",
       "    </tr>\n",
       "    <tr>\n",
       "      <th>11</th>\n",
       "      <td>Venice</td>\n",
       "      <td>608640</td>\n",
       "      <td>1825920</td>\n",
       "    </tr>\n",
       "    <tr>\n",
       "      <th>12</th>\n",
       "      <td>Vienna</td>\n",
       "      <td>689839</td>\n",
       "      <td>2069517</td>\n",
       "    </tr>\n",
       "  </tbody>\n",
       "</table>\n",
       "</div>"
      ],
      "text/plain": [
       "          City  Total Bookings  Total Nights\n",
       "0    Amsterdam          168717        506151\n",
       "1       Athens          755329       2265987\n",
       "2    Barcelona          902051       2706153\n",
       "3       Berlin          474316       1422948\n",
       "4   Copenhagen          431702       1295106\n",
       "5       Dublin          338034       1014102\n",
       "6       Lisbon         1410059       4230177\n",
       "7       London         2340152       7020456\n",
       "8       Madrid         1519453       4558359\n",
       "9        Paris         2209619       6628857\n",
       "10        Rome         1992276       5976828\n",
       "11      Venice          608640       1825920\n",
       "12      Vienna          689839       2069517"
      ]
     },
     "execution_count": 80,
     "metadata": {},
     "output_type": "execute_result"
    }
   ],
   "source": [
    "df_city_bookings_nights"
   ]
  },
  {
   "cell_type": "markdown",
   "metadata": {},
   "source": [
    "The source from which we will get the data to compare with ours is **AirDNA**.  \n",
    "AirDNA is a platform that provides data and analytics for the short-term rental market, mainly Airbnb.  \n",
    "The way I calculated bookings and nights is the following :  \n",
    "- Occupancy Rate * Active Listings * 365 = Nights  \n",
    "- Nights / 3 = Bookings "
   ]
  },
  {
   "cell_type": "code",
   "execution_count": 81,
   "metadata": {},
   "outputs": [
    {
     "name": "stdout",
     "output_type": "stream",
     "text": [
      "{'Amsterdam': 1296124.17, 'Athens': 3025822.8000000003, 'Barcelona': 3280612.5, 'Berlin': 1852563.2399999998, 'Copenhagen': 2533754.5199999996, 'Dublin': 865355.7000000001, 'Lisbon': 3925220.64, 'London': 12443342.34, 'Madrid': 5097641.67, 'Paris': 10288305.719999999, 'Rome': 7821974.819999999, 'Venice': 2108706.9299999997, 'Vienna': 2457851.22}\n",
      "{'Amsterdam': 432041.38999999996, 'Athens': 1008607.6000000001, 'Barcelona': 1093537.5, 'Berlin': 617521.08, 'Copenhagen': 844584.8399999999, 'Dublin': 288451.9, 'Lisbon': 1308406.8800000001, 'London': 4147780.78, 'Madrid': 1699213.89, 'Paris': 3429435.2399999998, 'Rome': 2607324.94, 'Venice': 702902.3099999999, 'Vienna': 819283.7400000001}\n"
     ]
    },
    {
     "data": {
      "text/html": [
       "<div>\n",
       "<style scoped>\n",
       "    .dataframe tbody tr th:only-of-type {\n",
       "        vertical-align: middle;\n",
       "    }\n",
       "\n",
       "    .dataframe tbody tr th {\n",
       "        vertical-align: top;\n",
       "    }\n",
       "\n",
       "    .dataframe thead th {\n",
       "        text-align: right;\n",
       "    }\n",
       "</style>\n",
       "<table border=\"1\" class=\"dataframe\">\n",
       "  <thead>\n",
       "    <tr style=\"text-align: right;\">\n",
       "      <th></th>\n",
       "      <th>City</th>\n",
       "      <th>Total Bookings</th>\n",
       "      <th>Total Nights</th>\n",
       "      <th>AirDNA Total Bookings</th>\n",
       "      <th>AirDNA Total Nights</th>\n",
       "      <th>Difference in Bookings</th>\n",
       "      <th>Difference in Nights</th>\n",
       "    </tr>\n",
       "  </thead>\n",
       "  <tbody>\n",
       "    <tr>\n",
       "      <th>0</th>\n",
       "      <td>Amsterdam</td>\n",
       "      <td>168717</td>\n",
       "      <td>506151</td>\n",
       "      <td>432041.39</td>\n",
       "      <td>1296124.17</td>\n",
       "      <td>-263324.39</td>\n",
       "      <td>-789973.17</td>\n",
       "    </tr>\n",
       "    <tr>\n",
       "      <th>1</th>\n",
       "      <td>Athens</td>\n",
       "      <td>755329</td>\n",
       "      <td>2265987</td>\n",
       "      <td>1008607.60</td>\n",
       "      <td>3025822.80</td>\n",
       "      <td>-253278.60</td>\n",
       "      <td>-759835.80</td>\n",
       "    </tr>\n",
       "    <tr>\n",
       "      <th>2</th>\n",
       "      <td>Barcelona</td>\n",
       "      <td>902051</td>\n",
       "      <td>2706153</td>\n",
       "      <td>1093537.50</td>\n",
       "      <td>3280612.50</td>\n",
       "      <td>-191486.50</td>\n",
       "      <td>-574459.50</td>\n",
       "    </tr>\n",
       "    <tr>\n",
       "      <th>3</th>\n",
       "      <td>Berlin</td>\n",
       "      <td>474316</td>\n",
       "      <td>1422948</td>\n",
       "      <td>617521.08</td>\n",
       "      <td>1852563.24</td>\n",
       "      <td>-143205.08</td>\n",
       "      <td>-429615.24</td>\n",
       "    </tr>\n",
       "    <tr>\n",
       "      <th>4</th>\n",
       "      <td>Copenhagen</td>\n",
       "      <td>431702</td>\n",
       "      <td>1295106</td>\n",
       "      <td>844584.84</td>\n",
       "      <td>2533754.52</td>\n",
       "      <td>-412882.84</td>\n",
       "      <td>-1238648.52</td>\n",
       "    </tr>\n",
       "    <tr>\n",
       "      <th>5</th>\n",
       "      <td>Dublin</td>\n",
       "      <td>338034</td>\n",
       "      <td>1014102</td>\n",
       "      <td>288451.90</td>\n",
       "      <td>865355.70</td>\n",
       "      <td>49582.10</td>\n",
       "      <td>148746.30</td>\n",
       "    </tr>\n",
       "    <tr>\n",
       "      <th>6</th>\n",
       "      <td>Lisbon</td>\n",
       "      <td>1410059</td>\n",
       "      <td>4230177</td>\n",
       "      <td>1308406.88</td>\n",
       "      <td>3925220.64</td>\n",
       "      <td>101652.12</td>\n",
       "      <td>304956.36</td>\n",
       "    </tr>\n",
       "    <tr>\n",
       "      <th>7</th>\n",
       "      <td>London</td>\n",
       "      <td>2340152</td>\n",
       "      <td>7020456</td>\n",
       "      <td>4147780.78</td>\n",
       "      <td>12443342.34</td>\n",
       "      <td>-1807628.78</td>\n",
       "      <td>-5422886.34</td>\n",
       "    </tr>\n",
       "    <tr>\n",
       "      <th>8</th>\n",
       "      <td>Madrid</td>\n",
       "      <td>1519453</td>\n",
       "      <td>4558359</td>\n",
       "      <td>1699213.89</td>\n",
       "      <td>5097641.67</td>\n",
       "      <td>-179760.89</td>\n",
       "      <td>-539282.67</td>\n",
       "    </tr>\n",
       "    <tr>\n",
       "      <th>9</th>\n",
       "      <td>Paris</td>\n",
       "      <td>2209619</td>\n",
       "      <td>6628857</td>\n",
       "      <td>3429435.24</td>\n",
       "      <td>10288305.72</td>\n",
       "      <td>-1219816.24</td>\n",
       "      <td>-3659448.72</td>\n",
       "    </tr>\n",
       "    <tr>\n",
       "      <th>10</th>\n",
       "      <td>Rome</td>\n",
       "      <td>1992276</td>\n",
       "      <td>5976828</td>\n",
       "      <td>2607324.94</td>\n",
       "      <td>7821974.82</td>\n",
       "      <td>-615048.94</td>\n",
       "      <td>-1845146.82</td>\n",
       "    </tr>\n",
       "    <tr>\n",
       "      <th>11</th>\n",
       "      <td>Venice</td>\n",
       "      <td>608640</td>\n",
       "      <td>1825920</td>\n",
       "      <td>702902.31</td>\n",
       "      <td>2108706.93</td>\n",
       "      <td>-94262.31</td>\n",
       "      <td>-282786.93</td>\n",
       "    </tr>\n",
       "    <tr>\n",
       "      <th>12</th>\n",
       "      <td>Vienna</td>\n",
       "      <td>689839</td>\n",
       "      <td>2069517</td>\n",
       "      <td>819283.74</td>\n",
       "      <td>2457851.22</td>\n",
       "      <td>-129444.74</td>\n",
       "      <td>-388334.22</td>\n",
       "    </tr>\n",
       "  </tbody>\n",
       "</table>\n",
       "</div>"
      ],
      "text/plain": [
       "          City  Total Bookings  Total Nights  AirDNA Total Bookings  \\\n",
       "0    Amsterdam          168717        506151              432041.39   \n",
       "1       Athens          755329       2265987             1008607.60   \n",
       "2    Barcelona          902051       2706153             1093537.50   \n",
       "3       Berlin          474316       1422948              617521.08   \n",
       "4   Copenhagen          431702       1295106              844584.84   \n",
       "5       Dublin          338034       1014102              288451.90   \n",
       "6       Lisbon         1410059       4230177             1308406.88   \n",
       "7       London         2340152       7020456             4147780.78   \n",
       "8       Madrid         1519453       4558359             1699213.89   \n",
       "9        Paris         2209619       6628857             3429435.24   \n",
       "10        Rome         1992276       5976828             2607324.94   \n",
       "11      Venice          608640       1825920              702902.31   \n",
       "12      Vienna          689839       2069517              819283.74   \n",
       "\n",
       "    AirDNA Total Nights  Difference in Bookings  Difference in Nights  \n",
       "0            1296124.17              -263324.39            -789973.17  \n",
       "1            3025822.80              -253278.60            -759835.80  \n",
       "2            3280612.50              -191486.50            -574459.50  \n",
       "3            1852563.24              -143205.08            -429615.24  \n",
       "4            2533754.52              -412882.84           -1238648.52  \n",
       "5             865355.70                49582.10             148746.30  \n",
       "6            3925220.64               101652.12             304956.36  \n",
       "7           12443342.34             -1807628.78           -5422886.34  \n",
       "8            5097641.67              -179760.89            -539282.67  \n",
       "9           10288305.72             -1219816.24           -3659448.72  \n",
       "10           7821974.82              -615048.94           -1845146.82  \n",
       "11           2108706.93               -94262.31            -282786.93  \n",
       "12           2457851.22              -129444.74            -388334.22  "
      ]
     },
     "execution_count": 81,
     "metadata": {},
     "output_type": "execute_result"
    }
   ],
   "source": [
    "Occupancy_Rate = {}\n",
    "Occupancy_Rate['Amsterdam'] = 0.71\n",
    "Occupancy_Rate['Athens'] = 0.65\n",
    "Occupancy_Rate['Barcelona'] = 0.75\n",
    "Occupancy_Rate['Berlin'] = 0.71\n",
    "Occupancy_Rate['Copenhagen'] = 0.69\n",
    "Occupancy_Rate['Dublin'] = 0.62\n",
    "Occupancy_Rate['Lisbon'] = 0.76\n",
    "Occupancy_Rate['London'] = 0.62\n",
    "Occupancy_Rate['Madrid'] = 0.71\n",
    "Occupancy_Rate['Paris'] = 0.63\n",
    "Occupancy_Rate['Rome'] = 0.73\n",
    "Occupancy_Rate['Venice'] = 0.69\n",
    "Occupancy_Rate['Vienna'] = 0.66\n",
    "\n",
    "\n",
    "\n",
    "AirDNA_listings = {}\n",
    "AirDNA_listings['Amsterdam'] = 5029\n",
    "AirDNA_listings['Athens'] = 12824\n",
    "AirDNA_listings['Barcelona'] = 12050\n",
    "AirDNA_listings['Berlin'] = 7188\n",
    "AirDNA_listings['Copenhagen'] = 10116\n",
    "AirDNA_listings['Dublin'] = 3845\n",
    "AirDNA_listings['Lisbon'] = 14228\n",
    "AirDNA_listings['London'] = 55289\n",
    "AirDNA_listings['Madrid'] = 19779\n",
    "AirDNA_listings['Paris'] = 44988\n",
    "AirDNA_listings['Rome'] = 29518\n",
    "AirDNA_listings['Venice'] = 8419\n",
    "AirDNA_listings['Vienna'] = 10259\n",
    " \n",
    "AirDNA_bookings = {}\n",
    "AirDNA_nights = {}\n",
    "for city in cities:\n",
    "    AirDNA_nights[city] = AirDNA_listings[city] * Occupancy_Rate[city] * 363\n",
    "    AirDNA_bookings[city] = AirDNA_nights[city] / 3\n",
    "\n",
    "print(AirDNA_nights)\n",
    "print(AirDNA_bookings)\n",
    "\n",
    "# Add AirDNA Total Bookings and AirDNA Total Nights to the DataFrame\n",
    "df_city_bookings_nights['AirDNA Total Bookings'] = df_city_bookings_nights['City'].apply(lambda x: AirDNA_bookings[x])\n",
    "df_city_bookings_nights['AirDNA Total Nights'] = df_city_bookings_nights['City'].apply(lambda x: AirDNA_nights[x])\n",
    "\n",
    "# Calculate the differences between our data and AirDNA data\n",
    "df_city_bookings_nights['Difference in Bookings'] = df_city_bookings_nights['Total Bookings'] - df_city_bookings_nights['AirDNA Total Bookings']\n",
    "df_city_bookings_nights['Difference in Nights'] = df_city_bookings_nights['Total Nights'] - df_city_bookings_nights['AirDNA Total Nights']\n",
    "\n",
    "# Display the updated DataFrame\n",
    "df_city_bookings_nights\n",
    "\n"
   ]
  },
  {
   "cell_type": "markdown",
   "metadata": {},
   "source": [
    "AirDNA calculates occupancy rates by dividing the number of nights a property was booked by the total available nights for the same period. The occupancy rate is expressed as a percentage, representing how often a property is rented out compared to its availability. \n"
   ]
  },
  {
   "cell_type": "markdown",
   "metadata": {},
   "source": [
    "Its a good measure for checking the annual bookings and nights for each city. Let's see where are the differencies from our approach."
   ]
  },
  {
   "cell_type": "markdown",
   "metadata": {},
   "source": [
    "Take the Actives Listings we found in **Task 1**"
   ]
  },
  {
   "cell_type": "code",
   "execution_count": 82,
   "metadata": {},
   "outputs": [],
   "source": [
    "actives_dict = {}\n",
    "for city in cities:\n",
    "    actives_dict[city] = average_listings[city] - city_inactivity[city]"
   ]
  },
  {
   "cell_type": "code",
   "execution_count": 83,
   "metadata": {},
   "outputs": [
    {
     "data": {
      "text/html": [
       "<div>\n",
       "<style scoped>\n",
       "    .dataframe tbody tr th:only-of-type {\n",
       "        vertical-align: middle;\n",
       "    }\n",
       "\n",
       "    .dataframe tbody tr th {\n",
       "        vertical-align: top;\n",
       "    }\n",
       "\n",
       "    .dataframe thead th {\n",
       "        text-align: right;\n",
       "    }\n",
       "</style>\n",
       "<table border=\"1\" class=\"dataframe\">\n",
       "  <thead>\n",
       "    <tr style=\"text-align: right;\">\n",
       "      <th></th>\n",
       "      <th>City</th>\n",
       "      <th>My analysis Active Listings</th>\n",
       "      <th>AirDNA Active Listings</th>\n",
       "      <th>Difference in Active Listings</th>\n",
       "    </tr>\n",
       "  </thead>\n",
       "  <tbody>\n",
       "    <tr>\n",
       "      <th>0</th>\n",
       "      <td>Amsterdam</td>\n",
       "      <td>6497</td>\n",
       "      <td>5029</td>\n",
       "      <td>1468</td>\n",
       "    </tr>\n",
       "    <tr>\n",
       "      <th>1</th>\n",
       "      <td>Athens</td>\n",
       "      <td>9864</td>\n",
       "      <td>12824</td>\n",
       "      <td>-2960</td>\n",
       "    </tr>\n",
       "    <tr>\n",
       "      <th>2</th>\n",
       "      <td>Barcelona</td>\n",
       "      <td>11438</td>\n",
       "      <td>12050</td>\n",
       "      <td>-612</td>\n",
       "    </tr>\n",
       "    <tr>\n",
       "      <th>3</th>\n",
       "      <td>Berlin</td>\n",
       "      <td>6772</td>\n",
       "      <td>7188</td>\n",
       "      <td>-416</td>\n",
       "    </tr>\n",
       "    <tr>\n",
       "      <th>4</th>\n",
       "      <td>Copenhagen</td>\n",
       "      <td>13100</td>\n",
       "      <td>10116</td>\n",
       "      <td>2984</td>\n",
       "    </tr>\n",
       "    <tr>\n",
       "      <th>5</th>\n",
       "      <td>Dublin</td>\n",
       "      <td>4311</td>\n",
       "      <td>3845</td>\n",
       "      <td>466</td>\n",
       "    </tr>\n",
       "    <tr>\n",
       "      <th>6</th>\n",
       "      <td>Lisbon</td>\n",
       "      <td>17648</td>\n",
       "      <td>14228</td>\n",
       "      <td>3420</td>\n",
       "    </tr>\n",
       "    <tr>\n",
       "      <th>7</th>\n",
       "      <td>London</td>\n",
       "      <td>47500</td>\n",
       "      <td>55289</td>\n",
       "      <td>-7789</td>\n",
       "    </tr>\n",
       "    <tr>\n",
       "      <th>8</th>\n",
       "      <td>Madrid</td>\n",
       "      <td>17291</td>\n",
       "      <td>19779</td>\n",
       "      <td>-2488</td>\n",
       "    </tr>\n",
       "    <tr>\n",
       "      <th>9</th>\n",
       "      <td>Paris</td>\n",
       "      <td>45003</td>\n",
       "      <td>44988</td>\n",
       "      <td>15</td>\n",
       "    </tr>\n",
       "    <tr>\n",
       "      <th>10</th>\n",
       "      <td>Rome</td>\n",
       "      <td>22937</td>\n",
       "      <td>29518</td>\n",
       "      <td>-6581</td>\n",
       "    </tr>\n",
       "    <tr>\n",
       "      <th>11</th>\n",
       "      <td>Venice</td>\n",
       "      <td>6416</td>\n",
       "      <td>8419</td>\n",
       "      <td>-2003</td>\n",
       "    </tr>\n",
       "    <tr>\n",
       "      <th>12</th>\n",
       "      <td>Vienna</td>\n",
       "      <td>9258</td>\n",
       "      <td>10259</td>\n",
       "      <td>-1001</td>\n",
       "    </tr>\n",
       "  </tbody>\n",
       "</table>\n",
       "</div>"
      ],
      "text/plain": [
       "          City  My analysis Active Listings  AirDNA Active Listings  \\\n",
       "0    Amsterdam                         6497                    5029   \n",
       "1       Athens                         9864                   12824   \n",
       "2    Barcelona                        11438                   12050   \n",
       "3       Berlin                         6772                    7188   \n",
       "4   Copenhagen                        13100                   10116   \n",
       "5       Dublin                         4311                    3845   \n",
       "6       Lisbon                        17648                   14228   \n",
       "7       London                        47500                   55289   \n",
       "8       Madrid                        17291                   19779   \n",
       "9        Paris                        45003                   44988   \n",
       "10        Rome                        22937                   29518   \n",
       "11      Venice                         6416                    8419   \n",
       "12      Vienna                         9258                   10259   \n",
       "\n",
       "    Difference in Active Listings  \n",
       "0                            1468  \n",
       "1                           -2960  \n",
       "2                            -612  \n",
       "3                            -416  \n",
       "4                            2984  \n",
       "5                             466  \n",
       "6                            3420  \n",
       "7                           -7789  \n",
       "8                           -2488  \n",
       "9                              15  \n",
       "10                          -6581  \n",
       "11                          -2003  \n",
       "12                          -1001  "
      ]
     },
     "execution_count": 83,
     "metadata": {},
     "output_type": "execute_result"
    }
   ],
   "source": [
    "# Create a DataFrame with the active listings from my analysis and AirDNA\n",
    "df_active_listings_comparison = pd.DataFrame({\n",
    "    'City': cities,\n",
    "    'My analysis Active Listings': [int(actives_dict[city]) for city in cities],\n",
    "    'AirDNA Active Listings': [AirDNA_listings[city] for city in cities]\n",
    "})\n",
    "# Calculate the difference in active listings\n",
    "df_active_listings_comparison['Difference in Active Listings'] = df_active_listings_comparison['My analysis Active Listings'] - df_active_listings_comparison['AirDNA Active Listings']\n",
    "# Display the DataFrame\n",
    "df_active_listings_comparison"
   ]
  },
  {
   "cell_type": "markdown",
   "metadata": {},
   "source": [
    "It is obvious that changes in active lists are negligible to affect the difference in nights and bookings.   \n",
    "From this we conclude that the difference is due to the occupancy rate.  \n",
    "Obviously, either the way AirDNA calculates this indicator is exaggerated, or the way we calculate bookings (1 bookinig = 2 reviews) is quite conservative."
   ]
  },
  {
   "cell_type": "markdown",
   "metadata": {},
   "source": [
    "## Task 5 :"
   ]
  },
  {
   "cell_type": "markdown",
   "metadata": {},
   "source": [
    "#### Check the visualisations at the right of <https://insideairbnb.com/athens/>. Replicate these visualisations. Make the selection interactive, i.e., the user should be able to select a city from a dropdown box and see the corresponding visualisations. You can use any visualisation library. A good visualisation library that we did not have time to explore in the lectures but is worth your attention and comes with interactive features is [Vega-Altair]( https://altair-viz.github.io/user_guide/interactions.html)."
   ]
  },
  {
   "cell_type": "markdown",
   "metadata": {},
   "source": [
    "#### We will use Vega-Altair and for the visualizations. At this point we need to mention some things :\n",
    "1) The data used for the charts is the data used for \"Task 3 : Activity\". \n",
    "2) Without knowing it during my analysis I defined the concept of \"inactivity\" and removed some listings , I did something very similar to Inside AirBnB which defines \"Only recent and frequently booked\", so since my data already includes \"inactivity\" it makes no sense to create a corresponding button (like the \"Only recent and frequently booked\" button )\n"
   ]
  },
  {
   "cell_type": "code",
   "execution_count": 84,
   "metadata": {},
   "outputs": [],
   "source": [
    "\n",
    "city_visualization = {}\n",
    "for city in cities :\n",
    "    df = city_dfs[city][0][['id', 'host_id', 'host_name', 'host_total_listings_count', 'room_type','minimum_nights', 'license']]\n",
    "    city_visualization[city] = pd.merge(income_data[city], df, on='id')\n",
    "    city_visualization[city]['city'] = city\n",
    "    \n"
   ]
  },
  {
   "cell_type": "markdown",
   "metadata": {},
   "source": [
    "Concatenate all dfs to work with Altair"
   ]
  },
  {
   "cell_type": "code",
   "execution_count": 85,
   "metadata": {},
   "outputs": [],
   "source": [
    "# Concatenate all dataframes in city_visualization into one big dataframe\n",
    "cities_together_data = pd.concat(city_visualization.values(), ignore_index=True)"
   ]
  },
  {
   "cell_type": "markdown",
   "metadata": {},
   "source": [
    "Create the \"Number of room types per City\" interactive visualization"
   ]
  },
  {
   "cell_type": "code",
   "execution_count": 86,
   "metadata": {},
   "outputs": [
    {
     "data": {
      "text/html": [
       "\n",
       "<style>\n",
       "  #altair-viz-5bc2502ca841491c806a235e008989ce.vega-embed {\n",
       "    width: 100%;\n",
       "    display: flex;\n",
       "  }\n",
       "\n",
       "  #altair-viz-5bc2502ca841491c806a235e008989ce.vega-embed details,\n",
       "  #altair-viz-5bc2502ca841491c806a235e008989ce.vega-embed details summary {\n",
       "    position: relative;\n",
       "  }\n",
       "</style>\n",
       "<div id=\"altair-viz-5bc2502ca841491c806a235e008989ce\"></div>\n",
       "<script type=\"text/javascript\">\n",
       "  var VEGA_DEBUG = (typeof VEGA_DEBUG == \"undefined\") ? {} : VEGA_DEBUG;\n",
       "  (function(spec, embedOpt){\n",
       "    let outputDiv = document.currentScript.previousElementSibling;\n",
       "    if (outputDiv.id !== \"altair-viz-5bc2502ca841491c806a235e008989ce\") {\n",
       "      outputDiv = document.getElementById(\"altair-viz-5bc2502ca841491c806a235e008989ce\");\n",
       "    }\n",
       "    const paths = {\n",
       "      \"vega\": \"https://cdn.jsdelivr.net/npm/vega@5?noext\",\n",
       "      \"vega-lib\": \"https://cdn.jsdelivr.net/npm/vega-lib?noext\",\n",
       "      \"vega-lite\": \"https://cdn.jsdelivr.net/npm/vega-lite@5.8.0?noext\",\n",
       "      \"vega-embed\": \"https://cdn.jsdelivr.net/npm/vega-embed@6?noext\",\n",
       "    };\n",
       "\n",
       "    function maybeLoadScript(lib, version) {\n",
       "      var key = `${lib.replace(\"-\", \"\")}_version`;\n",
       "      return (VEGA_DEBUG[key] == version) ?\n",
       "        Promise.resolve(paths[lib]) :\n",
       "        new Promise(function(resolve, reject) {\n",
       "          var s = document.createElement('script');\n",
       "          document.getElementsByTagName(\"head\")[0].appendChild(s);\n",
       "          s.async = true;\n",
       "          s.onload = () => {\n",
       "            VEGA_DEBUG[key] = version;\n",
       "            return resolve(paths[lib]);\n",
       "          };\n",
       "          s.onerror = () => reject(`Error loading script: ${paths[lib]}`);\n",
       "          s.src = paths[lib];\n",
       "        });\n",
       "    }\n",
       "\n",
       "    function showError(err) {\n",
       "      outputDiv.innerHTML = `<div class=\"error\" style=\"color:red;\">${err}</div>`;\n",
       "      throw err;\n",
       "    }\n",
       "\n",
       "    function displayChart(vegaEmbed) {\n",
       "      vegaEmbed(outputDiv, spec, embedOpt)\n",
       "        .catch(err => showError(`Javascript Error: ${err.message}<br>This usually means there's a typo in your chart specification. See the javascript console for the full traceback.`));\n",
       "    }\n",
       "\n",
       "    if(typeof define === \"function\" && define.amd) {\n",
       "      requirejs.config({paths});\n",
       "      require([\"vega-embed\"], displayChart, err => showError(`Error loading script: ${err.message}`));\n",
       "    } else {\n",
       "      maybeLoadScript(\"vega\", \"5\")\n",
       "        .then(() => maybeLoadScript(\"vega-lite\", \"5.8.0\"))\n",
       "        .then(() => maybeLoadScript(\"vega-embed\", \"6\"))\n",
       "        .catch(showError)\n",
       "        .then(() => displayChart(vegaEmbed));\n",
       "    }\n",
       "  })({\"config\": {\"view\": {\"continuousWidth\": 300, \"continuousHeight\": 300}, \"axis\": {\"labelFontSize\": 16, \"titleFontSize\": 18}, \"title\": {\"fontSize\": 20}}, \"data\": {\"name\": \"data-00089abea34a11d567015e4341be2200\"}, \"mark\": {\"type\": \"bar\", \"size\": 80}, \"encoding\": {\"color\": {\"field\": \"room_type\", \"scale\": {\"domain\": [\"Entire home/apt\", \"Hotel room\", \"Private room\", \"Shared room\"], \"range\": [\"#FF5733\", \"#33FF57\", \"#3357FF\", \"#FFD700\"]}, \"type\": \"nominal\"}, \"text\": {\"field\": \"percentage\", \"format\": \".1f\", \"type\": \"quantitative\"}, \"x\": {\"field\": \"count\", \"type\": \"quantitative\"}, \"y\": {\"field\": \"room_type\", \"type\": \"nominal\"}}, \"height\": 400, \"params\": [{\"name\": \"param_6\", \"select\": {\"type\": \"point\", \"fields\": [\"city\"]}, \"bind\": {\"input\": \"select\", \"options\": [\"Amsterdam\", \"Athens\", \"Barcelona\", \"Berlin\", \"Copenhagen\", \"Dublin\", \"Lisbon\", \"London\", \"Madrid\", \"Paris\", \"Rome\", \"Venice\", \"Vienna\"], \"labels\": [\"Amsterdam\", \"Athens\", \"Barcelona\", \"Berlin\", \"Copenhagen\", \"Dublin\", \"Lisbon\", \"London\", \"Madrid\", \"Paris\", \"Rome\", \"Venice\", \"Vienna\"], \"name\": \"Select City  :  \"}, \"value\": \"Amsterdam\"}], \"title\": \"Number of Room Types by City\", \"transform\": [{\"filter\": {\"param\": \"param_6\", \"empty\": false}}], \"width\": 600, \"$schema\": \"https://vega.github.io/schema/vega-lite/v5.8.0.json\", \"datasets\": {\"data-00089abea34a11d567015e4341be2200\": [{\"city\": \"Amsterdam\", \"room_type\": \"Entire home/apt\", \"count\": 3796}, {\"city\": \"Amsterdam\", \"room_type\": \"Hotel room\", \"count\": 40}, {\"city\": \"Amsterdam\", \"room_type\": \"Private room\", \"count\": 1217}, {\"city\": \"Amsterdam\", \"room_type\": \"Shared room\", \"count\": 13}, {\"city\": \"Athens\", \"room_type\": \"Entire home/apt\", \"count\": 7373}, {\"city\": \"Athens\", \"room_type\": \"Hotel room\", \"count\": 27}, {\"city\": \"Athens\", \"room_type\": \"Private room\", \"count\": 345}, {\"city\": \"Athens\", \"room_type\": \"Shared room\", \"count\": 25}, {\"city\": \"Barcelona\", \"room_type\": \"Entire home/apt\", \"count\": 6593}, {\"city\": \"Barcelona\", \"room_type\": \"Hotel room\", \"count\": 63}, {\"city\": \"Barcelona\", \"room_type\": \"Private room\", \"count\": 1972}, {\"city\": \"Barcelona\", \"room_type\": \"Shared room\", \"count\": 65}, {\"city\": \"Berlin\", \"room_type\": \"Entire home/apt\", \"count\": 3935}, {\"city\": \"Berlin\", \"room_type\": \"Hotel room\", \"count\": 79}, {\"city\": \"Berlin\", \"room_type\": \"Private room\", \"count\": 1400}, {\"city\": \"Berlin\", \"room_type\": \"Shared room\", \"count\": 83}, {\"city\": \"Copenhagen\", \"room_type\": \"Entire home/apt\", \"count\": 9448}, {\"city\": \"Copenhagen\", \"room_type\": \"Hotel room\", \"count\": 2}, {\"city\": \"Copenhagen\", \"room_type\": \"Private room\", \"count\": 817}, {\"city\": \"Copenhagen\", \"room_type\": \"Shared room\", \"count\": 9}, {\"city\": \"Dublin\", \"room_type\": \"Entire home/apt\", \"count\": 1536}, {\"city\": \"Dublin\", \"room_type\": \"Hotel room\", \"count\": 6}, {\"city\": \"Dublin\", \"room_type\": \"Private room\", \"count\": 1115}, {\"city\": \"Dublin\", \"room_type\": \"Shared room\", \"count\": 42}, {\"city\": \"Lisbon\", \"room_type\": \"Entire home/apt\", \"count\": 11671}, {\"city\": \"Lisbon\", \"room_type\": \"Hotel room\", \"count\": 73}, {\"city\": \"Lisbon\", \"room_type\": \"Private room\", \"count\": 2655}, {\"city\": \"Lisbon\", \"room_type\": \"Shared room\", \"count\": 78}, {\"city\": \"London\", \"room_type\": \"Entire home/apt\", \"count\": 19758}, {\"city\": \"London\", \"room_type\": \"Hotel room\", \"count\": 76}, {\"city\": \"London\", \"room_type\": \"Private room\", \"count\": 9951}, {\"city\": \"London\", \"room_type\": \"Shared room\", \"count\": 65}, {\"city\": \"Madrid\", \"room_type\": \"Entire home/apt\", \"count\": 8980}, {\"city\": \"Madrid\", \"room_type\": \"Hotel room\", \"count\": 29}, {\"city\": \"Madrid\", \"room_type\": \"Private room\", \"count\": 3073}, {\"city\": \"Madrid\", \"room_type\": \"Shared room\", \"count\": 114}, {\"city\": \"Paris\", \"room_type\": \"Entire home/apt\", \"count\": 29165}, {\"city\": \"Paris\", \"room_type\": \"Hotel room\", \"count\": 243}, {\"city\": \"Paris\", \"room_type\": \"Private room\", \"count\": 2646}, {\"city\": \"Paris\", \"room_type\": \"Shared room\", \"count\": 131}, {\"city\": \"Rome\", \"room_type\": \"Entire home/apt\", \"count\": 14286}, {\"city\": \"Rome\", \"room_type\": \"Hotel room\", \"count\": 220}, {\"city\": \"Rome\", \"room_type\": \"Private room\", \"count\": 3641}, {\"city\": \"Rome\", \"room_type\": \"Shared room\", \"count\": 37}, {\"city\": \"Venice\", \"room_type\": \"Entire home/apt\", \"count\": 4491}, {\"city\": \"Venice\", \"room_type\": \"Hotel room\", \"count\": 72}, {\"city\": \"Venice\", \"room_type\": \"Private room\", \"count\": 845}, {\"city\": \"Venice\", \"room_type\": \"Shared room\", \"count\": 12}, {\"city\": \"Vienna\", \"room_type\": \"Entire home/apt\", \"count\": 5979}, {\"city\": \"Vienna\", \"room_type\": \"Hotel room\", \"count\": 18}, {\"city\": \"Vienna\", \"room_type\": \"Private room\", \"count\": 538}, {\"city\": \"Vienna\", \"room_type\": \"Shared room\", \"count\": 34}]}}, {\"mode\": \"vega-lite\"});\n",
       "</script>"
      ],
      "text/plain": [
       "alt.Chart(...)"
      ]
     },
     "execution_count": 86,
     "metadata": {},
     "output_type": "execute_result"
    }
   ],
   "source": [
    "import altair as alt\n",
    "import pandas as pd\n",
    "import warnings\n",
    "warnings.filterwarnings(\"ignore\", category=FutureWarning)\n",
    "\n",
    "alt.data_transformers.disable_max_rows()\n",
    "# Group by 'city' and 'room_type', counting the occurrences of each room type per city\n",
    "room_type_counts = cities_together_data.groupby(['city', 'room_type']).size().reset_index(name='count')\n",
    "\n",
    "\n",
    "# Create a dropdown for city selection with customized appearance\n",
    "city_dropdown = alt.binding_select(\n",
    "    options=cities, \n",
    "    name=\"Select City  :  \",\n",
    "    labels=cities\n",
    ")\n",
    "city_select = alt.selection_point(fields=['city'], bind=city_dropdown, value='Amsterdam', empty=False)  # Set default to 'Amsterdam'\n",
    "\n",
    "# Scatter plot with interactive city filter\n",
    "chart = alt.Chart(room_type_counts).mark_bar(size=80).encode(\n",
    "    x='count:Q',\n",
    "    y='room_type:N',\n",
    "     color=alt.Color('room_type:N', scale=alt.Scale(\n",
    "        domain=['Entire home/apt', 'Hotel room', 'Private room', 'Shared room'], \n",
    "        range=['#FF5733', '#33FF57', '#3357FF', '#FFD700'])),  # Custom colors\n",
    "        text='count:Q'  # Show count value on each bar\n",
    ").add_params(\n",
    "    city_select\n",
    ").transform_filter(\n",
    "    city_select\n",
    ").properties(\n",
    "    width=600,\n",
    "    height=400,\n",
    "    title=\"Number of Room Types by City\",\n",
    ").configure_title(\n",
    "    fontSize=20  # Adjusts the chart title font size\n",
    ").configure_axis(\n",
    "    labelFontSize=16 ,\n",
    "    titleFontSize=18  # Larger title font size for the axes # Adjust this value for bigger/smaller text\n",
    ").encode(\n",
    "    text=alt.Text('percentage:Q', format='.1f')  # Show percentage with one decimal place\n",
    ")\n",
    "\n",
    "\n",
    "chart"
   ]
  },
  {
   "cell_type": "markdown",
   "metadata": {},
   "source": [
    "Create the \"Number of Listings booked in different period per City\" interactive visualization"
   ]
  },
  {
   "cell_type": "code",
   "execution_count": 87,
   "metadata": {},
   "outputs": [
    {
     "data": {
      "text/html": [
       "\n",
       "<style>\n",
       "  #altair-viz-1519474c0cff4ec0a4169ca8d091c919.vega-embed {\n",
       "    width: 100%;\n",
       "    display: flex;\n",
       "  }\n",
       "\n",
       "  #altair-viz-1519474c0cff4ec0a4169ca8d091c919.vega-embed details,\n",
       "  #altair-viz-1519474c0cff4ec0a4169ca8d091c919.vega-embed details summary {\n",
       "    position: relative;\n",
       "  }\n",
       "</style>\n",
       "<div id=\"altair-viz-1519474c0cff4ec0a4169ca8d091c919\"></div>\n",
       "<script type=\"text/javascript\">\n",
       "  var VEGA_DEBUG = (typeof VEGA_DEBUG == \"undefined\") ? {} : VEGA_DEBUG;\n",
       "  (function(spec, embedOpt){\n",
       "    let outputDiv = document.currentScript.previousElementSibling;\n",
       "    if (outputDiv.id !== \"altair-viz-1519474c0cff4ec0a4169ca8d091c919\") {\n",
       "      outputDiv = document.getElementById(\"altair-viz-1519474c0cff4ec0a4169ca8d091c919\");\n",
       "    }\n",
       "    const paths = {\n",
       "      \"vega\": \"https://cdn.jsdelivr.net/npm/vega@5?noext\",\n",
       "      \"vega-lib\": \"https://cdn.jsdelivr.net/npm/vega-lib?noext\",\n",
       "      \"vega-lite\": \"https://cdn.jsdelivr.net/npm/vega-lite@5.8.0?noext\",\n",
       "      \"vega-embed\": \"https://cdn.jsdelivr.net/npm/vega-embed@6?noext\",\n",
       "    };\n",
       "\n",
       "    function maybeLoadScript(lib, version) {\n",
       "      var key = `${lib.replace(\"-\", \"\")}_version`;\n",
       "      return (VEGA_DEBUG[key] == version) ?\n",
       "        Promise.resolve(paths[lib]) :\n",
       "        new Promise(function(resolve, reject) {\n",
       "          var s = document.createElement('script');\n",
       "          document.getElementsByTagName(\"head\")[0].appendChild(s);\n",
       "          s.async = true;\n",
       "          s.onload = () => {\n",
       "            VEGA_DEBUG[key] = version;\n",
       "            return resolve(paths[lib]);\n",
       "          };\n",
       "          s.onerror = () => reject(`Error loading script: ${paths[lib]}`);\n",
       "          s.src = paths[lib];\n",
       "        });\n",
       "    }\n",
       "\n",
       "    function showError(err) {\n",
       "      outputDiv.innerHTML = `<div class=\"error\" style=\"color:red;\">${err}</div>`;\n",
       "      throw err;\n",
       "    }\n",
       "\n",
       "    function displayChart(vegaEmbed) {\n",
       "      vegaEmbed(outputDiv, spec, embedOpt)\n",
       "        .catch(err => showError(`Javascript Error: ${err.message}<br>This usually means there's a typo in your chart specification. See the javascript console for the full traceback.`));\n",
       "    }\n",
       "\n",
       "    if(typeof define === \"function\" && define.amd) {\n",
       "      requirejs.config({paths});\n",
       "      require([\"vega-embed\"], displayChart, err => showError(`Error loading script: ${err.message}`));\n",
       "    } else {\n",
       "      maybeLoadScript(\"vega\", \"5\")\n",
       "        .then(() => maybeLoadScript(\"vega-lite\", \"5.8.0\"))\n",
       "        .then(() => maybeLoadScript(\"vega-embed\", \"6\"))\n",
       "        .catch(showError)\n",
       "        .then(() => displayChart(vegaEmbed));\n",
       "    }\n",
       "  })({\"config\": {\"view\": {\"continuousWidth\": 300, \"continuousHeight\": 300}, \"axis\": {\"labelFontSize\": 16, \"titleFontSize\": 18}, \"title\": {\"fontSize\": 20}}, \"data\": {\"name\": \"data-1cdf5fd90ff1fc0952839cae48de3c77\"}, \"mark\": {\"type\": \"bar\", \"size\": 80}, \"encoding\": {\"color\": {\"field\": \"booking_period\", \"type\": \"nominal\"}, \"x\": {\"field\": \"booking_period\", \"sort\": [\"1-30\", \"31-60\", \"61-90\", \"91-120\", \"121-150\", \"151-180\", \"181-210\", \"211-240\"], \"title\": \"Days Booked\", \"type\": \"nominal\"}, \"y\": {\"field\": \"listing_count\", \"title\": \"Number of Listings Booked\", \"type\": \"quantitative\"}}, \"height\": 400, \"params\": [{\"name\": \"City\", \"select\": {\"type\": \"point\", \"fields\": [\"city\"]}, \"bind\": {\"input\": \"select\", \"options\": [\"Amsterdam\", \"Athens\", \"Barcelona\", \"Berlin\", \"Copenhagen\", \"Dublin\", \"Lisbon\", \"London\", \"Madrid\", \"Paris\", \"Rome\", \"Venice\", \"Vienna\"], \"name\": \"Select City\"}}], \"title\": \"Number of Listings Booked in Different Periods by City\", \"transform\": [{\"filter\": {\"param\": \"City\"}}], \"width\": 800, \"$schema\": \"https://vega.github.io/schema/vega-lite/v5.8.0.json\", \"datasets\": {\"data-1cdf5fd90ff1fc0952839cae48de3c77\": [{\"city\": \"Amsterdam\", \"booking_period\": \"1-30\", \"listing_count\": 2554}, {\"city\": \"Amsterdam\", \"booking_period\": \"31-60\", \"listing_count\": 1006}, {\"city\": \"Amsterdam\", \"booking_period\": \"61-90\", \"listing_count\": 285}, {\"city\": \"Amsterdam\", \"booking_period\": \"91-120\", \"listing_count\": 140}, {\"city\": \"Amsterdam\", \"booking_period\": \"121-150\", \"listing_count\": 133}, {\"city\": \"Amsterdam\", \"booking_period\": \"151-180\", \"listing_count\": 92}, {\"city\": \"Amsterdam\", \"booking_period\": \"181-210\", \"listing_count\": 110}, {\"city\": \"Amsterdam\", \"booking_period\": \"211-240\", \"listing_count\": 95}, {\"city\": \"Amsterdam\", \"booking_period\": \"246+\", \"listing_count\": 651}, {\"city\": \"Athens\", \"booking_period\": \"1-30\", \"listing_count\": 2260}, {\"city\": \"Athens\", \"booking_period\": \"31-60\", \"listing_count\": 1106}, {\"city\": \"Athens\", \"booking_period\": \"61-90\", \"listing_count\": 770}, {\"city\": \"Athens\", \"booking_period\": \"91-120\", \"listing_count\": 580}, {\"city\": \"Athens\", \"booking_period\": \"121-150\", \"listing_count\": 473}, {\"city\": \"Athens\", \"booking_period\": \"151-180\", \"listing_count\": 425}, {\"city\": \"Athens\", \"booking_period\": \"181-210\", \"listing_count\": 384}, {\"city\": \"Athens\", \"booking_period\": \"211-240\", \"listing_count\": 334}, {\"city\": \"Athens\", \"booking_period\": \"246+\", \"listing_count\": 1438}, {\"city\": \"Barcelona\", \"booking_period\": \"1-30\", \"listing_count\": 3230}, {\"city\": \"Barcelona\", \"booking_period\": \"31-60\", \"listing_count\": 807}, {\"city\": \"Barcelona\", \"booking_period\": \"61-90\", \"listing_count\": 526}, {\"city\": \"Barcelona\", \"booking_period\": \"91-120\", \"listing_count\": 527}, {\"city\": \"Barcelona\", \"booking_period\": \"121-150\", \"listing_count\": 487}, {\"city\": \"Barcelona\", \"booking_period\": \"151-180\", \"listing_count\": 517}, {\"city\": \"Barcelona\", \"booking_period\": \"181-210\", \"listing_count\": 518}, {\"city\": \"Barcelona\", \"booking_period\": \"211-240\", \"listing_count\": 451}, {\"city\": \"Barcelona\", \"booking_period\": \"246+\", \"listing_count\": 1630}, {\"city\": \"Berlin\", \"booking_period\": \"1-30\", \"listing_count\": 1688}, {\"city\": \"Berlin\", \"booking_period\": \"31-60\", \"listing_count\": 839}, {\"city\": \"Berlin\", \"booking_period\": \"61-90\", \"listing_count\": 575}, {\"city\": \"Berlin\", \"booking_period\": \"91-120\", \"listing_count\": 479}, {\"city\": \"Berlin\", \"booking_period\": \"121-150\", \"listing_count\": 294}, {\"city\": \"Berlin\", \"booking_period\": \"151-180\", \"listing_count\": 280}, {\"city\": \"Berlin\", \"booking_period\": \"181-210\", \"listing_count\": 259}, {\"city\": \"Berlin\", \"booking_period\": \"211-240\", \"listing_count\": 234}, {\"city\": \"Berlin\", \"booking_period\": \"246+\", \"listing_count\": 849}, {\"city\": \"Copenhagen\", \"booking_period\": \"1-30\", \"listing_count\": 5767}, {\"city\": \"Copenhagen\", \"booking_period\": \"31-60\", \"listing_count\": 2316}, {\"city\": \"Copenhagen\", \"booking_period\": \"61-90\", \"listing_count\": 948}, {\"city\": \"Copenhagen\", \"booking_period\": \"91-120\", \"listing_count\": 414}, {\"city\": \"Copenhagen\", \"booking_period\": \"121-150\", \"listing_count\": 232}, {\"city\": \"Copenhagen\", \"booking_period\": \"151-180\", \"listing_count\": 145}, {\"city\": \"Copenhagen\", \"booking_period\": \"181-210\", \"listing_count\": 92}, {\"city\": \"Copenhagen\", \"booking_period\": \"211-240\", \"listing_count\": 76}, {\"city\": \"Copenhagen\", \"booking_period\": \"246+\", \"listing_count\": 286}, {\"city\": \"Dublin\", \"booking_period\": \"1-30\", \"listing_count\": 639}, {\"city\": \"Dublin\", \"booking_period\": \"31-60\", \"listing_count\": 426}, {\"city\": \"Dublin\", \"booking_period\": \"61-90\", \"listing_count\": 319}, {\"city\": \"Dublin\", \"booking_period\": \"91-120\", \"listing_count\": 252}, {\"city\": \"Dublin\", \"booking_period\": \"121-150\", \"listing_count\": 163}, {\"city\": \"Dublin\", \"booking_period\": \"151-180\", \"listing_count\": 151}, {\"city\": \"Dublin\", \"booking_period\": \"181-210\", \"listing_count\": 123}, {\"city\": \"Dublin\", \"booking_period\": \"211-240\", \"listing_count\": 104}, {\"city\": \"Dublin\", \"booking_period\": \"246+\", \"listing_count\": 522}, {\"city\": \"Lisbon\", \"booking_period\": \"1-30\", \"listing_count\": 3747}, {\"city\": \"Lisbon\", \"booking_period\": \"31-60\", \"listing_count\": 1940}, {\"city\": \"Lisbon\", \"booking_period\": \"61-90\", \"listing_count\": 1473}, {\"city\": \"Lisbon\", \"booking_period\": \"91-120\", \"listing_count\": 1167}, {\"city\": \"Lisbon\", \"booking_period\": \"121-150\", \"listing_count\": 1090}, {\"city\": \"Lisbon\", \"booking_period\": \"151-180\", \"listing_count\": 900}, {\"city\": \"Lisbon\", \"booking_period\": \"181-210\", \"listing_count\": 760}, {\"city\": \"Lisbon\", \"booking_period\": \"211-240\", \"listing_count\": 697}, {\"city\": \"Lisbon\", \"booking_period\": \"246+\", \"listing_count\": 2703}, {\"city\": \"London\", \"booking_period\": \"1-30\", \"listing_count\": 12640}, {\"city\": \"London\", \"booking_period\": \"31-60\", \"listing_count\": 5682}, {\"city\": \"London\", \"booking_period\": \"61-90\", \"listing_count\": 3439}, {\"city\": \"London\", \"booking_period\": \"91-120\", \"listing_count\": 2179}, {\"city\": \"London\", \"booking_period\": \"121-150\", \"listing_count\": 1433}, {\"city\": \"London\", \"booking_period\": \"151-180\", \"listing_count\": 1016}, {\"city\": \"London\", \"booking_period\": \"181-210\", \"listing_count\": 742}, {\"city\": \"London\", \"booking_period\": \"211-240\", \"listing_count\": 583}, {\"city\": \"London\", \"booking_period\": \"246+\", \"listing_count\": 2136}, {\"city\": \"Madrid\", \"booking_period\": \"1-30\", \"listing_count\": 2789}, {\"city\": \"Madrid\", \"booking_period\": \"31-60\", \"listing_count\": 1533}, {\"city\": \"Madrid\", \"booking_period\": \"61-90\", \"listing_count\": 1135}, {\"city\": \"Madrid\", \"booking_period\": \"91-120\", \"listing_count\": 916}, {\"city\": \"Madrid\", \"booking_period\": \"121-150\", \"listing_count\": 800}, {\"city\": \"Madrid\", \"booking_period\": \"151-180\", \"listing_count\": 742}, {\"city\": \"Madrid\", \"booking_period\": \"181-210\", \"listing_count\": 729}, {\"city\": \"Madrid\", \"booking_period\": \"211-240\", \"listing_count\": 633}, {\"city\": \"Madrid\", \"booking_period\": \"246+\", \"listing_count\": 2919}, {\"city\": \"Paris\", \"booking_period\": \"1-30\", \"listing_count\": 13332}, {\"city\": \"Paris\", \"booking_period\": \"31-60\", \"listing_count\": 6122}, {\"city\": \"Paris\", \"booking_period\": \"61-90\", \"listing_count\": 3975}, {\"city\": \"Paris\", \"booking_period\": \"91-120\", \"listing_count\": 2488}, {\"city\": \"Paris\", \"booking_period\": \"121-150\", \"listing_count\": 1705}, {\"city\": \"Paris\", \"booking_period\": \"151-180\", \"listing_count\": 1145}, {\"city\": \"Paris\", \"booking_period\": \"181-210\", \"listing_count\": 806}, {\"city\": \"Paris\", \"booking_period\": \"211-240\", \"listing_count\": 615}, {\"city\": \"Paris\", \"booking_period\": \"246+\", \"listing_count\": 1997}, {\"city\": \"Rome\", \"booking_period\": \"1-30\", \"listing_count\": 4486}, {\"city\": \"Rome\", \"booking_period\": \"31-60\", \"listing_count\": 2225}, {\"city\": \"Rome\", \"booking_period\": \"61-90\", \"listing_count\": 1621}, {\"city\": \"Rome\", \"booking_period\": \"91-120\", \"listing_count\": 1449}, {\"city\": \"Rome\", \"booking_period\": \"121-150\", \"listing_count\": 1351}, {\"city\": \"Rome\", \"booking_period\": \"151-180\", \"listing_count\": 1174}, {\"city\": \"Rome\", \"booking_period\": \"181-210\", \"listing_count\": 1055}, {\"city\": \"Rome\", \"booking_period\": \"211-240\", \"listing_count\": 955}, {\"city\": \"Rome\", \"booking_period\": \"246+\", \"listing_count\": 3868}, {\"city\": \"Venice\", \"booking_period\": \"1-30\", \"listing_count\": 1175}, {\"city\": \"Venice\", \"booking_period\": \"31-60\", \"listing_count\": 600}, {\"city\": \"Venice\", \"booking_period\": \"61-90\", \"listing_count\": 534}, {\"city\": \"Venice\", \"booking_period\": \"91-120\", \"listing_count\": 446}, {\"city\": \"Venice\", \"booking_period\": \"121-150\", \"listing_count\": 400}, {\"city\": \"Venice\", \"booking_period\": \"151-180\", \"listing_count\": 343}, {\"city\": \"Venice\", \"booking_period\": \"181-210\", \"listing_count\": 320}, {\"city\": \"Venice\", \"booking_period\": \"211-240\", \"listing_count\": 274}, {\"city\": \"Venice\", \"booking_period\": \"246+\", \"listing_count\": 1328}, {\"city\": \"Vienna\", \"booking_period\": \"1-30\", \"listing_count\": 1918}, {\"city\": \"Vienna\", \"booking_period\": \"31-60\", \"listing_count\": 957}, {\"city\": \"Vienna\", \"booking_period\": \"61-90\", \"listing_count\": 639}, {\"city\": \"Vienna\", \"booking_period\": \"91-120\", \"listing_count\": 470}, {\"city\": \"Vienna\", \"booking_period\": \"121-150\", \"listing_count\": 429}, {\"city\": \"Vienna\", \"booking_period\": \"151-180\", \"listing_count\": 401}, {\"city\": \"Vienna\", \"booking_period\": \"181-210\", \"listing_count\": 306}, {\"city\": \"Vienna\", \"booking_period\": \"211-240\", \"listing_count\": 255}, {\"city\": \"Vienna\", \"booking_period\": \"246+\", \"listing_count\": 1194}]}}, {\"mode\": \"vega-lite\"});\n",
       "</script>"
      ],
      "text/plain": [
       "alt.Chart(...)"
      ]
     },
     "execution_count": 87,
     "metadata": {},
     "output_type": "execute_result"
    }
   ],
   "source": [
    "# Create a dropdown for city selection with customized appearance\n",
    "city_dropdown = alt.binding_select(\n",
    "    options=cities, \n",
    "    name=\"Select City  :    \",\n",
    "    labels=cities\n",
    ")\n",
    "city_select = alt.selection_point(fields=['city'], bind=city_dropdown, value='Amsterdam', empty=False)  # Set default to 'Amsterdam'\n",
    "\n",
    "\n",
    "# Create a new column for 'days_booked'\n",
    "cities_together_data['days_booked'] = cities_together_data['bookings'] * 3\n",
    "\n",
    "# Bin the 'days_booked' into 30-day periods and cap values over 245 as '246+'\n",
    "bins = [i for i in range(1, 246, 30)]\n",
    "labels = ['{}-{}'.format(i, i + 29) for i in bins[:-1]]\n",
    "cities_together_data['booking_period'] = pd.cut(cities_together_data['days_booked'], bins=bins, labels=labels, right=False)\n",
    "\n",
    "# Assign '246+' to days booked over 245\n",
    "cities_together_data['booking_period'] = cities_together_data['booking_period'].cat.add_categories('246+')\n",
    "cities_together_data.loc[cities_together_data['days_booked'] > 245, 'booking_period'] = '246+'\n",
    "\n",
    "# Group by city and booking_period to count the number of listings in each period\n",
    "cities_together_data_grouped = cities_together_data.groupby(['city', 'booking_period']).size().reset_index(name='listing_count')\n",
    "\n",
    "# Create the dropdown for city selection\n",
    "city_dropdown = alt.binding_select(\n",
    "    options=cities, \n",
    "    name=\"Select City\"\n",
    ")\n",
    "city_select = alt.selection_point(fields=['city'], bind=city_dropdown, name=\"City\")\n",
    "\n",
    "# Create the bar chart\n",
    "booking_chart = alt.Chart(cities_together_data_grouped).mark_bar(size=80).encode(\n",
    "    x=alt.X('booking_period:N', title=\"Days Booked\", sort=labels),  # Ensure sorting\n",
    "    y=alt.Y('listing_count:Q', title=\"Number of Listings Booked\"),\n",
    "    color='booking_period:N',\n",
    ").add_params(\n",
    "    city_select\n",
    ").transform_filter(\n",
    "    city_select\n",
    ").properties(\n",
    "    width=800,\n",
    "    height=400,\n",
    "    title=f\"Number of Listings Booked in Different Periods by City\"\n",
    ").configure_title(\n",
    "    fontSize=20\n",
    ").configure_axis(\n",
    "    labelFontSize=16,\n",
    "    titleFontSize=18\n",
    ")\n",
    "\n",
    "booking_chart"
   ]
  },
  {
   "cell_type": "markdown",
   "metadata": {},
   "source": [
    "Create the \"License Distribution per City\" interactive visualization"
   ]
  },
  {
   "cell_type": "code",
   "execution_count": 88,
   "metadata": {},
   "outputs": [
    {
     "data": {
      "text/html": [
       "\n",
       "<style>\n",
       "  #altair-viz-a066934607a84cc3a520302165fea906.vega-embed {\n",
       "    width: 100%;\n",
       "    display: flex;\n",
       "  }\n",
       "\n",
       "  #altair-viz-a066934607a84cc3a520302165fea906.vega-embed details,\n",
       "  #altair-viz-a066934607a84cc3a520302165fea906.vega-embed details summary {\n",
       "    position: relative;\n",
       "  }\n",
       "</style>\n",
       "<div id=\"altair-viz-a066934607a84cc3a520302165fea906\"></div>\n",
       "<script type=\"text/javascript\">\n",
       "  var VEGA_DEBUG = (typeof VEGA_DEBUG == \"undefined\") ? {} : VEGA_DEBUG;\n",
       "  (function(spec, embedOpt){\n",
       "    let outputDiv = document.currentScript.previousElementSibling;\n",
       "    if (outputDiv.id !== \"altair-viz-a066934607a84cc3a520302165fea906\") {\n",
       "      outputDiv = document.getElementById(\"altair-viz-a066934607a84cc3a520302165fea906\");\n",
       "    }\n",
       "    const paths = {\n",
       "      \"vega\": \"https://cdn.jsdelivr.net/npm/vega@5?noext\",\n",
       "      \"vega-lib\": \"https://cdn.jsdelivr.net/npm/vega-lib?noext\",\n",
       "      \"vega-lite\": \"https://cdn.jsdelivr.net/npm/vega-lite@5.8.0?noext\",\n",
       "      \"vega-embed\": \"https://cdn.jsdelivr.net/npm/vega-embed@6?noext\",\n",
       "    };\n",
       "\n",
       "    function maybeLoadScript(lib, version) {\n",
       "      var key = `${lib.replace(\"-\", \"\")}_version`;\n",
       "      return (VEGA_DEBUG[key] == version) ?\n",
       "        Promise.resolve(paths[lib]) :\n",
       "        new Promise(function(resolve, reject) {\n",
       "          var s = document.createElement('script');\n",
       "          document.getElementsByTagName(\"head\")[0].appendChild(s);\n",
       "          s.async = true;\n",
       "          s.onload = () => {\n",
       "            VEGA_DEBUG[key] = version;\n",
       "            return resolve(paths[lib]);\n",
       "          };\n",
       "          s.onerror = () => reject(`Error loading script: ${paths[lib]}`);\n",
       "          s.src = paths[lib];\n",
       "        });\n",
       "    }\n",
       "\n",
       "    function showError(err) {\n",
       "      outputDiv.innerHTML = `<div class=\"error\" style=\"color:red;\">${err}</div>`;\n",
       "      throw err;\n",
       "    }\n",
       "\n",
       "    function displayChart(vegaEmbed) {\n",
       "      vegaEmbed(outputDiv, spec, embedOpt)\n",
       "        .catch(err => showError(`Javascript Error: ${err.message}<br>This usually means there's a typo in your chart specification. See the javascript console for the full traceback.`));\n",
       "    }\n",
       "\n",
       "    if(typeof define === \"function\" && define.amd) {\n",
       "      requirejs.config({paths});\n",
       "      require([\"vega-embed\"], displayChart, err => showError(`Error loading script: ${err.message}`));\n",
       "    } else {\n",
       "      maybeLoadScript(\"vega\", \"5\")\n",
       "        .then(() => maybeLoadScript(\"vega-lite\", \"5.8.0\"))\n",
       "        .then(() => maybeLoadScript(\"vega-embed\", \"6\"))\n",
       "        .catch(showError)\n",
       "        .then(() => displayChart(vegaEmbed));\n",
       "    }\n",
       "  })({\"config\": {\"view\": {\"continuousWidth\": 300, \"continuousHeight\": 300}}, \"data\": {\"name\": \"data-ef2335445a477df0df1d0e00a83daae0\"}, \"mark\": {\"type\": \"arc\"}, \"encoding\": {\"color\": {\"field\": \"license_category\", \"scale\": {\"domain\": [\"licensed\", \"exempt\", \"unlicensed\", \"pending\"], \"range\": [\"#1f77b4\", \"#ff7f0e\", \"#aec7e8\", \"#ffbb78\"]}, \"type\": \"nominal\"}, \"theta\": {\"field\": \"count\", \"type\": \"quantitative\"}, \"tooltip\": [{\"field\": \"license_category\", \"type\": \"nominal\"}, {\"field\": \"count\", \"type\": \"quantitative\"}]}, \"height\": 400, \"params\": [{\"name\": \"param_8\", \"select\": {\"type\": \"point\", \"fields\": [\"city\"]}, \"bind\": {\"input\": \"select\", \"options\": [\"Amsterdam\", \"Athens\", \"Barcelona\", \"Berlin\", \"Copenhagen\", \"Dublin\", \"Lisbon\", \"London\", \"Madrid\", \"Paris\", \"Rome\", \"Venice\", \"Vienna\"], \"labels\": [\"Amsterdam\", \"Athens\", \"Barcelona\", \"Berlin\", \"Copenhagen\", \"Dublin\", \"Lisbon\", \"London\", \"Madrid\", \"Paris\", \"Rome\", \"Venice\", \"Vienna\"], \"name\": \"Select City  :    \"}, \"value\": \"Amsterdam\"}], \"title\": \"License Distribution by City\", \"transform\": [{\"filter\": {\"param\": \"param_8\", \"empty\": false}}], \"width\": 400, \"$schema\": \"https://vega.github.io/schema/vega-lite/v5.8.0.json\", \"datasets\": {\"data-ef2335445a477df0df1d0e00a83daae0\": [{\"city\": \"Amsterdam\", \"license_category\": \"exempt\", \"count\": 366}, {\"city\": \"Amsterdam\", \"license_category\": \"licensed\", \"count\": 4683}, {\"city\": \"Amsterdam\", \"license_category\": \"unlicensed\", \"count\": 17}, {\"city\": \"Athens\", \"license_category\": \"exempt\", \"count\": 69}, {\"city\": \"Athens\", \"license_category\": \"licensed\", \"count\": 7679}, {\"city\": \"Athens\", \"license_category\": \"unlicensed\", \"count\": 22}, {\"city\": \"Barcelona\", \"license_category\": \"exempt\", \"count\": 1724}, {\"city\": \"Barcelona\", \"license_category\": \"licensed\", \"count\": 5391}, {\"city\": \"Barcelona\", \"license_category\": \"unlicensed\", \"count\": 1578}, {\"city\": \"Berlin\", \"license_category\": \"licensed\", \"count\": 5190}, {\"city\": \"Berlin\", \"license_category\": \"unlicensed\", \"count\": 307}, {\"city\": \"Copenhagen\", \"license_category\": \"unlicensed\", \"count\": 10276}, {\"city\": \"Dublin\", \"license_category\": \"unlicensed\", \"count\": 2699}, {\"city\": \"Lisbon\", \"license_category\": \"exempt\", \"count\": 1367}, {\"city\": \"Lisbon\", \"license_category\": \"licensed\", \"count\": 12437}, {\"city\": \"Lisbon\", \"license_category\": \"pending\", \"count\": 1}, {\"city\": \"Lisbon\", \"license_category\": \"unlicensed\", \"count\": 672}, {\"city\": \"London\", \"license_category\": \"unlicensed\", \"count\": 29850}, {\"city\": \"Madrid\", \"license_category\": \"exempt\", \"count\": 3}, {\"city\": \"Madrid\", \"license_category\": \"licensed\", \"count\": 1983}, {\"city\": \"Madrid\", \"license_category\": \"unlicensed\", \"count\": 10210}, {\"city\": \"Paris\", \"license_category\": \"licensed\", \"count\": 29613}, {\"city\": \"Paris\", \"license_category\": \"unlicensed\", \"count\": 2572}, {\"city\": \"Rome\", \"license_category\": \"exempt\", \"count\": 3}, {\"city\": \"Rome\", \"license_category\": \"licensed\", \"count\": 7626}, {\"city\": \"Rome\", \"license_category\": \"unlicensed\", \"count\": 10555}, {\"city\": \"Venice\", \"license_category\": \"licensed\", \"count\": 2812}, {\"city\": \"Venice\", \"license_category\": \"unlicensed\", \"count\": 2608}, {\"city\": \"Vienna\", \"license_category\": \"unlicensed\", \"count\": 6569}]}}, {\"mode\": \"vega-lite\"});\n",
       "</script>"
      ],
      "text/plain": [
       "alt.Chart(...)"
      ]
     },
     "execution_count": 88,
     "metadata": {},
     "output_type": "execute_result"
    }
   ],
   "source": [
    "# Create a dropdown for city selection with customized appearance\n",
    "city_dropdown = alt.binding_select(\n",
    "    options=cities, \n",
    "    name=\"Select City  :    \",\n",
    "    labels=cities\n",
    ")\n",
    "city_select = alt.selection_point(fields=['city'], bind=city_dropdown, value='Amsterdam', empty=False)  # Set default to 'Amsterdam'\n",
    "\n",
    "# Categorize license types\n",
    "cities_together_data['license_category'] = cities_together_data['license'].apply(\n",
    "    lambda x: 'exempt' if x == 'Exempt' else\n",
    "              'pending' if x == 'pending' else\n",
    "              'licensed' if isinstance(x, str) else\n",
    "              'unlicensed' \n",
    ")\n",
    "\n",
    "# Now group by city and license category\n",
    "license_counts = cities_together_data.groupby(['city', 'license_category']).size().reset_index(name='count')\n",
    "\n",
    "\n",
    "# Define a fixed color scale with the colors you want\n",
    "color_scale = alt.Scale(\n",
    "    domain=['licensed', 'exempt', 'unlicensed', 'pending'],\n",
    "    range=['#1f77b4', '#ff7f0e', '#aec7e8', '#ffbb78']  # Blue, orange, light blue, light orange\n",
    ")\n",
    "# Create the pie chart for license distribution\n",
    "license_chart = alt.Chart(license_counts).mark_arc().encode(\n",
    "    theta='count:Q',  # Size of each segment\n",
    "    color=alt.Color('license_category:N', scale=color_scale),  # Apply the fixed color scale\n",
    "    tooltip=['license_category:N', 'count:Q']  # Show license category and count on hover\n",
    ").add_params(\n",
    "    city_select\n",
    ").transform_filter(\n",
    "    city_select\n",
    ").properties(\n",
    "    width=400,\n",
    "    height=400,\n",
    "    title=\"License Distribution by City\"\n",
    ")\n",
    "\n",
    "license_chart"
   ]
  },
  {
   "cell_type": "markdown",
   "metadata": {},
   "source": [
    "Create the \"Distribution of Listings by Minimum Nights per City\" interactive visualization"
   ]
  },
  {
   "cell_type": "code",
   "execution_count": 89,
   "metadata": {},
   "outputs": [
    {
     "data": {
      "text/html": [
       "\n",
       "<style>\n",
       "  #altair-viz-1d856cc4dea346819d0ecabfa4a24a07.vega-embed {\n",
       "    width: 100%;\n",
       "    display: flex;\n",
       "  }\n",
       "\n",
       "  #altair-viz-1d856cc4dea346819d0ecabfa4a24a07.vega-embed details,\n",
       "  #altair-viz-1d856cc4dea346819d0ecabfa4a24a07.vega-embed details summary {\n",
       "    position: relative;\n",
       "  }\n",
       "</style>\n",
       "<div id=\"altair-viz-1d856cc4dea346819d0ecabfa4a24a07\"></div>\n",
       "<script type=\"text/javascript\">\n",
       "  var VEGA_DEBUG = (typeof VEGA_DEBUG == \"undefined\") ? {} : VEGA_DEBUG;\n",
       "  (function(spec, embedOpt){\n",
       "    let outputDiv = document.currentScript.previousElementSibling;\n",
       "    if (outputDiv.id !== \"altair-viz-1d856cc4dea346819d0ecabfa4a24a07\") {\n",
       "      outputDiv = document.getElementById(\"altair-viz-1d856cc4dea346819d0ecabfa4a24a07\");\n",
       "    }\n",
       "    const paths = {\n",
       "      \"vega\": \"https://cdn.jsdelivr.net/npm/vega@5?noext\",\n",
       "      \"vega-lib\": \"https://cdn.jsdelivr.net/npm/vega-lib?noext\",\n",
       "      \"vega-lite\": \"https://cdn.jsdelivr.net/npm/vega-lite@5.8.0?noext\",\n",
       "      \"vega-embed\": \"https://cdn.jsdelivr.net/npm/vega-embed@6?noext\",\n",
       "    };\n",
       "\n",
       "    function maybeLoadScript(lib, version) {\n",
       "      var key = `${lib.replace(\"-\", \"\")}_version`;\n",
       "      return (VEGA_DEBUG[key] == version) ?\n",
       "        Promise.resolve(paths[lib]) :\n",
       "        new Promise(function(resolve, reject) {\n",
       "          var s = document.createElement('script');\n",
       "          document.getElementsByTagName(\"head\")[0].appendChild(s);\n",
       "          s.async = true;\n",
       "          s.onload = () => {\n",
       "            VEGA_DEBUG[key] = version;\n",
       "            return resolve(paths[lib]);\n",
       "          };\n",
       "          s.onerror = () => reject(`Error loading script: ${paths[lib]}`);\n",
       "          s.src = paths[lib];\n",
       "        });\n",
       "    }\n",
       "\n",
       "    function showError(err) {\n",
       "      outputDiv.innerHTML = `<div class=\"error\" style=\"color:red;\">${err}</div>`;\n",
       "      throw err;\n",
       "    }\n",
       "\n",
       "    function displayChart(vegaEmbed) {\n",
       "      vegaEmbed(outputDiv, spec, embedOpt)\n",
       "        .catch(err => showError(`Javascript Error: ${err.message}<br>This usually means there's a typo in your chart specification. See the javascript console for the full traceback.`));\n",
       "    }\n",
       "\n",
       "    if(typeof define === \"function\" && define.amd) {\n",
       "      requirejs.config({paths});\n",
       "      require([\"vega-embed\"], displayChart, err => showError(`Error loading script: ${err.message}`));\n",
       "    } else {\n",
       "      maybeLoadScript(\"vega\", \"5\")\n",
       "        .then(() => maybeLoadScript(\"vega-lite\", \"5.8.0\"))\n",
       "        .then(() => maybeLoadScript(\"vega-embed\", \"6\"))\n",
       "        .catch(showError)\n",
       "        .then(() => displayChart(vegaEmbed));\n",
       "    }\n",
       "  })({\"config\": {\"view\": {\"continuousWidth\": 300, \"continuousHeight\": 300}}, \"layer\": [{\"data\": {\"name\": \"data-ffb4955e43f2a55161b0219ec4686862\"}, \"mark\": {\"type\": \"bar\"}, \"encoding\": {\"color\": {\"field\": \"minimum_nights\", \"type\": \"nominal\"}, \"tooltip\": [{\"field\": \"minimum_nights\", \"type\": \"nominal\"}, {\"field\": \"listing_count\", \"type\": \"quantitative\"}], \"x\": {\"field\": \"minimum_nights\", \"type\": \"ordinal\"}, \"y\": {\"field\": \"listing_count\", \"type\": \"quantitative\"}}, \"name\": \"view_2\", \"transform\": [{\"filter\": {\"param\": \"param_9\", \"empty\": false}}]}, {\"data\": {\"name\": \"data-a0a980626c752a3a0681b338ba750771\"}, \"mark\": {\"type\": \"rule\", \"color\": \"black\"}, \"encoding\": {\"x\": {\"field\": \"x\", \"type\": \"ordinal\"}}}], \"height\": 400, \"params\": [{\"name\": \"param_9\", \"select\": {\"type\": \"point\", \"fields\": [\"city\"]}, \"bind\": {\"input\": \"select\", \"options\": [\"Amsterdam\", \"Athens\", \"Barcelona\", \"Berlin\", \"Copenhagen\", \"Dublin\", \"Lisbon\", \"London\", \"Madrid\", \"Paris\", \"Rome\", \"Venice\", \"Vienna\"], \"labels\": [\"Amsterdam\", \"Athens\", \"Barcelona\", \"Berlin\", \"Copenhagen\", \"Dublin\", \"Lisbon\", \"London\", \"Madrid\", \"Paris\", \"Rome\", \"Venice\", \"Vienna\"], \"name\": \"Select City  :    \"}, \"value\": \"Amsterdam\", \"views\": [\"view_2\"]}], \"title\": \"Distribution of Listings by Minimum Nights per City\", \"width\": 600, \"$schema\": \"https://vega.github.io/schema/vega-lite/v5.8.0.json\", \"datasets\": {\"data-ffb4955e43f2a55161b0219ec4686862\": [{\"city\": \"Amsterdam\", \"minimum_nights\": 1, \"listing_count\": 848}, {\"city\": \"Amsterdam\", \"minimum_nights\": 2, \"listing_count\": 1543}, {\"city\": \"Amsterdam\", \"minimum_nights\": 3, \"listing_count\": 1497}, {\"city\": \"Amsterdam\", \"minimum_nights\": 4, \"listing_count\": 548}, {\"city\": \"Amsterdam\", \"minimum_nights\": 5, \"listing_count\": 318}, {\"city\": \"Amsterdam\", \"minimum_nights\": 6, \"listing_count\": 72}, {\"city\": \"Amsterdam\", \"minimum_nights\": 7, \"listing_count\": 133}, {\"city\": \"Amsterdam\", \"minimum_nights\": 8, \"listing_count\": 8}, {\"city\": \"Amsterdam\", \"minimum_nights\": 9, \"listing_count\": 4}, {\"city\": \"Amsterdam\", \"minimum_nights\": 10, \"listing_count\": 19}, {\"city\": \"Amsterdam\", \"minimum_nights\": 12, \"listing_count\": 7}, {\"city\": \"Amsterdam\", \"minimum_nights\": 14, \"listing_count\": 11}, {\"city\": \"Amsterdam\", \"minimum_nights\": 20, \"listing_count\": 8}, {\"city\": \"Amsterdam\", \"minimum_nights\": 21, \"listing_count\": 9}, {\"city\": \"Amsterdam\", \"minimum_nights\": 25, \"listing_count\": 6}, {\"city\": \"Amsterdam\", \"minimum_nights\": 26, \"listing_count\": 1}, {\"city\": \"Amsterdam\", \"minimum_nights\": 28, \"listing_count\": 13}, {\"city\": \"Amsterdam\", \"minimum_nights\": 29, \"listing_count\": 2}, {\"city\": \"Amsterdam\", \"minimum_nights\": 30, \"listing_count\": 12}, {\"city\": \"Amsterdam\", \"minimum_nights\": 45, \"listing_count\": 1}, {\"city\": \"Amsterdam\", \"minimum_nights\": 50, \"listing_count\": 1}, {\"city\": \"Amsterdam\", \"minimum_nights\": 84, \"listing_count\": 1}, {\"city\": \"Amsterdam\", \"minimum_nights\": 90, \"listing_count\": 1}, {\"city\": \"Amsterdam\", \"minimum_nights\": 100, \"listing_count\": 1}, {\"city\": \"Amsterdam\", \"minimum_nights\": 120, \"listing_count\": 1}, {\"city\": \"Amsterdam\", \"minimum_nights\": 150, \"listing_count\": 1}, {\"city\": \"Athens\", \"minimum_nights\": 1, \"listing_count\": 3017}, {\"city\": \"Athens\", \"minimum_nights\": 2, \"listing_count\": 3226}, {\"city\": \"Athens\", \"minimum_nights\": 3, \"listing_count\": 1009}, {\"city\": \"Athens\", \"minimum_nights\": 4, \"listing_count\": 196}, {\"city\": \"Athens\", \"minimum_nights\": 5, \"listing_count\": 119}, {\"city\": \"Athens\", \"minimum_nights\": 6, \"listing_count\": 39}, {\"city\": \"Athens\", \"minimum_nights\": 7, \"listing_count\": 58}, {\"city\": \"Athens\", \"minimum_nights\": 8, \"listing_count\": 7}, {\"city\": \"Athens\", \"minimum_nights\": 10, \"listing_count\": 12}, {\"city\": \"Athens\", \"minimum_nights\": 12, \"listing_count\": 2}, {\"city\": \"Athens\", \"minimum_nights\": 14, \"listing_count\": 7}, {\"city\": \"Athens\", \"minimum_nights\": 15, \"listing_count\": 14}, {\"city\": \"Athens\", \"minimum_nights\": 17, \"listing_count\": 1}, {\"city\": \"Athens\", \"minimum_nights\": 18, \"listing_count\": 1}, {\"city\": \"Athens\", \"minimum_nights\": 20, \"listing_count\": 17}, {\"city\": \"Athens\", \"minimum_nights\": 21, \"listing_count\": 2}, {\"city\": \"Athens\", \"minimum_nights\": 25, \"listing_count\": 3}, {\"city\": \"Athens\", \"minimum_nights\": 28, \"listing_count\": 11}, {\"city\": \"Athens\", \"minimum_nights\": 29, \"listing_count\": 1}, {\"city\": \"Athens\", \"minimum_nights\": 30, \"listing_count\": 16}, {\"city\": \"Athens\", \"minimum_nights\": 45, \"listing_count\": 1}, {\"city\": \"Athens\", \"minimum_nights\": 60, \"listing_count\": 2}, {\"city\": \"Athens\", \"minimum_nights\": 61, \"listing_count\": 2}, {\"city\": \"Athens\", \"minimum_nights\": 90, \"listing_count\": 1}, {\"city\": \"Athens\", \"minimum_nights\": 92, \"listing_count\": 1}, {\"city\": \"Athens\", \"minimum_nights\": 120, \"listing_count\": 2}, {\"city\": \"Athens\", \"minimum_nights\": 170, \"listing_count\": 1}, {\"city\": \"Athens\", \"minimum_nights\": 180, \"listing_count\": 2}, {\"city\": \"Barcelona\", \"minimum_nights\": 1, \"listing_count\": 3009}, {\"city\": \"Barcelona\", \"minimum_nights\": 2, \"listing_count\": 1092}, {\"city\": \"Barcelona\", \"minimum_nights\": 3, \"listing_count\": 1306}, {\"city\": \"Barcelona\", \"minimum_nights\": 4, \"listing_count\": 387}, {\"city\": \"Barcelona\", \"minimum_nights\": 5, \"listing_count\": 195}, {\"city\": \"Barcelona\", \"minimum_nights\": 6, \"listing_count\": 59}, {\"city\": \"Barcelona\", \"minimum_nights\": 7, \"listing_count\": 75}, {\"city\": \"Barcelona\", \"minimum_nights\": 8, \"listing_count\": 5}, {\"city\": \"Barcelona\", \"minimum_nights\": 9, \"listing_count\": 2}, {\"city\": \"Barcelona\", \"minimum_nights\": 10, \"listing_count\": 5}, {\"city\": \"Barcelona\", \"minimum_nights\": 11, \"listing_count\": 1}, {\"city\": \"Barcelona\", \"minimum_nights\": 12, \"listing_count\": 1}, {\"city\": \"Barcelona\", \"minimum_nights\": 13, \"listing_count\": 3}, {\"city\": \"Barcelona\", \"minimum_nights\": 14, \"listing_count\": 11}, {\"city\": \"Barcelona\", \"minimum_nights\": 15, \"listing_count\": 9}, {\"city\": \"Barcelona\", \"minimum_nights\": 20, \"listing_count\": 6}, {\"city\": \"Barcelona\", \"minimum_nights\": 21, \"listing_count\": 1}, {\"city\": \"Barcelona\", \"minimum_nights\": 25, \"listing_count\": 1}, {\"city\": \"Barcelona\", \"minimum_nights\": 27, \"listing_count\": 2}, {\"city\": \"Barcelona\", \"minimum_nights\": 28, \"listing_count\": 41}, {\"city\": \"Barcelona\", \"minimum_nights\": 29, \"listing_count\": 5}, {\"city\": \"Barcelona\", \"minimum_nights\": 30, \"listing_count\": 142}, {\"city\": \"Barcelona\", \"minimum_nights\": 31, \"listing_count\": 906}, {\"city\": \"Barcelona\", \"minimum_nights\": 32, \"listing_count\": 1207}, {\"city\": \"Barcelona\", \"minimum_nights\": 33, \"listing_count\": 105}, {\"city\": \"Barcelona\", \"minimum_nights\": 34, \"listing_count\": 2}, {\"city\": \"Barcelona\", \"minimum_nights\": 35, \"listing_count\": 22}, {\"city\": \"Barcelona\", \"minimum_nights\": 38, \"listing_count\": 1}, {\"city\": \"Barcelona\", \"minimum_nights\": 40, \"listing_count\": 4}, {\"city\": \"Barcelona\", \"minimum_nights\": 42, \"listing_count\": 1}, {\"city\": \"Barcelona\", \"minimum_nights\": 45, \"listing_count\": 7}, {\"city\": \"Barcelona\", \"minimum_nights\": 50, \"listing_count\": 4}, {\"city\": \"Barcelona\", \"minimum_nights\": 58, \"listing_count\": 1}, {\"city\": \"Barcelona\", \"minimum_nights\": 60, \"listing_count\": 27}, {\"city\": \"Barcelona\", \"minimum_nights\": 61, \"listing_count\": 2}, {\"city\": \"Barcelona\", \"minimum_nights\": 62, \"listing_count\": 1}, {\"city\": \"Barcelona\", \"minimum_nights\": 64, \"listing_count\": 2}, {\"city\": \"Barcelona\", \"minimum_nights\": 70, \"listing_count\": 2}, {\"city\": \"Barcelona\", \"minimum_nights\": 75, \"listing_count\": 1}, {\"city\": \"Barcelona\", \"minimum_nights\": 80, \"listing_count\": 3}, {\"city\": \"Barcelona\", \"minimum_nights\": 90, \"listing_count\": 19}, {\"city\": \"Barcelona\", \"minimum_nights\": 91, \"listing_count\": 2}, {\"city\": \"Barcelona\", \"minimum_nights\": 120, \"listing_count\": 7}, {\"city\": \"Barcelona\", \"minimum_nights\": 150, \"listing_count\": 1}, {\"city\": \"Barcelona\", \"minimum_nights\": 179, \"listing_count\": 1}, {\"city\": \"Barcelona\", \"minimum_nights\": 200, \"listing_count\": 1}, {\"city\": \"Barcelona\", \"minimum_nights\": 330, \"listing_count\": 2}, {\"city\": \"Barcelona\", \"minimum_nights\": 360, \"listing_count\": 1}, {\"city\": \"Barcelona\", \"minimum_nights\": 364, \"listing_count\": 1}, {\"city\": \"Barcelona\", \"minimum_nights\": 365, \"listing_count\": 1}, {\"city\": \"Barcelona\", \"minimum_nights\": 865, \"listing_count\": 1}, {\"city\": \"Berlin\", \"minimum_nights\": 1, \"listing_count\": 1360}, {\"city\": \"Berlin\", \"minimum_nights\": 2, \"listing_count\": 1271}, {\"city\": \"Berlin\", \"minimum_nights\": 3, \"listing_count\": 1127}, {\"city\": \"Berlin\", \"minimum_nights\": 4, \"listing_count\": 435}, {\"city\": \"Berlin\", \"minimum_nights\": 5, \"listing_count\": 349}, {\"city\": \"Berlin\", \"minimum_nights\": 6, \"listing_count\": 97}, {\"city\": \"Berlin\", \"minimum_nights\": 7, \"listing_count\": 171}, {\"city\": \"Berlin\", \"minimum_nights\": 8, \"listing_count\": 18}, {\"city\": \"Berlin\", \"minimum_nights\": 9, \"listing_count\": 17}, {\"city\": \"Berlin\", \"minimum_nights\": 10, \"listing_count\": 46}, {\"city\": \"Berlin\", \"minimum_nights\": 12, \"listing_count\": 5}, {\"city\": \"Berlin\", \"minimum_nights\": 13, \"listing_count\": 6}, {\"city\": \"Berlin\", \"minimum_nights\": 14, \"listing_count\": 44}, {\"city\": \"Berlin\", \"minimum_nights\": 15, \"listing_count\": 6}, {\"city\": \"Berlin\", \"minimum_nights\": 16, \"listing_count\": 4}, {\"city\": \"Berlin\", \"minimum_nights\": 18, \"listing_count\": 3}, {\"city\": \"Berlin\", \"minimum_nights\": 20, \"listing_count\": 12}, {\"city\": \"Berlin\", \"minimum_nights\": 21, \"listing_count\": 15}, {\"city\": \"Berlin\", \"minimum_nights\": 22, \"listing_count\": 1}, {\"city\": \"Berlin\", \"minimum_nights\": 23, \"listing_count\": 1}, {\"city\": \"Berlin\", \"minimum_nights\": 24, \"listing_count\": 1}, {\"city\": \"Berlin\", \"minimum_nights\": 25, \"listing_count\": 6}, {\"city\": \"Berlin\", \"minimum_nights\": 26, \"listing_count\": 1}, {\"city\": \"Berlin\", \"minimum_nights\": 27, \"listing_count\": 1}, {\"city\": \"Berlin\", \"minimum_nights\": 28, \"listing_count\": 43}, {\"city\": \"Berlin\", \"minimum_nights\": 29, \"listing_count\": 4}, {\"city\": \"Berlin\", \"minimum_nights\": 30, \"listing_count\": 57}, {\"city\": \"Berlin\", \"minimum_nights\": 31, \"listing_count\": 3}, {\"city\": \"Berlin\", \"minimum_nights\": 41, \"listing_count\": 1}, {\"city\": \"Berlin\", \"minimum_nights\": 42, \"listing_count\": 1}, {\"city\": \"Berlin\", \"minimum_nights\": 45, \"listing_count\": 9}, {\"city\": \"Berlin\", \"minimum_nights\": 50, \"listing_count\": 3}, {\"city\": \"Berlin\", \"minimum_nights\": 54, \"listing_count\": 1}, {\"city\": \"Berlin\", \"minimum_nights\": 55, \"listing_count\": 1}, {\"city\": \"Berlin\", \"minimum_nights\": 57, \"listing_count\": 1}, {\"city\": \"Berlin\", \"minimum_nights\": 60, \"listing_count\": 10}, {\"city\": \"Berlin\", \"minimum_nights\": 61, \"listing_count\": 2}, {\"city\": \"Berlin\", \"minimum_nights\": 63, \"listing_count\": 1}, {\"city\": \"Berlin\", \"minimum_nights\": 75, \"listing_count\": 1}, {\"city\": \"Berlin\", \"minimum_nights\": 80, \"listing_count\": 1}, {\"city\": \"Berlin\", \"minimum_nights\": 85, \"listing_count\": 1}, {\"city\": \"Berlin\", \"minimum_nights\": 88, \"listing_count\": 1}, {\"city\": \"Berlin\", \"minimum_nights\": 90, \"listing_count\": 42}, {\"city\": \"Berlin\", \"minimum_nights\": 92, \"listing_count\": 250}, {\"city\": \"Berlin\", \"minimum_nights\": 93, \"listing_count\": 33}, {\"city\": \"Berlin\", \"minimum_nights\": 94, \"listing_count\": 1}, {\"city\": \"Berlin\", \"minimum_nights\": 95, \"listing_count\": 5}, {\"city\": \"Berlin\", \"minimum_nights\": 100, \"listing_count\": 5}, {\"city\": \"Berlin\", \"minimum_nights\": 110, \"listing_count\": 1}, {\"city\": \"Berlin\", \"minimum_nights\": 120, \"listing_count\": 7}, {\"city\": \"Berlin\", \"minimum_nights\": 150, \"listing_count\": 5}, {\"city\": \"Berlin\", \"minimum_nights\": 180, \"listing_count\": 8}, {\"city\": \"Berlin\", \"minimum_nights\": 185, \"listing_count\": 1}, {\"city\": \"Berlin\", \"minimum_nights\": 300, \"listing_count\": 1}, {\"city\": \"Copenhagen\", \"minimum_nights\": 1, \"listing_count\": 1226}, {\"city\": \"Copenhagen\", \"minimum_nights\": 2, \"listing_count\": 2497}, {\"city\": \"Copenhagen\", \"minimum_nights\": 3, \"listing_count\": 2789}, {\"city\": \"Copenhagen\", \"minimum_nights\": 4, \"listing_count\": 1612}, {\"city\": \"Copenhagen\", \"minimum_nights\": 5, \"listing_count\": 1171}, {\"city\": \"Copenhagen\", \"minimum_nights\": 6, \"listing_count\": 349}, {\"city\": \"Copenhagen\", \"minimum_nights\": 7, \"listing_count\": 313}, {\"city\": \"Copenhagen\", \"minimum_nights\": 8, \"listing_count\": 29}, {\"city\": \"Copenhagen\", \"minimum_nights\": 9, \"listing_count\": 11}, {\"city\": \"Copenhagen\", \"minimum_nights\": 10, \"listing_count\": 59}, {\"city\": \"Copenhagen\", \"minimum_nights\": 11, \"listing_count\": 5}, {\"city\": \"Copenhagen\", \"minimum_nights\": 12, \"listing_count\": 9}, {\"city\": \"Copenhagen\", \"minimum_nights\": 13, \"listing_count\": 8}, {\"city\": \"Copenhagen\", \"minimum_nights\": 14, \"listing_count\": 56}, {\"city\": \"Copenhagen\", \"minimum_nights\": 15, \"listing_count\": 11}, {\"city\": \"Copenhagen\", \"minimum_nights\": 16, \"listing_count\": 2}, {\"city\": \"Copenhagen\", \"minimum_nights\": 17, \"listing_count\": 1}, {\"city\": \"Copenhagen\", \"minimum_nights\": 18, \"listing_count\": 3}, {\"city\": \"Copenhagen\", \"minimum_nights\": 19, \"listing_count\": 2}, {\"city\": \"Copenhagen\", \"minimum_nights\": 20, \"listing_count\": 8}, {\"city\": \"Copenhagen\", \"minimum_nights\": 21, \"listing_count\": 12}, {\"city\": \"Copenhagen\", \"minimum_nights\": 22, \"listing_count\": 1}, {\"city\": \"Copenhagen\", \"minimum_nights\": 25, \"listing_count\": 4}, {\"city\": \"Copenhagen\", \"minimum_nights\": 26, \"listing_count\": 1}, {\"city\": \"Copenhagen\", \"minimum_nights\": 27, \"listing_count\": 1}, {\"city\": \"Copenhagen\", \"minimum_nights\": 28, \"listing_count\": 13}, {\"city\": \"Copenhagen\", \"minimum_nights\": 29, \"listing_count\": 2}, {\"city\": \"Copenhagen\", \"minimum_nights\": 30, \"listing_count\": 43}, {\"city\": \"Copenhagen\", \"minimum_nights\": 31, \"listing_count\": 7}, {\"city\": \"Copenhagen\", \"minimum_nights\": 45, \"listing_count\": 2}, {\"city\": \"Copenhagen\", \"minimum_nights\": 55, \"listing_count\": 1}, {\"city\": \"Copenhagen\", \"minimum_nights\": 58, \"listing_count\": 1}, {\"city\": \"Copenhagen\", \"minimum_nights\": 60, \"listing_count\": 5}, {\"city\": \"Copenhagen\", \"minimum_nights\": 70, \"listing_count\": 1}, {\"city\": \"Copenhagen\", \"minimum_nights\": 89, \"listing_count\": 1}, {\"city\": \"Copenhagen\", \"minimum_nights\": 90, \"listing_count\": 8}, {\"city\": \"Copenhagen\", \"minimum_nights\": 99, \"listing_count\": 1}, {\"city\": \"Copenhagen\", \"minimum_nights\": 100, \"listing_count\": 1}, {\"city\": \"Copenhagen\", \"minimum_nights\": 150, \"listing_count\": 1}, {\"city\": \"Copenhagen\", \"minimum_nights\": 160, \"listing_count\": 1}, {\"city\": \"Copenhagen\", \"minimum_nights\": 300, \"listing_count\": 1}, {\"city\": \"Copenhagen\", \"minimum_nights\": 360, \"listing_count\": 2}, {\"city\": \"Copenhagen\", \"minimum_nights\": 365, \"listing_count\": 4}, {\"city\": \"Copenhagen\", \"minimum_nights\": 730, \"listing_count\": 1}, {\"city\": \"Dublin\", \"minimum_nights\": 1, \"listing_count\": 776}, {\"city\": \"Dublin\", \"minimum_nights\": 2, \"listing_count\": 756}, {\"city\": \"Dublin\", \"minimum_nights\": 3, \"listing_count\": 419}, {\"city\": \"Dublin\", \"minimum_nights\": 4, \"listing_count\": 172}, {\"city\": \"Dublin\", \"minimum_nights\": 5, \"listing_count\": 91}, {\"city\": \"Dublin\", \"minimum_nights\": 6, \"listing_count\": 31}, {\"city\": \"Dublin\", \"minimum_nights\": 7, \"listing_count\": 74}, {\"city\": \"Dublin\", \"minimum_nights\": 8, \"listing_count\": 1}, {\"city\": \"Dublin\", \"minimum_nights\": 10, \"listing_count\": 8}, {\"city\": \"Dublin\", \"minimum_nights\": 11, \"listing_count\": 1}, {\"city\": \"Dublin\", \"minimum_nights\": 12, \"listing_count\": 1}, {\"city\": \"Dublin\", \"minimum_nights\": 13, \"listing_count\": 3}, {\"city\": \"Dublin\", \"minimum_nights\": 14, \"listing_count\": 228}, {\"city\": \"Dublin\", \"minimum_nights\": 15, \"listing_count\": 40}, {\"city\": \"Dublin\", \"minimum_nights\": 16, \"listing_count\": 3}, {\"city\": \"Dublin\", \"minimum_nights\": 20, \"listing_count\": 3}, {\"city\": \"Dublin\", \"minimum_nights\": 21, \"listing_count\": 13}, {\"city\": \"Dublin\", \"minimum_nights\": 22, \"listing_count\": 5}, {\"city\": \"Dublin\", \"minimum_nights\": 24, \"listing_count\": 1}, {\"city\": \"Dublin\", \"minimum_nights\": 27, \"listing_count\": 6}, {\"city\": \"Dublin\", \"minimum_nights\": 28, \"listing_count\": 17}, {\"city\": \"Dublin\", \"minimum_nights\": 30, \"listing_count\": 22}, {\"city\": \"Dublin\", \"minimum_nights\": 35, \"listing_count\": 5}, {\"city\": \"Dublin\", \"minimum_nights\": 55, \"listing_count\": 1}, {\"city\": \"Dublin\", \"minimum_nights\": 56, \"listing_count\": 1}, {\"city\": \"Dublin\", \"minimum_nights\": 60, \"listing_count\": 10}, {\"city\": \"Dublin\", \"minimum_nights\": 90, \"listing_count\": 2}, {\"city\": \"Dublin\", \"minimum_nights\": 199, \"listing_count\": 8}, {\"city\": \"Dublin\", \"minimum_nights\": 729, \"listing_count\": 1}, {\"city\": \"Lisbon\", \"minimum_nights\": 1, \"listing_count\": 4234}, {\"city\": \"Lisbon\", \"minimum_nights\": 2, \"listing_count\": 4154}, {\"city\": \"Lisbon\", \"minimum_nights\": 3, \"listing_count\": 3694}, {\"city\": \"Lisbon\", \"minimum_nights\": 4, \"listing_count\": 1020}, {\"city\": \"Lisbon\", \"minimum_nights\": 5, \"listing_count\": 606}, {\"city\": \"Lisbon\", \"minimum_nights\": 6, \"listing_count\": 133}, {\"city\": \"Lisbon\", \"minimum_nights\": 7, \"listing_count\": 201}, {\"city\": \"Lisbon\", \"minimum_nights\": 8, \"listing_count\": 10}, {\"city\": \"Lisbon\", \"minimum_nights\": 9, \"listing_count\": 3}, {\"city\": \"Lisbon\", \"minimum_nights\": 10, \"listing_count\": 34}, {\"city\": \"Lisbon\", \"minimum_nights\": 12, \"listing_count\": 13}, {\"city\": \"Lisbon\", \"minimum_nights\": 14, \"listing_count\": 28}, {\"city\": \"Lisbon\", \"minimum_nights\": 15, \"listing_count\": 27}, {\"city\": \"Lisbon\", \"minimum_nights\": 16, \"listing_count\": 2}, {\"city\": \"Lisbon\", \"minimum_nights\": 20, \"listing_count\": 9}, {\"city\": \"Lisbon\", \"minimum_nights\": 21, \"listing_count\": 3}, {\"city\": \"Lisbon\", \"minimum_nights\": 22, \"listing_count\": 5}, {\"city\": \"Lisbon\", \"minimum_nights\": 24, \"listing_count\": 2}, {\"city\": \"Lisbon\", \"minimum_nights\": 25, \"listing_count\": 11}, {\"city\": \"Lisbon\", \"minimum_nights\": 27, \"listing_count\": 1}, {\"city\": \"Lisbon\", \"minimum_nights\": 28, \"listing_count\": 74}, {\"city\": \"Lisbon\", \"minimum_nights\": 29, \"listing_count\": 17}, {\"city\": \"Lisbon\", \"minimum_nights\": 30, \"listing_count\": 94}, {\"city\": \"Lisbon\", \"minimum_nights\": 31, \"listing_count\": 75}, {\"city\": \"Lisbon\", \"minimum_nights\": 32, \"listing_count\": 1}, {\"city\": \"Lisbon\", \"minimum_nights\": 60, \"listing_count\": 9}, {\"city\": \"Lisbon\", \"minimum_nights\": 62, \"listing_count\": 1}, {\"city\": \"Lisbon\", \"minimum_nights\": 65, \"listing_count\": 1}, {\"city\": \"Lisbon\", \"minimum_nights\": 90, \"listing_count\": 7}, {\"city\": \"Lisbon\", \"minimum_nights\": 120, \"listing_count\": 2}, {\"city\": \"Lisbon\", \"minimum_nights\": 150, \"listing_count\": 1}, {\"city\": \"Lisbon\", \"minimum_nights\": 180, \"listing_count\": 2}, {\"city\": \"Lisbon\", \"minimum_nights\": 365, \"listing_count\": 3}, {\"city\": \"London\", \"minimum_nights\": 1, \"listing_count\": 8360}, {\"city\": \"London\", \"minimum_nights\": 2, \"listing_count\": 7902}, {\"city\": \"London\", \"minimum_nights\": 3, \"listing_count\": 6206}, {\"city\": \"London\", \"minimum_nights\": 4, \"listing_count\": 2210}, {\"city\": \"London\", \"minimum_nights\": 5, \"listing_count\": 1917}, {\"city\": \"London\", \"minimum_nights\": 6, \"listing_count\": 421}, {\"city\": \"London\", \"minimum_nights\": 7, \"listing_count\": 1091}, {\"city\": \"London\", \"minimum_nights\": 8, \"listing_count\": 38}, {\"city\": \"London\", \"minimum_nights\": 9, \"listing_count\": 39}, {\"city\": \"London\", \"minimum_nights\": 10, \"listing_count\": 196}, {\"city\": \"London\", \"minimum_nights\": 11, \"listing_count\": 4}, {\"city\": \"London\", \"minimum_nights\": 12, \"listing_count\": 36}, {\"city\": \"London\", \"minimum_nights\": 13, \"listing_count\": 22}, {\"city\": \"London\", \"minimum_nights\": 14, \"listing_count\": 402}, {\"city\": \"London\", \"minimum_nights\": 15, \"listing_count\": 40}, {\"city\": \"London\", \"minimum_nights\": 16, \"listing_count\": 3}, {\"city\": \"London\", \"minimum_nights\": 17, \"listing_count\": 2}, {\"city\": \"London\", \"minimum_nights\": 18, \"listing_count\": 5}, {\"city\": \"London\", \"minimum_nights\": 19, \"listing_count\": 2}, {\"city\": \"London\", \"minimum_nights\": 20, \"listing_count\": 60}, {\"city\": \"London\", \"minimum_nights\": 21, \"listing_count\": 113}, {\"city\": \"London\", \"minimum_nights\": 22, \"listing_count\": 2}, {\"city\": \"London\", \"minimum_nights\": 23, \"listing_count\": 1}, {\"city\": \"London\", \"minimum_nights\": 24, \"listing_count\": 4}, {\"city\": \"London\", \"minimum_nights\": 25, \"listing_count\": 25}, {\"city\": \"London\", \"minimum_nights\": 26, \"listing_count\": 6}, {\"city\": \"London\", \"minimum_nights\": 27, \"listing_count\": 6}, {\"city\": \"London\", \"minimum_nights\": 28, \"listing_count\": 174}, {\"city\": \"London\", \"minimum_nights\": 29, \"listing_count\": 9}, {\"city\": \"London\", \"minimum_nights\": 30, \"listing_count\": 277}, {\"city\": \"London\", \"minimum_nights\": 31, \"listing_count\": 6}, {\"city\": \"London\", \"minimum_nights\": 32, \"listing_count\": 6}, {\"city\": \"London\", \"minimum_nights\": 35, \"listing_count\": 2}, {\"city\": \"London\", \"minimum_nights\": 37, \"listing_count\": 1}, {\"city\": \"London\", \"minimum_nights\": 38, \"listing_count\": 1}, {\"city\": \"London\", \"minimum_nights\": 40, \"listing_count\": 1}, {\"city\": \"London\", \"minimum_nights\": 42, \"listing_count\": 1}, {\"city\": \"London\", \"minimum_nights\": 45, \"listing_count\": 6}, {\"city\": \"London\", \"minimum_nights\": 49, \"listing_count\": 1}, {\"city\": \"London\", \"minimum_nights\": 50, \"listing_count\": 9}, {\"city\": \"London\", \"minimum_nights\": 54, \"listing_count\": 1}, {\"city\": \"London\", \"minimum_nights\": 55, \"listing_count\": 1}, {\"city\": \"London\", \"minimum_nights\": 56, \"listing_count\": 2}, {\"city\": \"London\", \"minimum_nights\": 58, \"listing_count\": 4}, {\"city\": \"London\", \"minimum_nights\": 59, \"listing_count\": 3}, {\"city\": \"London\", \"minimum_nights\": 60, \"listing_count\": 21}, {\"city\": \"London\", \"minimum_nights\": 62, \"listing_count\": 1}, {\"city\": \"London\", \"minimum_nights\": 73, \"listing_count\": 1}, {\"city\": \"London\", \"minimum_nights\": 75, \"listing_count\": 2}, {\"city\": \"London\", \"minimum_nights\": 76, \"listing_count\": 1}, {\"city\": \"London\", \"minimum_nights\": 77, \"listing_count\": 1}, {\"city\": \"London\", \"minimum_nights\": 78, \"listing_count\": 1}, {\"city\": \"London\", \"minimum_nights\": 79, \"listing_count\": 2}, {\"city\": \"London\", \"minimum_nights\": 80, \"listing_count\": 2}, {\"city\": \"London\", \"minimum_nights\": 85, \"listing_count\": 2}, {\"city\": \"London\", \"minimum_nights\": 87, \"listing_count\": 4}, {\"city\": \"London\", \"minimum_nights\": 88, \"listing_count\": 5}, {\"city\": \"London\", \"minimum_nights\": 90, \"listing_count\": 106}, {\"city\": \"London\", \"minimum_nights\": 91, \"listing_count\": 28}, {\"city\": \"London\", \"minimum_nights\": 92, \"listing_count\": 2}, {\"city\": \"London\", \"minimum_nights\": 93, \"listing_count\": 2}, {\"city\": \"London\", \"minimum_nights\": 95, \"listing_count\": 2}, {\"city\": \"London\", \"minimum_nights\": 100, \"listing_count\": 3}, {\"city\": \"London\", \"minimum_nights\": 108, \"listing_count\": 1}, {\"city\": \"London\", \"minimum_nights\": 116, \"listing_count\": 1}, {\"city\": \"London\", \"minimum_nights\": 120, \"listing_count\": 3}, {\"city\": \"London\", \"minimum_nights\": 140, \"listing_count\": 2}, {\"city\": \"London\", \"minimum_nights\": 150, \"listing_count\": 3}, {\"city\": \"London\", \"minimum_nights\": 170, \"listing_count\": 1}, {\"city\": \"London\", \"minimum_nights\": 180, \"listing_count\": 18}, {\"city\": \"London\", \"minimum_nights\": 183, \"listing_count\": 1}, {\"city\": \"London\", \"minimum_nights\": 185, \"listing_count\": 1}, {\"city\": \"London\", \"minimum_nights\": 245, \"listing_count\": 1}, {\"city\": \"London\", \"minimum_nights\": 250, \"listing_count\": 1}, {\"city\": \"London\", \"minimum_nights\": 270, \"listing_count\": 1}, {\"city\": \"London\", \"minimum_nights\": 277, \"listing_count\": 1}, {\"city\": \"London\", \"minimum_nights\": 300, \"listing_count\": 1}, {\"city\": \"London\", \"minimum_nights\": 345, \"listing_count\": 1}, {\"city\": \"London\", \"minimum_nights\": 360, \"listing_count\": 1}, {\"city\": \"London\", \"minimum_nights\": 361, \"listing_count\": 1}, {\"city\": \"London\", \"minimum_nights\": 364, \"listing_count\": 3}, {\"city\": \"London\", \"minimum_nights\": 365, \"listing_count\": 3}, {\"city\": \"London\", \"minimum_nights\": 999, \"listing_count\": 1}, {\"city\": \"Madrid\", \"minimum_nights\": 1, \"listing_count\": 5043}, {\"city\": \"Madrid\", \"minimum_nights\": 2, \"listing_count\": 2866}, {\"city\": \"Madrid\", \"minimum_nights\": 3, \"listing_count\": 1800}, {\"city\": \"Madrid\", \"minimum_nights\": 4, \"listing_count\": 571}, {\"city\": \"Madrid\", \"minimum_nights\": 5, \"listing_count\": 339}, {\"city\": \"Madrid\", \"minimum_nights\": 6, \"listing_count\": 111}, {\"city\": \"Madrid\", \"minimum_nights\": 7, \"listing_count\": 253}, {\"city\": \"Madrid\", \"minimum_nights\": 8, \"listing_count\": 15}, {\"city\": \"Madrid\", \"minimum_nights\": 9, \"listing_count\": 6}, {\"city\": \"Madrid\", \"minimum_nights\": 10, \"listing_count\": 79}, {\"city\": \"Madrid\", \"minimum_nights\": 11, \"listing_count\": 2}, {\"city\": \"Madrid\", \"minimum_nights\": 12, \"listing_count\": 12}, {\"city\": \"Madrid\", \"minimum_nights\": 13, \"listing_count\": 2}, {\"city\": \"Madrid\", \"minimum_nights\": 14, \"listing_count\": 46}, {\"city\": \"Madrid\", \"minimum_nights\": 15, \"listing_count\": 73}, {\"city\": \"Madrid\", \"minimum_nights\": 17, \"listing_count\": 1}, {\"city\": \"Madrid\", \"minimum_nights\": 19, \"listing_count\": 3}, {\"city\": \"Madrid\", \"minimum_nights\": 20, \"listing_count\": 58}, {\"city\": \"Madrid\", \"minimum_nights\": 21, \"listing_count\": 23}, {\"city\": \"Madrid\", \"minimum_nights\": 22, \"listing_count\": 4}, {\"city\": \"Madrid\", \"minimum_nights\": 23, \"listing_count\": 3}, {\"city\": \"Madrid\", \"minimum_nights\": 24, \"listing_count\": 2}, {\"city\": \"Madrid\", \"minimum_nights\": 25, \"listing_count\": 50}, {\"city\": \"Madrid\", \"minimum_nights\": 26, \"listing_count\": 1}, {\"city\": \"Madrid\", \"minimum_nights\": 27, \"listing_count\": 9}, {\"city\": \"Madrid\", \"minimum_nights\": 28, \"listing_count\": 110}, {\"city\": \"Madrid\", \"minimum_nights\": 29, \"listing_count\": 16}, {\"city\": \"Madrid\", \"minimum_nights\": 30, \"listing_count\": 336}, {\"city\": \"Madrid\", \"minimum_nights\": 31, \"listing_count\": 94}, {\"city\": \"Madrid\", \"minimum_nights\": 32, \"listing_count\": 65}, {\"city\": \"Madrid\", \"minimum_nights\": 33, \"listing_count\": 2}, {\"city\": \"Madrid\", \"minimum_nights\": 34, \"listing_count\": 1}, {\"city\": \"Madrid\", \"minimum_nights\": 35, \"listing_count\": 2}, {\"city\": \"Madrid\", \"minimum_nights\": 38, \"listing_count\": 1}, {\"city\": \"Madrid\", \"minimum_nights\": 40, \"listing_count\": 1}, {\"city\": \"Madrid\", \"minimum_nights\": 45, \"listing_count\": 5}, {\"city\": \"Madrid\", \"minimum_nights\": 50, \"listing_count\": 4}, {\"city\": \"Madrid\", \"minimum_nights\": 56, \"listing_count\": 1}, {\"city\": \"Madrid\", \"minimum_nights\": 58, \"listing_count\": 1}, {\"city\": \"Madrid\", \"minimum_nights\": 59, \"listing_count\": 1}, {\"city\": \"Madrid\", \"minimum_nights\": 60, \"listing_count\": 34}, {\"city\": \"Madrid\", \"minimum_nights\": 69, \"listing_count\": 1}, {\"city\": \"Madrid\", \"minimum_nights\": 70, \"listing_count\": 2}, {\"city\": \"Madrid\", \"minimum_nights\": 75, \"listing_count\": 1}, {\"city\": \"Madrid\", \"minimum_nights\": 90, \"listing_count\": 107}, {\"city\": \"Madrid\", \"minimum_nights\": 91, \"listing_count\": 5}, {\"city\": \"Madrid\", \"minimum_nights\": 100, \"listing_count\": 1}, {\"city\": \"Madrid\", \"minimum_nights\": 120, \"listing_count\": 11}, {\"city\": \"Madrid\", \"minimum_nights\": 140, \"listing_count\": 1}, {\"city\": \"Madrid\", \"minimum_nights\": 150, \"listing_count\": 3}, {\"city\": \"Madrid\", \"minimum_nights\": 160, \"listing_count\": 3}, {\"city\": \"Madrid\", \"minimum_nights\": 180, \"listing_count\": 2}, {\"city\": \"Madrid\", \"minimum_nights\": 220, \"listing_count\": 1}, {\"city\": \"Madrid\", \"minimum_nights\": 300, \"listing_count\": 3}, {\"city\": \"Madrid\", \"minimum_nights\": 330, \"listing_count\": 1}, {\"city\": \"Madrid\", \"minimum_nights\": 360, \"listing_count\": 1}, {\"city\": \"Madrid\", \"minimum_nights\": 365, \"listing_count\": 5}, {\"city\": \"Madrid\", \"minimum_nights\": 400, \"listing_count\": 1}, {\"city\": \"Madrid\", \"minimum_nights\": 600, \"listing_count\": 1}, {\"city\": \"Paris\", \"minimum_nights\": 1, \"listing_count\": 6496}, {\"city\": \"Paris\", \"minimum_nights\": 2, \"listing_count\": 8876}, {\"city\": \"Paris\", \"minimum_nights\": 3, \"listing_count\": 7892}, {\"city\": \"Paris\", \"minimum_nights\": 4, \"listing_count\": 2886}, {\"city\": \"Paris\", \"minimum_nights\": 5, \"listing_count\": 1932}, {\"city\": \"Paris\", \"minimum_nights\": 6, \"listing_count\": 549}, {\"city\": \"Paris\", \"minimum_nights\": 7, \"listing_count\": 636}, {\"city\": \"Paris\", \"minimum_nights\": 8, \"listing_count\": 60}, {\"city\": \"Paris\", \"minimum_nights\": 9, \"listing_count\": 9}, {\"city\": \"Paris\", \"minimum_nights\": 10, \"listing_count\": 130}, {\"city\": \"Paris\", \"minimum_nights\": 11, \"listing_count\": 11}, {\"city\": \"Paris\", \"minimum_nights\": 12, \"listing_count\": 27}, {\"city\": \"Paris\", \"minimum_nights\": 13, \"listing_count\": 12}, {\"city\": \"Paris\", \"minimum_nights\": 14, \"listing_count\": 52}, {\"city\": \"Paris\", \"minimum_nights\": 15, \"listing_count\": 42}, {\"city\": \"Paris\", \"minimum_nights\": 16, \"listing_count\": 2}, {\"city\": \"Paris\", \"minimum_nights\": 17, \"listing_count\": 2}, {\"city\": \"Paris\", \"minimum_nights\": 18, \"listing_count\": 4}, {\"city\": \"Paris\", \"minimum_nights\": 19, \"listing_count\": 2}, {\"city\": \"Paris\", \"minimum_nights\": 20, \"listing_count\": 31}, {\"city\": \"Paris\", \"minimum_nights\": 21, \"listing_count\": 18}, {\"city\": \"Paris\", \"minimum_nights\": 22, \"listing_count\": 1}, {\"city\": \"Paris\", \"minimum_nights\": 24, \"listing_count\": 1}, {\"city\": \"Paris\", \"minimum_nights\": 25, \"listing_count\": 10}, {\"city\": \"Paris\", \"minimum_nights\": 26, \"listing_count\": 1}, {\"city\": \"Paris\", \"minimum_nights\": 27, \"listing_count\": 1}, {\"city\": \"Paris\", \"minimum_nights\": 28, \"listing_count\": 26}, {\"city\": \"Paris\", \"minimum_nights\": 29, \"listing_count\": 4}, {\"city\": \"Paris\", \"minimum_nights\": 30, \"listing_count\": 1941}, {\"city\": \"Paris\", \"minimum_nights\": 31, \"listing_count\": 108}, {\"city\": \"Paris\", \"minimum_nights\": 32, \"listing_count\": 2}, {\"city\": \"Paris\", \"minimum_nights\": 34, \"listing_count\": 1}, {\"city\": \"Paris\", \"minimum_nights\": 35, \"listing_count\": 2}, {\"city\": \"Paris\", \"minimum_nights\": 40, \"listing_count\": 5}, {\"city\": \"Paris\", \"minimum_nights\": 44, \"listing_count\": 1}, {\"city\": \"Paris\", \"minimum_nights\": 45, \"listing_count\": 15}, {\"city\": \"Paris\", \"minimum_nights\": 49, \"listing_count\": 1}, {\"city\": \"Paris\", \"minimum_nights\": 50, \"listing_count\": 2}, {\"city\": \"Paris\", \"minimum_nights\": 55, \"listing_count\": 1}, {\"city\": \"Paris\", \"minimum_nights\": 59, \"listing_count\": 1}, {\"city\": \"Paris\", \"minimum_nights\": 60, \"listing_count\": 44}, {\"city\": \"Paris\", \"minimum_nights\": 62, \"listing_count\": 1}, {\"city\": \"Paris\", \"minimum_nights\": 65, \"listing_count\": 3}, {\"city\": \"Paris\", \"minimum_nights\": 70, \"listing_count\": 3}, {\"city\": \"Paris\", \"minimum_nights\": 79, \"listing_count\": 1}, {\"city\": \"Paris\", \"minimum_nights\": 80, \"listing_count\": 1}, {\"city\": \"Paris\", \"minimum_nights\": 90, \"listing_count\": 213}, {\"city\": \"Paris\", \"minimum_nights\": 91, \"listing_count\": 6}, {\"city\": \"Paris\", \"minimum_nights\": 92, \"listing_count\": 3}, {\"city\": \"Paris\", \"minimum_nights\": 93, \"listing_count\": 2}, {\"city\": \"Paris\", \"minimum_nights\": 99, \"listing_count\": 5}, {\"city\": \"Paris\", \"minimum_nights\": 100, \"listing_count\": 2}, {\"city\": \"Paris\", \"minimum_nights\": 110, \"listing_count\": 1}, {\"city\": \"Paris\", \"minimum_nights\": 112, \"listing_count\": 3}, {\"city\": \"Paris\", \"minimum_nights\": 120, \"listing_count\": 10}, {\"city\": \"Paris\", \"minimum_nights\": 150, \"listing_count\": 3}, {\"city\": \"Paris\", \"minimum_nights\": 168, \"listing_count\": 4}, {\"city\": \"Paris\", \"minimum_nights\": 180, \"listing_count\": 4}, {\"city\": \"Paris\", \"minimum_nights\": 200, \"listing_count\": 2}, {\"city\": \"Paris\", \"minimum_nights\": 270, \"listing_count\": 1}, {\"city\": \"Paris\", \"minimum_nights\": 300, \"listing_count\": 7}, {\"city\": \"Paris\", \"minimum_nights\": 350, \"listing_count\": 1}, {\"city\": \"Paris\", \"minimum_nights\": 360, \"listing_count\": 3}, {\"city\": \"Paris\", \"minimum_nights\": 365, \"listing_count\": 68}, {\"city\": \"Paris\", \"minimum_nights\": 500, \"listing_count\": 1}, {\"city\": \"Rome\", \"minimum_nights\": 1, \"listing_count\": 6015}, {\"city\": \"Rome\", \"minimum_nights\": 2, \"listing_count\": 6711}, {\"city\": \"Rome\", \"minimum_nights\": 3, \"listing_count\": 4188}, {\"city\": \"Rome\", \"minimum_nights\": 4, \"listing_count\": 639}, {\"city\": \"Rome\", \"minimum_nights\": 5, \"listing_count\": 279}, {\"city\": \"Rome\", \"minimum_nights\": 6, \"listing_count\": 53}, {\"city\": \"Rome\", \"minimum_nights\": 7, \"listing_count\": 103}, {\"city\": \"Rome\", \"minimum_nights\": 8, \"listing_count\": 4}, {\"city\": \"Rome\", \"minimum_nights\": 10, \"listing_count\": 20}, {\"city\": \"Rome\", \"minimum_nights\": 13, \"listing_count\": 1}, {\"city\": \"Rome\", \"minimum_nights\": 14, \"listing_count\": 22}, {\"city\": \"Rome\", \"minimum_nights\": 15, \"listing_count\": 22}, {\"city\": \"Rome\", \"minimum_nights\": 20, \"listing_count\": 11}, {\"city\": \"Rome\", \"minimum_nights\": 21, \"listing_count\": 5}, {\"city\": \"Rome\", \"minimum_nights\": 24, \"listing_count\": 1}, {\"city\": \"Rome\", \"minimum_nights\": 25, \"listing_count\": 1}, {\"city\": \"Rome\", \"minimum_nights\": 28, \"listing_count\": 14}, {\"city\": \"Rome\", \"minimum_nights\": 29, \"listing_count\": 5}, {\"city\": \"Rome\", \"minimum_nights\": 30, \"listing_count\": 43}, {\"city\": \"Rome\", \"minimum_nights\": 31, \"listing_count\": 36}, {\"city\": \"Rome\", \"minimum_nights\": 40, \"listing_count\": 1}, {\"city\": \"Rome\", \"minimum_nights\": 60, \"listing_count\": 4}, {\"city\": \"Rome\", \"minimum_nights\": 90, \"listing_count\": 3}, {\"city\": \"Rome\", \"minimum_nights\": 120, \"listing_count\": 1}, {\"city\": \"Rome\", \"minimum_nights\": 730, \"listing_count\": 1}, {\"city\": \"Rome\", \"minimum_nights\": 999, \"listing_count\": 1}, {\"city\": \"Venice\", \"minimum_nights\": 1, \"listing_count\": 1805}, {\"city\": \"Venice\", \"minimum_nights\": 2, \"listing_count\": 1932}, {\"city\": \"Venice\", \"minimum_nights\": 3, \"listing_count\": 1267}, {\"city\": \"Venice\", \"minimum_nights\": 4, \"listing_count\": 219}, {\"city\": \"Venice\", \"minimum_nights\": 5, \"listing_count\": 92}, {\"city\": \"Venice\", \"minimum_nights\": 6, \"listing_count\": 15}, {\"city\": \"Venice\", \"minimum_nights\": 7, \"listing_count\": 59}, {\"city\": \"Venice\", \"minimum_nights\": 8, \"listing_count\": 2}, {\"city\": \"Venice\", \"minimum_nights\": 10, \"listing_count\": 1}, {\"city\": \"Venice\", \"minimum_nights\": 12, \"listing_count\": 1}, {\"city\": \"Venice\", \"minimum_nights\": 15, \"listing_count\": 2}, {\"city\": \"Venice\", \"minimum_nights\": 20, \"listing_count\": 1}, {\"city\": \"Venice\", \"minimum_nights\": 21, \"listing_count\": 1}, {\"city\": \"Venice\", \"minimum_nights\": 25, \"listing_count\": 1}, {\"city\": \"Venice\", \"minimum_nights\": 27, \"listing_count\": 1}, {\"city\": \"Venice\", \"minimum_nights\": 28, \"listing_count\": 1}, {\"city\": \"Venice\", \"minimum_nights\": 30, \"listing_count\": 10}, {\"city\": \"Venice\", \"minimum_nights\": 31, \"listing_count\": 5}, {\"city\": \"Venice\", \"minimum_nights\": 32, \"listing_count\": 1}, {\"city\": \"Venice\", \"minimum_nights\": 40, \"listing_count\": 1}, {\"city\": \"Venice\", \"minimum_nights\": 60, \"listing_count\": 1}, {\"city\": \"Venice\", \"minimum_nights\": 200, \"listing_count\": 1}, {\"city\": \"Venice\", \"minimum_nights\": 999, \"listing_count\": 1}, {\"city\": \"Vienna\", \"minimum_nights\": 1, \"listing_count\": 2518}, {\"city\": \"Vienna\", \"minimum_nights\": 2, \"listing_count\": 1841}, {\"city\": \"Vienna\", \"minimum_nights\": 3, \"listing_count\": 954}, {\"city\": \"Vienna\", \"minimum_nights\": 4, \"listing_count\": 229}, {\"city\": \"Vienna\", \"minimum_nights\": 5, \"listing_count\": 139}, {\"city\": \"Vienna\", \"minimum_nights\": 6, \"listing_count\": 43}, {\"city\": \"Vienna\", \"minimum_nights\": 7, \"listing_count\": 82}, {\"city\": \"Vienna\", \"minimum_nights\": 8, \"listing_count\": 3}, {\"city\": \"Vienna\", \"minimum_nights\": 9, \"listing_count\": 5}, {\"city\": \"Vienna\", \"minimum_nights\": 10, \"listing_count\": 14}, {\"city\": \"Vienna\", \"minimum_nights\": 11, \"listing_count\": 1}, {\"city\": \"Vienna\", \"minimum_nights\": 12, \"listing_count\": 1}, {\"city\": \"Vienna\", \"minimum_nights\": 13, \"listing_count\": 2}, {\"city\": \"Vienna\", \"minimum_nights\": 14, \"listing_count\": 31}, {\"city\": \"Vienna\", \"minimum_nights\": 15, \"listing_count\": 4}, {\"city\": \"Vienna\", \"minimum_nights\": 16, \"listing_count\": 2}, {\"city\": \"Vienna\", \"minimum_nights\": 17, \"listing_count\": 1}, {\"city\": \"Vienna\", \"minimum_nights\": 19, \"listing_count\": 1}, {\"city\": \"Vienna\", \"minimum_nights\": 20, \"listing_count\": 15}, {\"city\": \"Vienna\", \"minimum_nights\": 21, \"listing_count\": 33}, {\"city\": \"Vienna\", \"minimum_nights\": 22, \"listing_count\": 1}, {\"city\": \"Vienna\", \"minimum_nights\": 24, \"listing_count\": 2}, {\"city\": \"Vienna\", \"minimum_nights\": 25, \"listing_count\": 4}, {\"city\": \"Vienna\", \"minimum_nights\": 26, \"listing_count\": 1}, {\"city\": \"Vienna\", \"minimum_nights\": 28, \"listing_count\": 59}, {\"city\": \"Vienna\", \"minimum_nights\": 29, \"listing_count\": 29}, {\"city\": \"Vienna\", \"minimum_nights\": 30, \"listing_count\": 306}, {\"city\": \"Vienna\", \"minimum_nights\": 31, \"listing_count\": 97}, {\"city\": \"Vienna\", \"minimum_nights\": 32, \"listing_count\": 15}, {\"city\": \"Vienna\", \"minimum_nights\": 35, \"listing_count\": 9}, {\"city\": \"Vienna\", \"minimum_nights\": 36, \"listing_count\": 1}, {\"city\": \"Vienna\", \"minimum_nights\": 38, \"listing_count\": 1}, {\"city\": \"Vienna\", \"minimum_nights\": 40, \"listing_count\": 4}, {\"city\": \"Vienna\", \"minimum_nights\": 45, \"listing_count\": 1}, {\"city\": \"Vienna\", \"minimum_nights\": 55, \"listing_count\": 1}, {\"city\": \"Vienna\", \"minimum_nights\": 58, \"listing_count\": 2}, {\"city\": \"Vienna\", \"minimum_nights\": 59, \"listing_count\": 1}, {\"city\": \"Vienna\", \"minimum_nights\": 60, \"listing_count\": 41}, {\"city\": \"Vienna\", \"minimum_nights\": 61, \"listing_count\": 1}, {\"city\": \"Vienna\", \"minimum_nights\": 65, \"listing_count\": 1}, {\"city\": \"Vienna\", \"minimum_nights\": 75, \"listing_count\": 1}, {\"city\": \"Vienna\", \"minimum_nights\": 90, \"listing_count\": 46}, {\"city\": \"Vienna\", \"minimum_nights\": 91, \"listing_count\": 10}, {\"city\": \"Vienna\", \"minimum_nights\": 92, \"listing_count\": 3}, {\"city\": \"Vienna\", \"minimum_nights\": 95, \"listing_count\": 1}, {\"city\": \"Vienna\", \"minimum_nights\": 100, \"listing_count\": 1}, {\"city\": \"Vienna\", \"minimum_nights\": 120, \"listing_count\": 2}, {\"city\": \"Vienna\", \"minimum_nights\": 150, \"listing_count\": 1}, {\"city\": \"Vienna\", \"minimum_nights\": 155, \"listing_count\": 1}, {\"city\": \"Vienna\", \"minimum_nights\": 180, \"listing_count\": 3}, {\"city\": \"Vienna\", \"minimum_nights\": 182, \"listing_count\": 1}, {\"city\": \"Vienna\", \"minimum_nights\": 365, \"listing_count\": 2}, {\"city\": \"Vienna\", \"minimum_nights\": 550, \"listing_count\": 1}], \"data-a0a980626c752a3a0681b338ba750771\": [{\"x\": 31}]}}, {\"mode\": \"vega-lite\"});\n",
       "</script>"
      ],
      "text/plain": [
       "alt.LayerChart(...)"
      ]
     },
     "execution_count": 89,
     "metadata": {},
     "output_type": "execute_result"
    }
   ],
   "source": [
    "# Create a dropdown for city selection with customized appearance\n",
    "city_dropdown = alt.binding_select(\n",
    "    options=cities, \n",
    "    name=\"Select City  :    \",\n",
    "    labels=cities\n",
    ")\n",
    "city_select = alt.selection_point(fields=['city'], bind=city_dropdown, value='Amsterdam', empty=False)  # Set default to 'Amsterdam'\n",
    "\n",
    "# Group by city and minimum_nights, then count the occurrences of each value\n",
    "minimum_nights_counts = cities_together_data.groupby(['city', 'minimum_nights']).size().reset_index(name='listing_count')\n",
    "\n",
    "# Create the bar chart for minimum nights distribution\n",
    "minimum_nights_chart = alt.Chart(minimum_nights_counts).mark_bar().encode(\n",
    "    x='minimum_nights:O',  # Ordinal encoding for minimum nights\n",
    "    y='listing_count:Q',  # Count of listings\n",
    "    color='minimum_nights:N',  # Color by minimum nights\n",
    "    tooltip=['minimum_nights:N', 'listing_count:Q']  # Show minimum nights and count on hover\n",
    ").add_params(\n",
    "    city_select\n",
    ").transform_filter(\n",
    "    city_select\n",
    ")\n",
    "\n",
    "# Add vertical line at 30\n",
    "line_at_31 = alt.Chart(pd.DataFrame({'x': [31]})).mark_rule(color='black').encode(\n",
    "    x='x:O'\n",
    ")\n",
    "\n",
    "# Combine the bar chart and the vertical line\n",
    "final_chart = minimum_nights_chart + line_at_31\n",
    "\n",
    "final_chart.properties(\n",
    "    width=600,\n",
    "    height=400,\n",
    "    title=\"Distribution of Listings by Minimum Nights per City\"\n",
    ")"
   ]
  },
  {
   "cell_type": "markdown",
   "metadata": {},
   "source": [
    "Create the \"Distribution of Listings per Host per City\" interactive visualization"
   ]
  },
  {
   "cell_type": "code",
   "execution_count": 90,
   "metadata": {},
   "outputs": [
    {
     "data": {
      "text/html": [
       "\n",
       "<style>\n",
       "  #altair-viz-882c4e9fe75c49aa93db1a51e7bb75c8.vega-embed {\n",
       "    width: 100%;\n",
       "    display: flex;\n",
       "  }\n",
       "\n",
       "  #altair-viz-882c4e9fe75c49aa93db1a51e7bb75c8.vega-embed details,\n",
       "  #altair-viz-882c4e9fe75c49aa93db1a51e7bb75c8.vega-embed details summary {\n",
       "    position: relative;\n",
       "  }\n",
       "</style>\n",
       "<div id=\"altair-viz-882c4e9fe75c49aa93db1a51e7bb75c8\"></div>\n",
       "<script type=\"text/javascript\">\n",
       "  var VEGA_DEBUG = (typeof VEGA_DEBUG == \"undefined\") ? {} : VEGA_DEBUG;\n",
       "  (function(spec, embedOpt){\n",
       "    let outputDiv = document.currentScript.previousElementSibling;\n",
       "    if (outputDiv.id !== \"altair-viz-882c4e9fe75c49aa93db1a51e7bb75c8\") {\n",
       "      outputDiv = document.getElementById(\"altair-viz-882c4e9fe75c49aa93db1a51e7bb75c8\");\n",
       "    }\n",
       "    const paths = {\n",
       "      \"vega\": \"https://cdn.jsdelivr.net/npm/vega@5?noext\",\n",
       "      \"vega-lib\": \"https://cdn.jsdelivr.net/npm/vega-lib?noext\",\n",
       "      \"vega-lite\": \"https://cdn.jsdelivr.net/npm/vega-lite@5.8.0?noext\",\n",
       "      \"vega-embed\": \"https://cdn.jsdelivr.net/npm/vega-embed@6?noext\",\n",
       "    };\n",
       "\n",
       "    function maybeLoadScript(lib, version) {\n",
       "      var key = `${lib.replace(\"-\", \"\")}_version`;\n",
       "      return (VEGA_DEBUG[key] == version) ?\n",
       "        Promise.resolve(paths[lib]) :\n",
       "        new Promise(function(resolve, reject) {\n",
       "          var s = document.createElement('script');\n",
       "          document.getElementsByTagName(\"head\")[0].appendChild(s);\n",
       "          s.async = true;\n",
       "          s.onload = () => {\n",
       "            VEGA_DEBUG[key] = version;\n",
       "            return resolve(paths[lib]);\n",
       "          };\n",
       "          s.onerror = () => reject(`Error loading script: ${paths[lib]}`);\n",
       "          s.src = paths[lib];\n",
       "        });\n",
       "    }\n",
       "\n",
       "    function showError(err) {\n",
       "      outputDiv.innerHTML = `<div class=\"error\" style=\"color:red;\">${err}</div>`;\n",
       "      throw err;\n",
       "    }\n",
       "\n",
       "    function displayChart(vegaEmbed) {\n",
       "      vegaEmbed(outputDiv, spec, embedOpt)\n",
       "        .catch(err => showError(`Javascript Error: ${err.message}<br>This usually means there's a typo in your chart specification. See the javascript console for the full traceback.`));\n",
       "    }\n",
       "\n",
       "    if(typeof define === \"function\" && define.amd) {\n",
       "      requirejs.config({paths});\n",
       "      require([\"vega-embed\"], displayChart, err => showError(`Error loading script: ${err.message}`));\n",
       "    } else {\n",
       "      maybeLoadScript(\"vega\", \"5\")\n",
       "        .then(() => maybeLoadScript(\"vega-lite\", \"5.8.0\"))\n",
       "        .then(() => maybeLoadScript(\"vega-embed\", \"6\"))\n",
       "        .catch(showError)\n",
       "        .then(() => displayChart(vegaEmbed));\n",
       "    }\n",
       "  })({\"config\": {\"view\": {\"continuousWidth\": 300, \"continuousHeight\": 300}, \"axisX\": {\"labelAngle\": 0, \"labelFontSize\": 12, \"titleFontSize\": 14}, \"title\": {\"anchor\": \"start\", \"fontSize\": 18}}, \"data\": {\"name\": \"data-04b72f042f285f58a2db864cdc2fe88c\"}, \"mark\": {\"type\": \"bar\", \"size\": 40}, \"encoding\": {\"tooltip\": [{\"field\": \"host_total_listings_count\", \"type\": \"nominal\"}, {\"field\": \"count\", \"type\": \"quantitative\"}], \"x\": {\"field\": \"host_total_listings_count\", \"sort\": [\"1\", \"2\", \"3\", \"4\", \"5\", \"6\", \"7\", \"8\", \"9\", \"10+\"], \"title\": \"Listings per Host\", \"type\": \"ordinal\"}, \"y\": {\"field\": \"count\", \"title\": \"Listings\", \"type\": \"quantitative\"}}, \"height\": 400, \"params\": [{\"name\": \"param_10\", \"select\": {\"type\": \"point\", \"fields\": [\"city\"]}, \"bind\": {\"input\": \"select\", \"options\": [\"Amsterdam\", \"Athens\", \"Barcelona\", \"Berlin\", \"Copenhagen\", \"Dublin\", \"Lisbon\", \"London\", \"Madrid\", \"Paris\", \"Rome\", \"Venice\", \"Vienna\"], \"labels\": [\"Amsterdam\", \"Athens\", \"Barcelona\", \"Berlin\", \"Copenhagen\", \"Dublin\", \"Lisbon\", \"London\", \"Madrid\", \"Paris\", \"Rome\", \"Venice\", \"Vienna\"], \"name\": \"Select City  :    \"}, \"value\": \"Amsterdam\"}], \"title\": \"Distribution of Listings per Host per City\", \"transform\": [{\"filter\": {\"param\": \"param_10\", \"empty\": false}}], \"width\": 600, \"$schema\": \"https://vega.github.io/schema/vega-lite/v5.8.0.json\", \"datasets\": {\"data-04b72f042f285f58a2db864cdc2fe88c\": [{\"city\": \"Amsterdam\", \"host_total_listings_count\": \"1.0\", \"count\": 2823}, {\"city\": \"Amsterdam\", \"host_total_listings_count\": \"10+\", \"count\": 260}, {\"city\": \"Amsterdam\", \"host_total_listings_count\": \"2.0\", \"count\": 997}, {\"city\": \"Amsterdam\", \"host_total_listings_count\": \"3.0\", \"count\": 428}, {\"city\": \"Amsterdam\", \"host_total_listings_count\": \"4.0\", \"count\": 220}, {\"city\": \"Amsterdam\", \"host_total_listings_count\": \"5.0\", \"count\": 119}, {\"city\": \"Amsterdam\", \"host_total_listings_count\": \"6.0\", \"count\": 105}, {\"city\": \"Amsterdam\", \"host_total_listings_count\": \"7.0\", \"count\": 34}, {\"city\": \"Amsterdam\", \"host_total_listings_count\": \"8.0\", \"count\": 30}, {\"city\": \"Amsterdam\", \"host_total_listings_count\": \"9.0\", \"count\": 50}, {\"city\": \"Athens\", \"host_total_listings_count\": \"1.0\", \"count\": 1509}, {\"city\": \"Athens\", \"host_total_listings_count\": \"10+\", \"count\": 3334}, {\"city\": \"Athens\", \"host_total_listings_count\": \"2.0\", \"count\": 928}, {\"city\": \"Athens\", \"host_total_listings_count\": \"3.0\", \"count\": 509}, {\"city\": \"Athens\", \"host_total_listings_count\": \"4.0\", \"count\": 365}, {\"city\": \"Athens\", \"host_total_listings_count\": \"5.0\", \"count\": 288}, {\"city\": \"Athens\", \"host_total_listings_count\": \"6.0\", \"count\": 301}, {\"city\": \"Athens\", \"host_total_listings_count\": \"7.0\", \"count\": 210}, {\"city\": \"Athens\", \"host_total_listings_count\": \"8.0\", \"count\": 195}, {\"city\": \"Athens\", \"host_total_listings_count\": \"9.0\", \"count\": 131}, {\"city\": \"Barcelona\", \"host_total_listings_count\": \"1.0\", \"count\": 891}, {\"city\": \"Barcelona\", \"host_total_listings_count\": \"10+\", \"count\": 4684}, {\"city\": \"Barcelona\", \"host_total_listings_count\": \"2.0\", \"count\": 692}, {\"city\": \"Barcelona\", \"host_total_listings_count\": \"3.0\", \"count\": 565}, {\"city\": \"Barcelona\", \"host_total_listings_count\": \"4.0\", \"count\": 449}, {\"city\": \"Barcelona\", \"host_total_listings_count\": \"5.0\", \"count\": 361}, {\"city\": \"Barcelona\", \"host_total_listings_count\": \"6.0\", \"count\": 353}, {\"city\": \"Barcelona\", \"host_total_listings_count\": \"7.0\", \"count\": 283}, {\"city\": \"Barcelona\", \"host_total_listings_count\": \"8.0\", \"count\": 212}, {\"city\": \"Barcelona\", \"host_total_listings_count\": \"9.0\", \"count\": 203}, {\"city\": \"Berlin\", \"host_total_listings_count\": \"1.0\", \"count\": 1741}, {\"city\": \"Berlin\", \"host_total_listings_count\": \"10+\", \"count\": 1064}, {\"city\": \"Berlin\", \"host_total_listings_count\": \"2.0\", \"count\": 895}, {\"city\": \"Berlin\", \"host_total_listings_count\": \"3.0\", \"count\": 547}, {\"city\": \"Berlin\", \"host_total_listings_count\": \"4.0\", \"count\": 333}, {\"city\": \"Berlin\", \"host_total_listings_count\": \"5.0\", \"count\": 267}, {\"city\": \"Berlin\", \"host_total_listings_count\": \"6.0\", \"count\": 158}, {\"city\": \"Berlin\", \"host_total_listings_count\": \"7.0\", \"count\": 167}, {\"city\": \"Berlin\", \"host_total_listings_count\": \"8.0\", \"count\": 174}, {\"city\": \"Berlin\", \"host_total_listings_count\": \"9.0\", \"count\": 151}, {\"city\": \"Copenhagen\", \"host_total_listings_count\": \"1.0\", \"count\": 5822}, {\"city\": \"Copenhagen\", \"host_total_listings_count\": \"10+\", \"count\": 363}, {\"city\": \"Copenhagen\", \"host_total_listings_count\": \"2.0\", \"count\": 2287}, {\"city\": \"Copenhagen\", \"host_total_listings_count\": \"3.0\", \"count\": 965}, {\"city\": \"Copenhagen\", \"host_total_listings_count\": \"4.0\", \"count\": 396}, {\"city\": \"Copenhagen\", \"host_total_listings_count\": \"5.0\", \"count\": 200}, {\"city\": \"Copenhagen\", \"host_total_listings_count\": \"6.0\", \"count\": 99}, {\"city\": \"Copenhagen\", \"host_total_listings_count\": \"7.0\", \"count\": 71}, {\"city\": \"Copenhagen\", \"host_total_listings_count\": \"8.0\", \"count\": 27}, {\"city\": \"Copenhagen\", \"host_total_listings_count\": \"9.0\", \"count\": 46}, {\"city\": \"Dublin\", \"host_total_listings_count\": \"1.0\", \"count\": 747}, {\"city\": \"Dublin\", \"host_total_listings_count\": \"10+\", \"count\": 687}, {\"city\": \"Dublin\", \"host_total_listings_count\": \"2.0\", \"count\": 430}, {\"city\": \"Dublin\", \"host_total_listings_count\": \"3.0\", \"count\": 274}, {\"city\": \"Dublin\", \"host_total_listings_count\": \"4.0\", \"count\": 174}, {\"city\": \"Dublin\", \"host_total_listings_count\": \"5.0\", \"count\": 110}, {\"city\": \"Dublin\", \"host_total_listings_count\": \"6.0\", \"count\": 103}, {\"city\": \"Dublin\", \"host_total_listings_count\": \"7.0\", \"count\": 86}, {\"city\": \"Dublin\", \"host_total_listings_count\": \"8.0\", \"count\": 75}, {\"city\": \"Dublin\", \"host_total_listings_count\": \"9.0\", \"count\": 13}, {\"city\": \"Lisbon\", \"host_total_listings_count\": \"1.0\", \"count\": 2446}, {\"city\": \"Lisbon\", \"host_total_listings_count\": \"10+\", \"count\": 5833}, {\"city\": \"Lisbon\", \"host_total_listings_count\": \"2.0\", \"count\": 1477}, {\"city\": \"Lisbon\", \"host_total_listings_count\": \"3.0\", \"count\": 1163}, {\"city\": \"Lisbon\", \"host_total_listings_count\": \"4.0\", \"count\": 902}, {\"city\": \"Lisbon\", \"host_total_listings_count\": \"5.0\", \"count\": 701}, {\"city\": \"Lisbon\", \"host_total_listings_count\": \"6.0\", \"count\": 653}, {\"city\": \"Lisbon\", \"host_total_listings_count\": \"7.0\", \"count\": 467}, {\"city\": \"Lisbon\", \"host_total_listings_count\": \"8.0\", \"count\": 427}, {\"city\": \"Lisbon\", \"host_total_listings_count\": \"9.0\", \"count\": 408}, {\"city\": \"London\", \"host_total_listings_count\": \"1.0\", \"count\": 7229}, {\"city\": \"London\", \"host_total_listings_count\": \"10+\", \"count\": 9653}, {\"city\": \"London\", \"host_total_listings_count\": \"2.0\", \"count\": 4402}, {\"city\": \"London\", \"host_total_listings_count\": \"3.0\", \"count\": 2645}, {\"city\": \"London\", \"host_total_listings_count\": \"4.0\", \"count\": 1811}, {\"city\": \"London\", \"host_total_listings_count\": \"5.0\", \"count\": 1313}, {\"city\": \"London\", \"host_total_listings_count\": \"6.0\", \"count\": 945}, {\"city\": \"London\", \"host_total_listings_count\": \"7.0\", \"count\": 672}, {\"city\": \"London\", \"host_total_listings_count\": \"8.0\", \"count\": 675}, {\"city\": \"London\", \"host_total_listings_count\": \"9.0\", \"count\": 505}, {\"city\": \"Madrid\", \"host_total_listings_count\": \"1.0\", \"count\": 2425}, {\"city\": \"Madrid\", \"host_total_listings_count\": \"10+\", \"count\": 4796}, {\"city\": \"Madrid\", \"host_total_listings_count\": \"2.0\", \"count\": 1505}, {\"city\": \"Madrid\", \"host_total_listings_count\": \"3.0\", \"count\": 893}, {\"city\": \"Madrid\", \"host_total_listings_count\": \"4.0\", \"count\": 726}, {\"city\": \"Madrid\", \"host_total_listings_count\": \"5.0\", \"count\": 518}, {\"city\": \"Madrid\", \"host_total_listings_count\": \"6.0\", \"count\": 470}, {\"city\": \"Madrid\", \"host_total_listings_count\": \"7.0\", \"count\": 389}, {\"city\": \"Madrid\", \"host_total_listings_count\": \"8.0\", \"count\": 312}, {\"city\": \"Madrid\", \"host_total_listings_count\": \"9.0\", \"count\": 162}, {\"city\": \"Paris\", \"host_total_listings_count\": \"1.0\", \"count\": 13914}, {\"city\": \"Paris\", \"host_total_listings_count\": \"10+\", \"count\": 6830}, {\"city\": \"Paris\", \"host_total_listings_count\": \"2.0\", \"count\": 5346}, {\"city\": \"Paris\", \"host_total_listings_count\": \"3.0\", \"count\": 2429}, {\"city\": \"Paris\", \"host_total_listings_count\": \"4.0\", \"count\": 1395}, {\"city\": \"Paris\", \"host_total_listings_count\": \"5.0\", \"count\": 792}, {\"city\": \"Paris\", \"host_total_listings_count\": \"6.0\", \"count\": 507}, {\"city\": \"Paris\", \"host_total_listings_count\": \"7.0\", \"count\": 403}, {\"city\": \"Paris\", \"host_total_listings_count\": \"8.0\", \"count\": 298}, {\"city\": \"Paris\", \"host_total_listings_count\": \"9.0\", \"count\": 271}, {\"city\": \"Rome\", \"host_total_listings_count\": \"1.0\", \"count\": 4854}, {\"city\": \"Rome\", \"host_total_listings_count\": \"10+\", \"count\": 4336}, {\"city\": \"Rome\", \"host_total_listings_count\": \"2.0\", \"count\": 2567}, {\"city\": \"Rome\", \"host_total_listings_count\": \"3.0\", \"count\": 1820}, {\"city\": \"Rome\", \"host_total_listings_count\": \"4.0\", \"count\": 1331}, {\"city\": \"Rome\", \"host_total_listings_count\": \"5.0\", \"count\": 1055}, {\"city\": \"Rome\", \"host_total_listings_count\": \"6.0\", \"count\": 778}, {\"city\": \"Rome\", \"host_total_listings_count\": \"7.0\", \"count\": 559}, {\"city\": \"Rome\", \"host_total_listings_count\": \"8.0\", \"count\": 538}, {\"city\": \"Rome\", \"host_total_listings_count\": \"9.0\", \"count\": 346}, {\"city\": \"Venice\", \"host_total_listings_count\": \"1.0\", \"count\": 1141}, {\"city\": \"Venice\", \"host_total_listings_count\": \"10+\", \"count\": 1633}, {\"city\": \"Venice\", \"host_total_listings_count\": \"2.0\", \"count\": 706}, {\"city\": \"Venice\", \"host_total_listings_count\": \"3.0\", \"count\": 530}, {\"city\": \"Venice\", \"host_total_listings_count\": \"4.0\", \"count\": 435}, {\"city\": \"Venice\", \"host_total_listings_count\": \"5.0\", \"count\": 270}, {\"city\": \"Venice\", \"host_total_listings_count\": \"6.0\", \"count\": 236}, {\"city\": \"Venice\", \"host_total_listings_count\": \"7.0\", \"count\": 171}, {\"city\": \"Venice\", \"host_total_listings_count\": \"8.0\", \"count\": 151}, {\"city\": \"Venice\", \"host_total_listings_count\": \"9.0\", \"count\": 147}, {\"city\": \"Vienna\", \"host_total_listings_count\": \"1.0\", \"count\": 1165}, {\"city\": \"Vienna\", \"host_total_listings_count\": \"10+\", \"count\": 2859}, {\"city\": \"Vienna\", \"host_total_listings_count\": \"2.0\", \"count\": 693}, {\"city\": \"Vienna\", \"host_total_listings_count\": \"3.0\", \"count\": 511}, {\"city\": \"Vienna\", \"host_total_listings_count\": \"4.0\", \"count\": 364}, {\"city\": \"Vienna\", \"host_total_listings_count\": \"5.0\", \"count\": 285}, {\"city\": \"Vienna\", \"host_total_listings_count\": \"6.0\", \"count\": 225}, {\"city\": \"Vienna\", \"host_total_listings_count\": \"7.0\", \"count\": 204}, {\"city\": \"Vienna\", \"host_total_listings_count\": \"8.0\", \"count\": 158}, {\"city\": \"Vienna\", \"host_total_listings_count\": \"9.0\", \"count\": 105}]}}, {\"mode\": \"vega-lite\"});\n",
       "</script>"
      ],
      "text/plain": [
       "alt.Chart(...)"
      ]
     },
     "execution_count": 90,
     "metadata": {},
     "output_type": "execute_result"
    }
   ],
   "source": [
    "# Create a dropdown for city selection with customized appearance\n",
    "city_dropdown = alt.binding_select(\n",
    "    options=cities, \n",
    "    name=\"Select City  :    \",\n",
    "    labels=cities\n",
    ")\n",
    "city_select = alt.selection_point(fields=['city'], bind=city_dropdown, value='Amsterdam', empty=False)  # Set default to 'Amsterdam'\n",
    "\n",
    "# Group by 'host_total_listings_count' and filter by city selection\n",
    "listings_per_host_counts = (\n",
    "    cities_together_data.groupby(['city', 'host_total_listings_count'])\n",
    "    .size()\n",
    "    .reset_index(name='count')\n",
    ")\n",
    "\n",
    "# Binning: Consolidate host counts with more than 10 listings into '10+'\n",
    "listings_per_host_counts['host_total_listings_count'] = listings_per_host_counts['host_total_listings_count'].apply(\n",
    "    lambda x: '10+' if x > 9 else str(x)\n",
    ")\n",
    "\n",
    "# Re-group after binning\n",
    "listings_per_host_counts = (\n",
    "    listings_per_host_counts.groupby(['city', 'host_total_listings_count'])['count']\n",
    "    .sum()\n",
    "    .reset_index()\n",
    ")\n",
    "\n",
    "\n",
    "# Define the sort order for the x-axis\n",
    "order = ['1', '2', '3', '4', '5', '6', '7', '8', '9', '10+']\n",
    "\n",
    "# Create the bar chart with city filter\n",
    "listings_per_host_chart = alt.Chart(listings_per_host_counts).mark_bar(size=40).encode(\n",
    "    x=alt.X('host_total_listings_count:O', title=\"Listings per Host\", sort=order),\n",
    "    y=alt.Y('count:Q', title=\"Listings\"),\n",
    "    tooltip=['host_total_listings_count', 'count']\n",
    ").add_params(\n",
    "    city_select\n",
    ").transform_filter(\n",
    "    city_select\n",
    ").properties(\n",
    "    width=600,\n",
    "    height=400,\n",
    "    title=\"Distribution of Listings per Host per City\"\n",
    ").configure_title(\n",
    "    fontSize=18,\n",
    "    anchor='start'\n",
    ").configure_axisX(\n",
    "    labelFontSize=12,\n",
    "    titleFontSize=14,\n",
    "    labelAngle=0  # Ensures x-axis labels are displayed without decimals\n",
    ")\n",
    "\n",
    "listings_per_host_chart"
   ]
  }
 ],
 "metadata": {
  "kernelspec": {
   "display_name": "Python 3 (ipykernel)",
   "language": "python",
   "name": "python3"
  },
  "language_info": {
   "codemirror_mode": {
    "name": "ipython",
    "version": 3
   },
   "file_extension": ".py",
   "mimetype": "text/x-python",
   "name": "python",
   "nbconvert_exporter": "python",
   "pygments_lexer": "ipython3",
   "version": "3.12.4"
  }
 },
 "nbformat": 4,
 "nbformat_minor": 4
}
